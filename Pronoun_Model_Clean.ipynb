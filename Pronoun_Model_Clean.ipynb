{
  "nbformat": 4,
  "nbformat_minor": 0,
  "metadata": {
    "colab": {
      "name": "Pronoun Model.ipynb",
      "provenance": [],
      "machine_shape": "hm",
      "authorship_tag": "ABX9TyPhQ/zpeuZuwBfGxV4Pj5Fj",
      "include_colab_link": true
    },
    "kernelspec": {
      "name": "python3",
      "display_name": "Python 3"
    },
    "accelerator": "GPU"
  },
  "cells": [
    {
      "cell_type": "markdown",
      "metadata": {
        "id": "view-in-github",
        "colab_type": "text"
      },
      "source": [
        "<a href=\"https://colab.research.google.com/github/xiaomeng-ma/Input-Pronoun/blob/master/Pronoun_Model_Clean.ipynb\" target=\"_parent\"><img src=\"https://colab.research.google.com/assets/colab-badge.svg\" alt=\"Open In Colab\"/></a>"
      ]
    },
    {
      "cell_type": "code",
      "metadata": {
        "id": "aVbaGUJ9oIsL",
        "colab_type": "code",
        "colab": {}
      },
      "source": [
        "!pip install PyDrive\n",
        "from pydrive.auth import GoogleAuth\n",
        "from pydrive.drive import GoogleDrive\n",
        "from google.colab import auth\n",
        "from oauth2client.client import GoogleCredentials\n",
        "# Authenticate and create the PyDrive client.\n",
        "auth.authenticate_user()\n",
        "gauth = GoogleAuth()\n",
        "gauth.credentials = GoogleCredentials.get_application_default()\n",
        "drive = GoogleDrive(gauth)"
      ],
      "execution_count": null,
      "outputs": []
    },
    {
      "cell_type": "code",
      "metadata": {
        "id": "wNfwG4FLoURA",
        "colab_type": "code",
        "colab": {}
      },
      "source": [
        "from google.colab import drive \n",
        "drive.mount('/content/drive')"
      ],
      "execution_count": null,
      "outputs": []
    },
    {
      "cell_type": "code",
      "metadata": {
        "id": "EKyLtIWKodtI",
        "colab_type": "code",
        "colab": {}
      },
      "source": [
        "!pip install git+https://github.com/tensorflow/docs\n",
        "\n",
        "import tensorflow_docs as tfdocs\n",
        "import tensorflow_docs.plots\n",
        "import tensorflow_docs.modeling\n",
        "import tensorflow as tf\n",
        "import matplotlib.pyplot as plt\n",
        "def plot_graphs(history, metric):\n",
        "    plt.plot(history.history[metric])\n",
        "    plt.plot(history.history['val_'+metric], '')\n",
        "    plt.xlabel(\"Epochs\")\n",
        "    plt.ylabel(metric)\n",
        "    plt.legend([metric, 'val_'+metric])\n",
        "    plt.show()\n",
        "from nltk.corpus import PlaintextCorpusReader\n",
        "from nltk.corpus.reader import CHILDESCorpusReader\n",
        "import numpy as np\n",
        "import pandas as pd\n",
        "from pandas import DataFrame\n",
        "from nltk.probability import FreqDist\n",
        "import string\n",
        "from nltk.stem.wordnet import WordNetLemmatizer\n",
        "\n",
        "import matplotlib.pyplot as plt\n",
        "from scipy import stats\n",
        "import itertools\n",
        "\n",
        "from scipy import optimize\n",
        "from scipy.optimize import curve_fit\n",
        "import seaborn as sns\n",
        "import matplotlib.pyplot as plt\n",
        "from numpy import log as ln\n",
        "import tensorflow_addons as tfa\n",
        "\n",
        "import numpy\n",
        "import math\n",
        "from keras.preprocessing import sequence\n",
        "from keras.models import Sequential\n",
        "from keras.layers import Dense, Dropout, Activation,Flatten\n",
        "from keras.layers import LSTM, Bidirectional\n",
        "from tensorflow.keras.layers import Embedding, TimeDistributed\n",
        "from keras.layers import Conv1D,Conv2D, GlobalMaxPooling1D, GlobalMaxPooling2D\n",
        "from keras.initializers import Constant\n",
        "from tensorflow.keras.preprocessing.text import Tokenizer\n",
        "from tensorflow.keras.preprocessing.sequence import pad_sequences\n",
        "from nltk.corpus import stopwords\n",
        "from nltk.tokenize import word_tokenize\n",
        "import matplotlib.ticker as ticker\n",
        "from sklearn.model_selection import StratifiedKFold,train_test_split\n",
        "\n",
        "from sklearn.feature_extraction.text import TfidfTransformer\n",
        "from sklearn.feature_extraction.text import TfidfVectorizer\n",
        "from tensorflow import keras\n",
        "from tensorflow.keras import layers\n",
        "from keras.utils import to_categorical\n",
        "from sklearn.preprocessing import LabelEncoder, OneHotEncoder\n",
        "from gensim.models import Word2Vec\n",
        "from sklearn.decomposition import PCA\n",
        "from sklearn.utils import shuffle\n",
        "import gensim\n"
      ],
      "execution_count": null,
      "outputs": []
    },
    {
      "cell_type": "markdown",
      "metadata": {
        "id": "HUCrarEyp-dQ",
        "colab_type": "text"
      },
      "source": [
        "#**First model: Using all the samples** (24889 tokens)\n",
        "\n",
        "\n",
        "\n"
      ]
    },
    {
      "cell_type": "code",
      "metadata": {
        "id": "rhE-Qsr2ogGu",
        "colab_type": "code",
        "colab": {
          "base_uri": "https://localhost:8080/",
          "height": 221
        },
        "outputId": "eab39c63-d98b-41c6-f1f9-81f6acae60e8"
      },
      "source": [
        "#import data \n",
        "file = '/content/drive/My Drive/QP2/Input Model/df24889.csv'\n",
        "df = pd.read_csv(file)\n",
        "df = shuffle(df)\n",
        "df.head()"
      ],
      "execution_count": null,
      "outputs": [
        {
          "output_type": "execute_result",
          "data": {
            "text/html": [
              "<div>\n",
              "<style scoped>\n",
              "    .dataframe tbody tr th:only-of-type {\n",
              "        vertical-align: middle;\n",
              "    }\n",
              "\n",
              "    .dataframe tbody tr th {\n",
              "        vertical-align: top;\n",
              "    }\n",
              "\n",
              "    .dataframe thead th {\n",
              "        text-align: right;\n",
              "    }\n",
              "</style>\n",
              "<table border=\"1\" class=\"dataframe\">\n",
              "  <thead>\n",
              "    <tr style=\"text-align: right;\">\n",
              "      <th></th>\n",
              "      <th>Unnamed: 0</th>\n",
              "      <th>file</th>\n",
              "      <th>a</th>\n",
              "      <th>a_tag</th>\n",
              "      <th>X</th>\n",
              "      <th>X_tag</th>\n",
              "      <th>b</th>\n",
              "      <th>b_tag</th>\n",
              "      <th>grammar cateogry</th>\n",
              "      <th>encode_cat</th>\n",
              "      <th>encode_pos</th>\n",
              "      <th>name</th>\n",
              "      <th>encoded_case</th>\n",
              "      <th>aXb</th>\n",
              "    </tr>\n",
              "  </thead>\n",
              "  <tbody>\n",
              "    <tr>\n",
              "      <th>19161</th>\n",
              "      <td>20532</td>\n",
              "      <td>Anne/020301.xml</td>\n",
              "      <td>S</td>\n",
              "      <td>/s</td>\n",
              "      <td>I</td>\n",
              "      <td>pro:sub</td>\n",
              "      <td>don't</td>\n",
              "      <td>mod~neg</td>\n",
              "      <td>NOUN</td>\n",
              "      <td>6</td>\n",
              "      <td>84</td>\n",
              "      <td>Anne</td>\n",
              "      <td>2</td>\n",
              "      <td>S_don't</td>\n",
              "    </tr>\n",
              "    <tr>\n",
              "      <th>12379</th>\n",
              "      <td>15646</td>\n",
              "      <td>Anne/011104.xml</td>\n",
              "      <td>eating</td>\n",
              "      <td>part</td>\n",
              "      <td>them</td>\n",
              "      <td>pro:obj</td>\n",
              "      <td>E</td>\n",
              "      <td>/e</td>\n",
              "      <td>NOUN</td>\n",
              "      <td>6</td>\n",
              "      <td>72</td>\n",
              "      <td>Anne</td>\n",
              "      <td>1</td>\n",
              "      <td>eating_E</td>\n",
              "    </tr>\n",
              "    <tr>\n",
              "      <th>18979</th>\n",
              "      <td>14549</td>\n",
              "      <td>Nina/020524.xml</td>\n",
              "      <td>let</td>\n",
              "      <td>v</td>\n",
              "      <td>me</td>\n",
              "      <td>pro:obj</td>\n",
              "      <td>see</td>\n",
              "      <td>v</td>\n",
              "      <td>NOUN</td>\n",
              "      <td>6</td>\n",
              "      <td>72</td>\n",
              "      <td>Nina</td>\n",
              "      <td>1</td>\n",
              "      <td>let_see</td>\n",
              "    </tr>\n",
              "    <tr>\n",
              "      <th>9662</th>\n",
              "      <td>21107</td>\n",
              "      <td>Eve/010800.xml</td>\n",
              "      <td>on</td>\n",
              "      <td>prep</td>\n",
              "      <td>your</td>\n",
              "      <td>det:poss</td>\n",
              "      <td>stool</td>\n",
              "      <td>n</td>\n",
              "      <td>DET</td>\n",
              "      <td>4</td>\n",
              "      <td>25</td>\n",
              "      <td>Eve</td>\n",
              "      <td>0</td>\n",
              "      <td>on_stool</td>\n",
              "    </tr>\n",
              "    <tr>\n",
              "      <th>24807</th>\n",
              "      <td>8142</td>\n",
              "      <td>Nina/020212.xml</td>\n",
              "      <td>is</td>\n",
              "      <td>cop</td>\n",
              "      <td>his</td>\n",
              "      <td>det:poss</td>\n",
              "      <td>nose</td>\n",
              "      <td>n</td>\n",
              "      <td>DET</td>\n",
              "      <td>4</td>\n",
              "      <td>25</td>\n",
              "      <td>Nina</td>\n",
              "      <td>0</td>\n",
              "      <td>is_nose</td>\n",
              "    </tr>\n",
              "  </tbody>\n",
              "</table>\n",
              "</div>"
            ],
            "text/plain": [
              "       Unnamed: 0             file       a  ...  name encoded_case       aXb\n",
              "19161       20532  Anne/020301.xml       S  ...  Anne            2   S_don't\n",
              "12379       15646  Anne/011104.xml  eating  ...  Anne            1  eating_E\n",
              "18979       14549  Nina/020524.xml     let  ...  Nina            1   let_see\n",
              "9662        21107   Eve/010800.xml      on  ...   Eve            0  on_stool\n",
              "24807        8142  Nina/020212.xml      is  ...  Nina            0   is_nose\n",
              "\n",
              "[5 rows x 14 columns]"
            ]
          },
          "metadata": {
            "tags": []
          },
          "execution_count": 26
        }
      ]
    },
    {
      "cell_type": "code",
      "metadata": {
        "id": "iELPhJpVtG-D",
        "colab_type": "code",
        "colab": {
          "base_uri": "https://localhost:8080/",
          "height": 357
        },
        "outputId": "674f1cd2-2314-42ca-a2f3-f7f8caa2a75e"
      },
      "source": [
        "#data info\n",
        "df.info()"
      ],
      "execution_count": null,
      "outputs": [
        {
          "output_type": "stream",
          "text": [
            "<class 'pandas.core.frame.DataFrame'>\n",
            "Int64Index: 24889 entries, 17301 to 3324\n",
            "Data columns (total 13 columns):\n",
            " #   Column            Non-Null Count  Dtype \n",
            "---  ------            --------------  ----- \n",
            " 0   file              24889 non-null  object\n",
            " 1   a                 24889 non-null  object\n",
            " 2   a_tag             24889 non-null  object\n",
            " 3   X                 24889 non-null  object\n",
            " 4   X_tag             24889 non-null  object\n",
            " 5   b                 24889 non-null  object\n",
            " 6   b_tag             24889 non-null  object\n",
            " 7   grammar cateogry  24889 non-null  object\n",
            " 8   encode_cat        24889 non-null  int64 \n",
            " 9   encode_pos        24889 non-null  int64 \n",
            " 10  name              24889 non-null  object\n",
            " 11  encoded_case      24889 non-null  int64 \n",
            " 12  aXb               24889 non-null  object\n",
            "dtypes: int64(3), object(10)\n",
            "memory usage: 2.7+ MB\n"
          ],
          "name": "stdout"
        }
      ]
    },
    {
      "cell_type": "code",
      "metadata": {
        "id": "mYeqMuzzrprX",
        "colab_type": "code",
        "colab": {
          "base_uri": "https://localhost:8080/",
          "height": 298
        },
        "outputId": "86907368-f90a-4079-b43e-843de497e362"
      },
      "source": [
        "#'we' as most frequent pronoun. (All data excluded 'you' and 'it')\n",
        "df['X'].value_counts().plot(kind = 'bar')"
      ],
      "execution_count": null,
      "outputs": [
        {
          "output_type": "execute_result",
          "data": {
            "text/plain": [
              "<matplotlib.axes._subplots.AxesSubplot at 0x7fe59740c588>"
            ]
          },
          "metadata": {
            "tags": []
          },
          "execution_count": 27
        },
        {
          "output_type": "display_data",
          "data": {
            "image/png": "[encoded data removed]",
            "text/plain": [
              "<Figure size 432x288 with 1 Axes>"
            ]
          },
          "metadata": {
            "tags": [],
            "needs_background": "light"
          }
        }
      ]
    },
    {
      "cell_type": "code",
      "metadata": {
        "id": "V_BS0dodrvhv",
        "colab_type": "code",
        "colab": {
          "base_uri": "https://localhost:8080/",
          "height": 315
        },
        "outputId": "94a8abdc-17f9-40ef-f015-414db293736a"
      },
      "source": [
        "#Nominative case as most frequent case.\n",
        "df['X_tag'].value_counts().plot(kind = 'bar')"
      ],
      "execution_count": null,
      "outputs": [
        {
          "output_type": "execute_result",
          "data": {
            "text/plain": [
              "<matplotlib.axes._subplots.AxesSubplot at 0x7fe597306668>"
            ]
          },
          "metadata": {
            "tags": []
          },
          "execution_count": 28
        },
        {
          "output_type": "display_data",
          "data": {
            "image/png": "[encoded data removed]",
            "text/plain": [
              "<Figure size 432x288 with 1 Axes>"
            ]
          },
          "metadata": {
            "tags": [],
            "needs_background": "light"
          }
        }
      ]
    },
    {
      "cell_type": "code",
      "metadata": {
        "id": "TpTORB3i0piz",
        "colab_type": "code",
        "colab": {
          "base_uri": "https://localhost:8080/",
          "height": 304
        },
        "outputId": "408d9fd8-8052-4bd0-ee00-be6d3719a097"
      },
      "source": [
        "#Different parents have different amount of samples\n",
        "df['name'].value_counts().plot(kind = 'bar')"
      ],
      "execution_count": null,
      "outputs": [
        {
          "output_type": "execute_result",
          "data": {
            "text/plain": [
              "<matplotlib.axes._subplots.AxesSubplot at 0x7fe5975884e0>"
            ]
          },
          "metadata": {
            "tags": []
          },
          "execution_count": 29
        },
        {
          "output_type": "display_data",
          "data": {
            "image/png": "[encoded data removed]",
            "text/plain": [
              "<Figure size 432x288 with 1 Axes>"
            ]
          },
          "metadata": {
            "tags": [],
            "needs_background": "light"
          }
        }
      ]
    },
    {
      "cell_type": "code",
      "metadata": {
        "id": "XMCq-XiP2c7E",
        "colab_type": "code",
        "colab": {}
      },
      "source": [
        "#one-hot encoded aX, Xb and aXb\n",
        "onehot_aX = pd.get_dummies(df.a)\n",
        "onehot_Xb = pd.get_dummies(df.b)\n",
        "onehot_aXb = pd.get_dummies(df.aXb)\n",
        "df['onehot_aX'] = list(onehot_aX.values)\n",
        "df['onehot_Xb'] = list(onehot_Xb.values)\n",
        "df['onehot_aXb'] = list(onehot_aXb.values)"
      ],
      "execution_count": null,
      "outputs": []
    },
    {
      "cell_type": "code",
      "metadata": {
        "id": "MCH1dR6Y38uD",
        "colab_type": "code",
        "colab": {
          "base_uri": "https://localhost:8080/",
          "height": 533
        },
        "outputId": "3e2c13e7-f557-40ac-89a8-5a057310b79b"
      },
      "source": [
        "#Training model for aX + Xb\n",
        "aXshape = onehot_aX.shape[1]\n",
        "bXshape = onehot_Xb.shape[1]\n",
        "aX_input = keras.Input(shape=(aXshape,) , name ='aX')\n",
        "Xb_input = keras.Input(shape=(bXshape,) ,name = 'Xb')\n",
        "aX = layers.Dense(200, activation = 'relu')(aX_input)\n",
        "Xb = layers.Dense(200, activation='relu')(Xb_input)\n",
        "x = layers.concatenate([aX, Xb])\n",
        "x = layers.Dense(200, activation = 'relu')(x)\n",
        "case_pred = layers.Dense(3, name = 'case')(x)\n",
        "model = keras.Model(\n",
        "    inputs = [aX_input, Xb_input],\n",
        "    outputs = case_pred)\n",
        "keras.utils.plot_model(model, \"aX + Xb model.png\", show_shapes = True)\n"
      ],
      "execution_count": null,
      "outputs": [
        {
          "output_type": "execute_result",
          "data": {
            "image/png": "[encoded data removed]",
            "text/plain": [
              "<IPython.core.display.Image object>"
            ]
          },
          "metadata": {
            "tags": []
          },
          "execution_count": 37
        }
      ]
    },
    {
      "cell_type": "code",
      "metadata": {
        "id": "5tngiyK-45nq",
        "colab_type": "code",
        "colab": {}
      },
      "source": [
        "#preparing data\n",
        "aX = np.asarray(onehot_aX).astype(np.float32)\n",
        "Xb = np.asarray(onehot_Xb).astype(np.float32)\n",
        "aXb = np.asarray(onehot_aXb).astype(np.float32)\n",
        "Y = np.asarray(df['encoded_case']).astype(np.float32)\n",
        "X = {'aX': aX, 'Xb': Xb}"
      ],
      "execution_count": null,
      "outputs": []
    },
    {
      "cell_type": "code",
      "metadata": {
        "id": "sWjfZ_Az2DoV",
        "colab_type": "code",
        "colab": {}
      },
      "source": [
        "#10fold cross validation\n",
        "kfold = StratifiedKFold(n_splits=10, shuffle = False, random_state = 88)\n",
        "early_stop = keras.callbacks.EarlyStopping(monitor='accuracy', patience=10)\n",
        "trainindex = []\n",
        "testindex = []\n",
        "for train_index, test_index in kfold.split(aX, Y):\n",
        "  print(\"Train:\", train_index, \"Test:\", test_index)\n",
        "  trainindex.append(train_index)\n",
        "  testindex.append(test_index)"
      ],
      "execution_count": null,
      "outputs": []
    },
    {
      "cell_type": "code",
      "metadata": {
        "id": "K__ozeFO5xhL",
        "colab_type": "code",
        "colab": {}
      },
      "source": [
        "#train the model with 10 fold \n",
        "#save the accuracy score \n",
        "#save the predicted case for each fold\n",
        "aX_Xb_y_pred_kfold = []\n",
        "aX_Xb_cvscores = []\n",
        "for train, test in zip(trainindex, testindex): \n",
        "  model.compile(\n",
        "    optimizer='adam',\n",
        "    loss=tf.keras.losses.SparseCategoricalCrossentropy(from_logits=True),\n",
        "    metrics = ['accuracy', 'mse'])\n",
        "  model.fit({\"aX\": aX[train], \"Xb\": Xb[train]}, \n",
        "            Y[train],\n",
        "          validation_split = 0.2,\n",
        "          callbacks=[early_stop, tfdocs.modeling.EpochDots()], \n",
        "          epochs=100,\n",
        "          batch_size = 32)\n",
        "  scores = model.evaluate({\"aX\": aX[test], \"Xb\": Xb[test]}, y={\"case\": Y[test]}, verbose=2)\n",
        "  y_pred = model.predict([aX[test], Xb[test]])\n",
        "  print(\"%s: %.2f%%\" % (model.metrics_names[1], scores[1]*100))\n",
        "  aX_Xb_cvscores.append(scores[1] * 100)\n",
        "  aX_Xb_y_pred_kfold.append(y_pred)"
      ],
      "execution_count": null,
      "outputs": []
    },
    {
      "cell_type": "code",
      "metadata": {
        "id": "yJfkfBbv5hlw",
        "colab_type": "code",
        "colab": {
          "base_uri": "https://localhost:8080/",
          "height": 71
        },
        "outputId": "54fb00ba-945e-4460-d62d-66aae59edb99"
      },
      "source": [
        "print('aX+Xb accuracy for each fold:{}'.format(aX_Xb_cvscores))\n",
        "print('aX+Xb accuracy average:{}'.format(sum(aX_Xb_cvscores)/len(aX_Xb_cvscores)))"
      ],
      "execution_count": null,
      "outputs": [
        {
          "output_type": "stream",
          "text": [
            "aX+Xb accuracy for each fold:[96.3037371635437, 98.55363368988037, 98.83487224578857, 99.31699633598328, 99.5178759098053, 99.11611080169678, 99.35716986656189, 99.23664331436157, 97.06709384918213, 97.02572226524353]\n",
            "aX+Xb accuracy average:98.43298554420471\n"
          ],
          "name": "stdout"
        }
      ]
    },
    {
      "cell_type": "code",
      "metadata": {
        "id": "oFhm7zhN-FXB",
        "colab_type": "code",
        "colab": {
          "base_uri": "https://localhost:8080/",
          "height": 312
        },
        "outputId": "65cc9f3d-155e-4d84-dccd-8f0e19fd60cf"
      },
      "source": [
        "#Model for aXb\n",
        "model = keras.Sequential([\n",
        "    layers.Dense(200, activation='relu', input_shape=[onehot_aXb.shape[1]]),\n",
        "    layers.Dense(3)\n",
        "  ])\n",
        "model.compile(optimizer='adam',\n",
        "              loss=tf.keras.losses.SparseCategoricalCrossentropy(from_logits=True),\n",
        "              metrics=['accuracy','mse'])\n",
        "keras.utils.plot_model(model, \"aXb model.png\", show_shapes = True)"
      ],
      "execution_count": null,
      "outputs": [
        {
          "output_type": "execute_result",
          "data": {
            "image/png": "[encoded data removed]",
            "text/plain": [
              "<IPython.core.display.Image object>"
            ]
          },
          "metadata": {
            "tags": []
          },
          "execution_count": 45
        }
      ]
    },
    {
      "cell_type": "code",
      "metadata": {
        "id": "3NA-qSZr-Yhc",
        "colab_type": "code",
        "colab": {}
      },
      "source": [
        "aXb_y_pred_kfold = []\n",
        "aXb_cvscores = []\n",
        "for train, test in zip(trainindex, testindex): \n",
        "  model.compile(\n",
        "    optimizer='adam',\n",
        "    loss=tf.keras.losses.SparseCategoricalCrossentropy(from_logits=True),\n",
        "    metrics = ['accuracy', 'mse'])\n",
        "  model.fit(aXb[train], \n",
        "            Y[train],\n",
        "          validation_split = 0.2,\n",
        "          callbacks=[early_stop, tfdocs.modeling.EpochDots()], \n",
        "          epochs=100,\n",
        "          batch_size = 32)\n",
        "  scores = model.evaluate(aXb[test], Y[test], verbose=2)\n",
        "  y_pred = model.predict(aXb[test])\n",
        "  print(\"%s: %.2f%%\" % (model.metrics_names[1], scores[1]*100))\n",
        "  aXb_cvscores.append(scores[1] * 100)\n",
        "  aXb_y_pred_kfold.append(y_pred)"
      ],
      "execution_count": null,
      "outputs": []
    },
    {
      "cell_type": "code",
      "metadata": {
        "id": "J8W_iJn0AgmL",
        "colab_type": "code",
        "colab": {
          "base_uri": "https://localhost:8080/",
          "height": 71
        },
        "outputId": "d6fc2399-4467-4817-8bf8-5a509a9ce13b"
      },
      "source": [
        "print('aXb accuracy for each fold:{}'.format(aXb_cvscores))\n",
        "print('aXb accuracy average:{}'.format(sum(aXb_cvscores)/len(aXb_cvscores)))"
      ],
      "execution_count": null,
      "outputs": [
        {
          "output_type": "stream",
          "text": [
            "aXb accuracy for each fold:[85.93812584877014, 99.27681684494019, 99.07593131065369, 99.31699633598328, 99.59823489189148, 99.19646382331848, 99.47770237922668, 99.4375228881836, 91.56287908554077, 87.74116039276123]\n",
            "aXb accuracy average:96.06218338012695\n"
          ],
          "name": "stdout"
        }
      ]
    },
    {
      "cell_type": "code",
      "metadata": {
        "id": "6OgAZvd49I6a",
        "colab_type": "code",
        "colab": {
          "base_uri": "https://localhost:8080/",
          "height": 51
        },
        "outputId": "5b0d2580-155d-4116-aba4-f77c6ef5d965"
      },
      "source": [
        "aX_Xb_y_pred_case = []\n",
        "aXb_y_pred_case = []\n",
        "for i in aX_Xb_y_pred_kfold:\n",
        "  y_i = np.argmax(i, axis = 1)\n",
        "  aX_Xb_y_pred_case.append(y_i)\n",
        "for w in range(0, 10):\n",
        "  y = aXb_y_pred_kfold[w]\n",
        "  y_k = np.argmax(y, axis = 1)\n",
        "  aXb_y_pred_case.append(y_k)\n",
        "print(aX_Xb_y_pred_case[1])\n",
        "print(aXb_y_pred_case[1])"
      ],
      "execution_count": null,
      "outputs": [
        {
          "output_type": "stream",
          "text": [
            "[0 0 0 ... 1 1 1]\n",
            "[0 0 0 ... 1 1 1]\n"
          ],
          "name": "stdout"
        }
      ]
    },
    {
      "cell_type": "code",
      "metadata": {
        "id": "nCdRfGHMP0x0",
        "colab_type": "code",
        "colab": {
          "base_uri": "https://localhost:8080/",
          "height": 802
        },
        "outputId": "ad9c2ae9-e7ac-441b-aa22-36367d2ce688"
      },
      "source": [
        "dftestsum = []\n",
        "for i in range(0,10):\n",
        "  dftest = df.iloc[testindex[i]]\n",
        "  dftest['pred_y_aX_Xb'] = aX_Xb_y_pred_case[i]\n",
        "  dftest['pred_y_aXb'] = aXb_y_pred_case[i]\n",
        "  dftest['fold'] = i\n",
        "  dftestsum.append(dftest)\n",
        "kfold = pd.concat(dftestsum)\n",
        "kfold['aXb_correct'] = np.where((kfold['pred_y_aXb'] == kfold['encoded_case']) , 1, 0)\n",
        "kfold['aX_Xb_correct'] = np.where((kfold['pred_y_aX_Xb'] == kfold['encoded_case']) , 1, 0)\n",
        "kfold.head()"
      ],
      "execution_count": null,
      "outputs": [
        {
          "output_type": "stream",
          "text": [
            "/usr/local/lib/python3.6/dist-packages/ipykernel_launcher.py:4: SettingWithCopyWarning: \n",
            "A value is trying to be set on a copy of a slice from a DataFrame.\n",
            "Try using .loc[row_indexer,col_indexer] = value instead\n",
            "\n",
            "See the caveats in the documentation: https://pandas.pydata.org/pandas-docs/stable/user_guide/indexing.html#returning-a-view-versus-a-copy\n",
            "  after removing the cwd from sys.path.\n",
            "/usr/local/lib/python3.6/dist-packages/ipykernel_launcher.py:5: SettingWithCopyWarning: \n",
            "A value is trying to be set on a copy of a slice from a DataFrame.\n",
            "Try using .loc[row_indexer,col_indexer] = value instead\n",
            "\n",
            "See the caveats in the documentation: https://pandas.pydata.org/pandas-docs/stable/user_guide/indexing.html#returning-a-view-versus-a-copy\n",
            "  \"\"\"\n",
            "/usr/local/lib/python3.6/dist-packages/ipykernel_launcher.py:6: SettingWithCopyWarning: \n",
            "A value is trying to be set on a copy of a slice from a DataFrame.\n",
            "Try using .loc[row_indexer,col_indexer] = value instead\n",
            "\n",
            "See the caveats in the documentation: https://pandas.pydata.org/pandas-docs/stable/user_guide/indexing.html#returning-a-view-versus-a-copy\n",
            "  \n"
          ],
          "name": "stderr"
        },
        {
          "output_type": "execute_result",
          "data": {
            "text/html": [
              "<div>\n",
              "<style scoped>\n",
              "    .dataframe tbody tr th:only-of-type {\n",
              "        vertical-align: middle;\n",
              "    }\n",
              "\n",
              "    .dataframe tbody tr th {\n",
              "        vertical-align: top;\n",
              "    }\n",
              "\n",
              "    .dataframe thead th {\n",
              "        text-align: right;\n",
              "    }\n",
              "</style>\n",
              "<table border=\"1\" class=\"dataframe\">\n",
              "  <thead>\n",
              "    <tr style=\"text-align: right;\">\n",
              "      <th></th>\n",
              "      <th>Unnamed: 0</th>\n",
              "      <th>file</th>\n",
              "      <th>a</th>\n",
              "      <th>a_tag</th>\n",
              "      <th>X</th>\n",
              "      <th>X_tag</th>\n",
              "      <th>b</th>\n",
              "      <th>b_tag</th>\n",
              "      <th>grammar cateogry</th>\n",
              "      <th>encode_cat</th>\n",
              "      <th>encode_pos</th>\n",
              "      <th>name</th>\n",
              "      <th>encoded_case</th>\n",
              "      <th>aXb</th>\n",
              "      <th>onehot_aX</th>\n",
              "      <th>onehot_Xb</th>\n",
              "      <th>onehot_aXb</th>\n",
              "      <th>pred_y_aX_Xb</th>\n",
              "      <th>pred_y_aXb</th>\n",
              "      <th>fold</th>\n",
              "      <th>aXb_correct</th>\n",
              "      <th>aX_Xb_correct</th>\n",
              "    </tr>\n",
              "  </thead>\n",
              "  <tbody>\n",
              "    <tr>\n",
              "      <th>19161</th>\n",
              "      <td>20532</td>\n",
              "      <td>Anne/020301.xml</td>\n",
              "      <td>S</td>\n",
              "      <td>/s</td>\n",
              "      <td>I</td>\n",
              "      <td>pro:sub</td>\n",
              "      <td>don't</td>\n",
              "      <td>mod~neg</td>\n",
              "      <td>NOUN</td>\n",
              "      <td>6</td>\n",
              "      <td>84</td>\n",
              "      <td>Anne</td>\n",
              "      <td>2</td>\n",
              "      <td>S_don't</td>\n",
              "      <td>[0, 0, 0, 0, 0, 0, 0, 0, 0, 0, 0, 0, 0, 0, 0, ...</td>\n",
              "      <td>[0, 0, 0, 0, 0, 0, 0, 0, 0, 0, 0, 0, 0, 0, 0, ...</td>\n",
              "      <td>[0, 0, 0, 0, 0, 0, 0, 0, 0, 0, 0, 0, 0, 0, 0, ...</td>\n",
              "      <td>2</td>\n",
              "      <td>2</td>\n",
              "      <td>0</td>\n",
              "      <td>1</td>\n",
              "      <td>1</td>\n",
              "    </tr>\n",
              "    <tr>\n",
              "      <th>12379</th>\n",
              "      <td>15646</td>\n",
              "      <td>Anne/011104.xml</td>\n",
              "      <td>eating</td>\n",
              "      <td>part</td>\n",
              "      <td>them</td>\n",
              "      <td>pro:obj</td>\n",
              "      <td>E</td>\n",
              "      <td>/e</td>\n",
              "      <td>NOUN</td>\n",
              "      <td>6</td>\n",
              "      <td>72</td>\n",
              "      <td>Anne</td>\n",
              "      <td>1</td>\n",
              "      <td>eating_E</td>\n",
              "      <td>[0, 0, 0, 0, 0, 0, 0, 0, 0, 0, 0, 0, 0, 0, 0, ...</td>\n",
              "      <td>[0, 0, 0, 0, 0, 0, 0, 0, 0, 0, 0, 0, 0, 0, 0, ...</td>\n",
              "      <td>[0, 0, 0, 0, 0, 0, 0, 0, 0, 0, 0, 0, 0, 0, 0, ...</td>\n",
              "      <td>1</td>\n",
              "      <td>1</td>\n",
              "      <td>0</td>\n",
              "      <td>1</td>\n",
              "      <td>1</td>\n",
              "    </tr>\n",
              "    <tr>\n",
              "      <th>18979</th>\n",
              "      <td>14549</td>\n",
              "      <td>Nina/020524.xml</td>\n",
              "      <td>let</td>\n",
              "      <td>v</td>\n",
              "      <td>me</td>\n",
              "      <td>pro:obj</td>\n",
              "      <td>see</td>\n",
              "      <td>v</td>\n",
              "      <td>NOUN</td>\n",
              "      <td>6</td>\n",
              "      <td>72</td>\n",
              "      <td>Nina</td>\n",
              "      <td>1</td>\n",
              "      <td>let_see</td>\n",
              "      <td>[0, 0, 0, 0, 0, 0, 0, 0, 0, 0, 0, 0, 0, 0, 0, ...</td>\n",
              "      <td>[0, 0, 0, 0, 0, 0, 0, 0, 0, 0, 0, 0, 0, 0, 0, ...</td>\n",
              "      <td>[0, 0, 0, 0, 0, 0, 0, 0, 0, 0, 0, 0, 0, 0, 0, ...</td>\n",
              "      <td>1</td>\n",
              "      <td>1</td>\n",
              "      <td>0</td>\n",
              "      <td>1</td>\n",
              "      <td>1</td>\n",
              "    </tr>\n",
              "    <tr>\n",
              "      <th>9662</th>\n",
              "      <td>21107</td>\n",
              "      <td>Eve/010800.xml</td>\n",
              "      <td>on</td>\n",
              "      <td>prep</td>\n",
              "      <td>your</td>\n",
              "      <td>det:poss</td>\n",
              "      <td>stool</td>\n",
              "      <td>n</td>\n",
              "      <td>DET</td>\n",
              "      <td>4</td>\n",
              "      <td>25</td>\n",
              "      <td>Eve</td>\n",
              "      <td>0</td>\n",
              "      <td>on_stool</td>\n",
              "      <td>[0, 0, 0, 0, 0, 0, 0, 0, 0, 0, 0, 0, 0, 0, 0, ...</td>\n",
              "      <td>[0, 0, 0, 0, 0, 0, 0, 0, 0, 0, 0, 0, 0, 0, 0, ...</td>\n",
              "      <td>[0, 0, 0, 0, 0, 0, 0, 0, 0, 0, 0, 0, 0, 0, 0, ...</td>\n",
              "      <td>0</td>\n",
              "      <td>0</td>\n",
              "      <td>0</td>\n",
              "      <td>1</td>\n",
              "      <td>1</td>\n",
              "    </tr>\n",
              "    <tr>\n",
              "      <th>24807</th>\n",
              "      <td>8142</td>\n",
              "      <td>Nina/020212.xml</td>\n",
              "      <td>is</td>\n",
              "      <td>cop</td>\n",
              "      <td>his</td>\n",
              "      <td>det:poss</td>\n",
              "      <td>nose</td>\n",
              "      <td>n</td>\n",
              "      <td>DET</td>\n",
              "      <td>4</td>\n",
              "      <td>25</td>\n",
              "      <td>Nina</td>\n",
              "      <td>0</td>\n",
              "      <td>is_nose</td>\n",
              "      <td>[0, 0, 0, 0, 0, 0, 0, 0, 0, 0, 0, 0, 0, 0, 0, ...</td>\n",
              "      <td>[0, 0, 0, 0, 0, 0, 0, 0, 0, 0, 0, 0, 0, 0, 0, ...</td>\n",
              "      <td>[0, 0, 0, 0, 0, 0, 0, 0, 0, 0, 0, 0, 0, 0, 0, ...</td>\n",
              "      <td>0</td>\n",
              "      <td>0</td>\n",
              "      <td>0</td>\n",
              "      <td>1</td>\n",
              "      <td>1</td>\n",
              "    </tr>\n",
              "  </tbody>\n",
              "</table>\n",
              "</div>"
            ],
            "text/plain": [
              "       Unnamed: 0             file       a  ... fold aXb_correct aX_Xb_correct\n",
              "19161       20532  Anne/020301.xml       S  ...    0           1             1\n",
              "12379       15646  Anne/011104.xml  eating  ...    0           1             1\n",
              "18979       14549  Nina/020524.xml     let  ...    0           1             1\n",
              "9662        21107   Eve/010800.xml      on  ...    0           1             1\n",
              "24807        8142  Nina/020212.xml      is  ...    0           1             1\n",
              "\n",
              "[5 rows x 22 columns]"
            ]
          },
          "metadata": {
            "tags": []
          },
          "execution_count": 68
        }
      ]
    },
    {
      "cell_type": "code",
      "metadata": {
        "id": "oMKkVkplv8CM",
        "colab_type": "code",
        "colab": {}
      },
      "source": [
        "kfold.to_csv('aX+Xb_kfold_results.csv')\n",
        "!cp aX+Xb_kfold_results.csv \"/content/drive/My Drive/QP2/Input Model/\""
      ],
      "execution_count": null,
      "outputs": []
    },
    {
      "cell_type": "code",
      "metadata": {
        "id": "CFxvwzH-Adfq",
        "colab_type": "code",
        "colab": {
          "base_uri": "https://localhost:8080/",
          "height": 391
        },
        "outputId": "8078ee73-25d4-4c19-a84d-57f1b8f952ef"
      },
      "source": [
        "from sklearn import metrics\n",
        "target_names = ['det:poss','pro:obj','pro:sub']\n",
        "print('aXb classification')\n",
        "print(metrics.classification_report(kfold['encoded_case'], kfold['pred_y_aXb'], digits=3, target_names=target_names))\n",
        "print('aX+Xb classification')\n",
        "print(metrics.classification_report(kfold['encoded_case'], kfold['pred_y_aX_Xb'], digits=3, target_names=target_names))"
      ],
      "execution_count": null,
      "outputs": [
        {
          "output_type": "stream",
          "text": [
            "aXb classification\n",
            "              precision    recall  f1-score   support\n",
            "\n",
            "    det:poss      0.897     0.966     0.930      6156\n",
            "     pro:obj      0.984     0.918     0.950      4152\n",
            "     pro:sub      0.984     0.971     0.977     14581\n",
            "\n",
            "    accuracy                          0.961     24889\n",
            "   macro avg      0.955     0.951     0.952     24889\n",
            "weighted avg      0.962     0.961     0.961     24889\n",
            "\n",
            "aX+Xb classification\n",
            "              precision    recall  f1-score   support\n",
            "\n",
            "    det:poss      0.976     0.970     0.973      6156\n",
            "     pro:obj      0.963     0.969     0.966      4152\n",
            "     pro:sub      0.994     0.995     0.994     14581\n",
            "\n",
            "    accuracy                          0.984     24889\n",
            "   macro avg      0.978     0.978     0.978     24889\n",
            "weighted avg      0.984     0.984     0.984     24889\n",
            "\n"
          ],
          "name": "stdout"
        }
      ]
    },
    {
      "cell_type": "code",
      "metadata": {
        "id": "4GPV3qKEF4Pd",
        "colab_type": "code",
        "colab": {}
      },
      "source": [
        ""
      ],
      "execution_count": null,
      "outputs": []
    },
    {
      "cell_type": "markdown",
      "metadata": {
        "id": "8CG-4oggF5JP",
        "colab_type": "text"
      },
      "source": [
        "#**Second Model with all unique aXb frames**(7355 samples)"
      ]
    },
    {
      "cell_type": "code",
      "metadata": {
        "id": "DNwMvjkBF39E",
        "colab_type": "code",
        "colab": {
          "base_uri": "https://localhost:8080/",
          "height": 241
        },
        "outputId": "231ee889-7316-4664-821e-4a696ad4c7d6"
      },
      "source": [
        "file = '/content/drive/My Drive/QP2/Input Model/df7355.csv'\n",
        "df = pd.read_csv(file)\n",
        "df = shuffle(df)\n",
        "df.head()"
      ],
      "execution_count": null,
      "outputs": [
        {
          "output_type": "execute_result",
          "data": {
            "text/html": [
              "<div>\n",
              "<style scoped>\n",
              "    .dataframe tbody tr th:only-of-type {\n",
              "        vertical-align: middle;\n",
              "    }\n",
              "\n",
              "    .dataframe tbody tr th {\n",
              "        vertical-align: top;\n",
              "    }\n",
              "\n",
              "    .dataframe thead th {\n",
              "        text-align: right;\n",
              "    }\n",
              "</style>\n",
              "<table border=\"1\" class=\"dataframe\">\n",
              "  <thead>\n",
              "    <tr style=\"text-align: right;\">\n",
              "      <th></th>\n",
              "      <th>Unnamed: 0</th>\n",
              "      <th>Unnamed: 0.1</th>\n",
              "      <th>Unnamed: 0.1.1</th>\n",
              "      <th>Unnamed: 0.1.1.1</th>\n",
              "      <th>file</th>\n",
              "      <th>a</th>\n",
              "      <th>a_tag</th>\n",
              "      <th>X</th>\n",
              "      <th>X_tag</th>\n",
              "      <th>b</th>\n",
              "      <th>b_tag</th>\n",
              "      <th>grammar category</th>\n",
              "      <th>grammar cateogry</th>\n",
              "      <th>encode_cat</th>\n",
              "      <th>encode_pos</th>\n",
              "      <th>name</th>\n",
              "      <th>encoded_case</th>\n",
              "      <th>aXb</th>\n",
              "      <th>pred_y</th>\n",
              "      <th>pred_y_aXb</th>\n",
              "      <th>fold</th>\n",
              "      <th>correctaXb</th>\n",
              "      <th>correctaX+Xb</th>\n",
              "    </tr>\n",
              "  </thead>\n",
              "  <tbody>\n",
              "    <tr>\n",
              "      <th>2580</th>\n",
              "      <td>5812</td>\n",
              "      <td>172099</td>\n",
              "      <td>172099</td>\n",
              "      <td>75176</td>\n",
              "      <td>Aran/020413.xml</td>\n",
              "      <td>than</td>\n",
              "      <td>prep</td>\n",
              "      <td>I</td>\n",
              "      <td>pro:sub</td>\n",
              "      <td>am</td>\n",
              "      <td>cop</td>\n",
              "      <td>unknown</td>\n",
              "      <td>NOUN</td>\n",
              "      <td>6</td>\n",
              "      <td>84</td>\n",
              "      <td>Aran</td>\n",
              "      <td>2</td>\n",
              "      <td>than_am</td>\n",
              "      <td>2</td>\n",
              "      <td>2</td>\n",
              "      <td>2</td>\n",
              "      <td>0</td>\n",
              "      <td>0</td>\n",
              "    </tr>\n",
              "    <tr>\n",
              "      <th>3908</th>\n",
              "      <td>10045</td>\n",
              "      <td>89134</td>\n",
              "      <td>89134</td>\n",
              "      <td>89134</td>\n",
              "      <td>Anne/020525.xml</td>\n",
              "      <td>are</td>\n",
              "      <td>cop</td>\n",
              "      <td>they</td>\n",
              "      <td>pro:sub</td>\n",
              "      <td>grapes</td>\n",
              "      <td>n</td>\n",
              "      <td>unknown</td>\n",
              "      <td>NOUN</td>\n",
              "      <td>6</td>\n",
              "      <td>84</td>\n",
              "      <td>Anne</td>\n",
              "      <td>2</td>\n",
              "      <td>are_grapes</td>\n",
              "      <td>2</td>\n",
              "      <td>2</td>\n",
              "      <td>4</td>\n",
              "      <td>0</td>\n",
              "      <td>0</td>\n",
              "    </tr>\n",
              "    <tr>\n",
              "      <th>3119</th>\n",
              "      <td>7467</td>\n",
              "      <td>46429</td>\n",
              "      <td>46429</td>\n",
              "      <td>46429</td>\n",
              "      <td>Anne/020122.xml</td>\n",
              "      <td>S</td>\n",
              "      <td>/s</td>\n",
              "      <td>they</td>\n",
              "      <td>pro:sub</td>\n",
              "      <td>fall</td>\n",
              "      <td>v</td>\n",
              "      <td>unknown</td>\n",
              "      <td>NOUN</td>\n",
              "      <td>6</td>\n",
              "      <td>84</td>\n",
              "      <td>Anne</td>\n",
              "      <td>2</td>\n",
              "      <td>S_fall</td>\n",
              "      <td>2</td>\n",
              "      <td>2</td>\n",
              "      <td>3</td>\n",
              "      <td>0</td>\n",
              "      <td>0</td>\n",
              "    </tr>\n",
              "    <tr>\n",
              "      <th>2358</th>\n",
              "      <td>5184</td>\n",
              "      <td>243113</td>\n",
              "      <td>243113</td>\n",
              "      <td>35386</td>\n",
              "      <td>Eve/020200a.xml</td>\n",
              "      <td>call</td>\n",
              "      <td>v</td>\n",
              "      <td>him</td>\n",
              "      <td>pro:obj</td>\n",
              "      <td>Fraser</td>\n",
              "      <td>n:prop</td>\n",
              "      <td>unknown</td>\n",
              "      <td>NOUN</td>\n",
              "      <td>6</td>\n",
              "      <td>72</td>\n",
              "      <td>Eve</td>\n",
              "      <td>1</td>\n",
              "      <td>call_Fraser</td>\n",
              "      <td>1</td>\n",
              "      <td>1</td>\n",
              "      <td>2</td>\n",
              "      <td>0</td>\n",
              "      <td>0</td>\n",
              "    </tr>\n",
              "    <tr>\n",
              "      <th>879</th>\n",
              "      <td>1445</td>\n",
              "      <td>240889</td>\n",
              "      <td>240889</td>\n",
              "      <td>33162</td>\n",
              "      <td>Eve/020100b.xml</td>\n",
              "      <td>how's</td>\n",
              "      <td>pro:int~cop</td>\n",
              "      <td>your</td>\n",
              "      <td>det:poss</td>\n",
              "      <td>foot</td>\n",
              "      <td>n</td>\n",
              "      <td>unknown</td>\n",
              "      <td>DET</td>\n",
              "      <td>4</td>\n",
              "      <td>25</td>\n",
              "      <td>Eve</td>\n",
              "      <td>0</td>\n",
              "      <td>how's_foot</td>\n",
              "      <td>0</td>\n",
              "      <td>0</td>\n",
              "      <td>0</td>\n",
              "      <td>0</td>\n",
              "      <td>0</td>\n",
              "    </tr>\n",
              "  </tbody>\n",
              "</table>\n",
              "</div>"
            ],
            "text/plain": [
              "      Unnamed: 0  Unnamed: 0.1  Unnamed: 0.1.1  ...  fold correctaXb correctaX+Xb\n",
              "2580        5812        172099          172099  ...     2          0            0\n",
              "3908       10045         89134           89134  ...     4          0            0\n",
              "3119        7467         46429           46429  ...     3          0            0\n",
              "2358        5184        243113          243113  ...     2          0            0\n",
              "879         1445        240889          240889  ...     0          0            0\n",
              "\n",
              "[5 rows x 23 columns]"
            ]
          },
          "metadata": {
            "tags": []
          },
          "execution_count": 71
        }
      ]
    },
    {
      "cell_type": "code",
      "metadata": {
        "id": "_tlmD8zmHQNR",
        "colab_type": "code",
        "colab": {
          "base_uri": "https://localhost:8080/",
          "height": 527
        },
        "outputId": "4dc3b64b-9650-4ea8-b842-539907362153"
      },
      "source": [
        "df.info()"
      ],
      "execution_count": null,
      "outputs": [
        {
          "output_type": "stream",
          "text": [
            "<class 'pandas.core.frame.DataFrame'>\n",
            "Int64Index: 7355 entries, 2580 to 377\n",
            "Data columns (total 23 columns):\n",
            " #   Column            Non-Null Count  Dtype \n",
            "---  ------            --------------  ----- \n",
            " 0   Unnamed: 0        7355 non-null   int64 \n",
            " 1   Unnamed: 0.1      7355 non-null   int64 \n",
            " 2   Unnamed: 0.1.1    7355 non-null   int64 \n",
            " 3   Unnamed: 0.1.1.1  7355 non-null   int64 \n",
            " 4   file              7355 non-null   object\n",
            " 5   a                 7355 non-null   object\n",
            " 6   a_tag             7355 non-null   object\n",
            " 7   X                 7355 non-null   object\n",
            " 8   X_tag             7355 non-null   object\n",
            " 9   b                 7355 non-null   object\n",
            " 10  b_tag             7355 non-null   object\n",
            " 11  grammar category  7355 non-null   object\n",
            " 12  grammar cateogry  7355 non-null   object\n",
            " 13  encode_cat        7355 non-null   int64 \n",
            " 14  encode_pos        7355 non-null   int64 \n",
            " 15  name              7355 non-null   object\n",
            " 16  encoded_case      7355 non-null   int64 \n",
            " 17  aXb               7355 non-null   object\n",
            " 18  pred_y            7355 non-null   int64 \n",
            " 19  pred_y_aXb        7355 non-null   int64 \n",
            " 20  fold              7355 non-null   int64 \n",
            " 21  correctaXb        7355 non-null   int64 \n",
            " 22  correctaX+Xb      7355 non-null   int64 \n",
            "dtypes: int64(12), object(11)\n",
            "memory usage: 1.3+ MB\n"
          ],
          "name": "stdout"
        }
      ]
    },
    {
      "cell_type": "code",
      "metadata": {
        "id": "gqD-8VyoHSew",
        "colab_type": "code",
        "colab": {
          "base_uri": "https://localhost:8080/",
          "height": 298
        },
        "outputId": "770bec7d-5076-4274-b679-9463f17f15b2"
      },
      "source": [
        "df['X'].value_counts().plot(kind = 'bar')"
      ],
      "execution_count": null,
      "outputs": [
        {
          "output_type": "execute_result",
          "data": {
            "text/plain": [
              "<matplotlib.axes._subplots.AxesSubplot at 0x7fe52044d3c8>"
            ]
          },
          "metadata": {
            "tags": []
          },
          "execution_count": 73
        },
        {
          "output_type": "display_data",
          "data": {
            "image/png": "[encoded data removed]",
            "text/plain": [
              "<Figure size 432x288 with 1 Axes>"
            ]
          },
          "metadata": {
            "tags": [],
            "needs_background": "light"
          }
        }
      ]
    },
    {
      "cell_type": "code",
      "metadata": {
        "id": "_xm9uMNJHW7a",
        "colab_type": "code",
        "colab": {
          "base_uri": "https://localhost:8080/",
          "height": 315
        },
        "outputId": "e88319c1-cb3c-4e20-d14c-cfbd265234e1"
      },
      "source": [
        "df['X_tag'].value_counts().plot(kind = 'bar')"
      ],
      "execution_count": null,
      "outputs": [
        {
          "output_type": "execute_result",
          "data": {
            "text/plain": [
              "<matplotlib.axes._subplots.AxesSubplot at 0x7fe4d62df940>"
            ]
          },
          "metadata": {
            "tags": []
          },
          "execution_count": 74
        },
        {
          "output_type": "display_data",
          "data": {
            "image/png": "[encoded data removed]",
            "text/plain": [
              "<Figure size 432x288 with 1 Axes>"
            ]
          },
          "metadata": {
            "tags": [],
            "needs_background": "light"
          }
        }
      ]
    },
    {
      "cell_type": "code",
      "metadata": {
        "id": "cblErpx2HacQ",
        "colab_type": "code",
        "colab": {
          "base_uri": "https://localhost:8080/",
          "height": 304
        },
        "outputId": "a5f757db-166f-49dc-c53c-0ffb00916e8d"
      },
      "source": [
        "df['name'].value_counts().plot(kind = 'bar')"
      ],
      "execution_count": null,
      "outputs": [
        {
          "output_type": "execute_result",
          "data": {
            "text/plain": [
              "<matplotlib.axes._subplots.AxesSubplot at 0x7fe4fa28d1d0>"
            ]
          },
          "metadata": {
            "tags": []
          },
          "execution_count": 75
        },
        {
          "output_type": "display_data",
          "data": {
            "image/png": "[encoded data removed]",
            "text/plain": [
              "<Figure size 432x288 with 1 Axes>"
            ]
          },
          "metadata": {
            "tags": [],
            "needs_background": "light"
          }
        }
      ]
    },
    {
      "cell_type": "code",
      "metadata": {
        "id": "SlV-7b4xHeMO",
        "colab_type": "code",
        "colab": {}
      },
      "source": [
        "onehot_aX = pd.get_dummies(df.a)\n",
        "onehot_Xb = pd.get_dummies(df.b)\n",
        "onehot_aXb = pd.get_dummies(df.aXb)"
      ],
      "execution_count": null,
      "outputs": []
    },
    {
      "cell_type": "code",
      "metadata": {
        "id": "0P761plXFKYa",
        "colab_type": "code",
        "colab": {}
      },
      "source": [
        "aXshape = onehot_aX.shape[1]\n",
        "bXshape = onehot_Xb.shape[1]\n",
        "aX_input = keras.Input(shape=(aXshape,) , name ='aX')\n",
        "Xb_input = keras.Input(shape=(bXshape,) ,name = 'Xb')\n",
        "aX = layers.Dense(200, activation = 'relu')(aX_input)\n",
        "Xb = layers.Dense(200, activation='relu')(Xb_input)\n",
        "x = layers.concatenate([aX, Xb])\n",
        "x = layers.Dense(200, activation = 'relu')(x)\n",
        "case_pred = layers.Dense(3, name = 'case')(x)\n",
        "model = keras.Model(\n",
        "    inputs = [aX_input, Xb_input],\n",
        "    outputs = case_pred)"
      ],
      "execution_count": null,
      "outputs": []
    },
    {
      "cell_type": "code",
      "metadata": {
        "id": "jjqvxwBUHsJi",
        "colab_type": "code",
        "colab": {}
      },
      "source": [
        "aX = np.asarray(onehot_aX).astype(np.float32)\n",
        "Xb = np.asarray(onehot_Xb).astype(np.float32)\n",
        "aXb = np.asarray(onehot_aXb).astype(np.float32)\n",
        "Y = np.asarray(df['encoded_case']).astype(np.float32)\n",
        "X = {'aX': aX, 'Xb': Xb}"
      ],
      "execution_count": null,
      "outputs": []
    },
    {
      "cell_type": "code",
      "metadata": {
        "id": "o6kK2NClHtbC",
        "colab_type": "code",
        "colab": {}
      },
      "source": [
        "kfold = StratifiedKFold(n_splits=10, shuffle = False, random_state = 88)\n",
        "early_stop = keras.callbacks.EarlyStopping(monitor='accuracy', patience=10)\n",
        "trainindex = []\n",
        "testindex = []\n",
        "for train_index, test_index in kfold.split(aX, Y):\n",
        "  print(\"Train:\", train_index, \"Test:\", test_index)\n",
        "  trainindex.append(train_index)\n",
        "  testindex.append(test_index)"
      ],
      "execution_count": null,
      "outputs": []
    },
    {
      "cell_type": "code",
      "metadata": {
        "id": "OS-N-pF0HzJw",
        "colab_type": "code",
        "colab": {}
      },
      "source": [
        "aX_Xb_y_pred_kfold = []\n",
        "aX_Xb_cvscores = []\n",
        "for train, test in zip(trainindex, testindex): \n",
        "  model.compile(\n",
        "    optimizer='adam',\n",
        "    loss=tf.keras.losses.SparseCategoricalCrossentropy(from_logits=True),\n",
        "    metrics = ['accuracy', 'mse'])\n",
        "  model.fit({\"aX\": aX[train], \"Xb\": Xb[train]}, \n",
        "            Y[train],\n",
        "          validation_split = 0.2,\n",
        "          callbacks=[early_stop, tfdocs.modeling.EpochDots()], \n",
        "          epochs=100,\n",
        "          batch_size = 32)\n",
        "  scores = model.evaluate({\"aX\": aX[test], \"Xb\": Xb[test]}, y={\"case\": Y[test]}, verbose=2)\n",
        "  y_pred = model.predict([aX[test], Xb[test]])\n",
        "  print(\"%s: %.2f%%\" % (model.metrics_names[1], scores[1]*100))\n",
        "  aX_Xb_cvscores.append(scores[1] * 100)\n",
        "  aX_Xb_y_pred_kfold.append(y_pred)\n"
      ],
      "execution_count": null,
      "outputs": []
    },
    {
      "cell_type": "code",
      "metadata": {
        "id": "i8hXY5JGIaHT",
        "colab_type": "code",
        "colab": {
          "base_uri": "https://localhost:8080/",
          "height": 71
        },
        "outputId": "753009d0-8e7e-484e-9496-9721a6e166d2"
      },
      "source": [
        "print('aX+Xb accuracy for each fold:{}'.format(aX_Xb_cvscores))\n",
        "print('aX+Xb accuracy average:{}'.format(sum(aX_Xb_cvscores)/len(aX_Xb_cvscores)))"
      ],
      "execution_count": null,
      "outputs": [
        {
          "output_type": "stream",
          "text": [
            "aX+Xb accuracy for each fold:[89.8097813129425, 97.55434989929199, 98.9130437374115, 100.0, 99.728262424469, 100.0, 99.72789287567139, 100.0, 90.88435173034668, 90.20408391952515]\n",
            "aX+Xb accuracy average:96.68217658996582\n"
          ],
          "name": "stdout"
        }
      ]
    },
    {
      "cell_type": "code",
      "metadata": {
        "id": "tTFBVFh0Iaza",
        "colab_type": "code",
        "colab": {}
      },
      "source": [
        "model = keras.Sequential([\n",
        "    layers.Dense(200, activation='relu', input_shape=[onehot_aXb.shape[1]]),\n",
        "    layers.Dense(3)\n",
        "  ])\n",
        "model.compile(optimizer='adam',\n",
        "              loss=tf.keras.losses.SparseCategoricalCrossentropy(from_logits=True),\n",
        "              metrics=['accuracy','mse'])"
      ],
      "execution_count": null,
      "outputs": []
    },
    {
      "cell_type": "code",
      "metadata": {
        "id": "0JliDlwKIdEB",
        "colab_type": "code",
        "colab": {}
      },
      "source": [
        "aXb_y_pred_kfold = []\n",
        "aXb_cvscores = []\n",
        "for train, test in zip(trainindex, testindex): \n",
        "  model.compile(\n",
        "    optimizer='adam',\n",
        "    loss=tf.keras.losses.SparseCategoricalCrossentropy(from_logits=True),\n",
        "    metrics = ['accuracy', 'mse'])\n",
        "  model.fit(aXb[train], \n",
        "            Y[train],\n",
        "          validation_split = 0.2,\n",
        "          callbacks=[early_stop, tfdocs.modeling.EpochDots()], \n",
        "          epochs=100,\n",
        "          batch_size = 32)\n",
        "  scores = model.evaluate(aXb[test], Y[test], verbose=2)\n",
        "  y_pred = model.predict(aXb[test])\n",
        "  print(\"%s: %.2f%%\" % (model.metrics_names[1], scores[1]*100))\n",
        "  aXb_cvscores.append(scores[1] * 100)\n",
        "  aXb_y_pred_kfold.append(y_pred)"
      ],
      "execution_count": null,
      "outputs": []
    },
    {
      "cell_type": "code",
      "metadata": {
        "id": "UHggNH-YIine",
        "colab_type": "code",
        "colab": {
          "base_uri": "https://localhost:8080/",
          "height": 51
        },
        "outputId": "30314dd3-999a-4380-9cd4-8a50df6180d0"
      },
      "source": [
        "print('aXb accuracy for each fold:{}'.format(aXb_cvscores))\n",
        "print('aXb accuracy average:{}'.format(sum(aXb_cvscores)/len(aXb_cvscores)))"
      ],
      "execution_count": null,
      "outputs": [
        {
          "output_type": "stream",
          "text": [
            "aXb accuracy for each fold:[45.38043439388275, 100.0, 100.0, 100.0, 100.0, 100.0, 100.0, 100.0, 56.46258592605591, 45.578232407569885]\n",
            "aXb accuracy average:84.74212527275085\n"
          ],
          "name": "stdout"
        }
      ]
    },
    {
      "cell_type": "code",
      "metadata": {
        "id": "ZcTk6ayBI0jO",
        "colab_type": "code",
        "colab": {}
      },
      "source": [
        "aX_Xb_y_pred_case = []\n",
        "aXb_y_pred_case = []\n",
        "for i in aX_Xb_y_pred_kfold:\n",
        "  y_i = np.argmax(i, axis = 1)\n",
        "  aX_Xb_y_pred_case.append(y_i)\n",
        "for w in range(0, 10):\n",
        "  y = aXb_y_pred_kfold[w]\n",
        "  y_k = np.argmax(y, axis = 1)\n",
        "  aXb_y_pred_case.append(y_k)\n",
        "print(aX_Xb_y_pred_case[1])\n",
        "print(aXb_y_pred_case[1])\n"
      ],
      "execution_count": null,
      "outputs": []
    },
    {
      "cell_type": "code",
      "metadata": {
        "id": "8gIcwh_OKY5u",
        "colab_type": "code",
        "colab": {
          "base_uri": "https://localhost:8080/",
          "height": 547
        },
        "outputId": "7600b860-af85-4f22-c08d-1fff7ed2e5de"
      },
      "source": [
        "dftestsum = []\n",
        "for i in range(0,10):\n",
        "  dftest = df.iloc[testindex[i]]\n",
        "  dftest['pred_y_aX_Xb'] = aX_Xb_y_pred_case[i]\n",
        "  dftest['pred_y_aXb'] = aXb_y_pred_case[i]\n",
        "  dftest['fold'] = i\n",
        "  dftestsum.append(dftest)\n",
        "kfold = pd.concat(dftestsum)\n",
        "kfold['aXb_correct'] = np.where((kfold['pred_y_aXb'] == kfold['encoded_case']) , 1, 0)\n",
        "kfold['aX_Xb_correct'] = np.where((kfold['pred_y_aX_Xb'] == kfold['encoded_case']) , 1, 0)\n",
        "kfold.head()"
      ],
      "execution_count": null,
      "outputs": [
        {
          "output_type": "stream",
          "text": [
            "/usr/local/lib/python3.6/dist-packages/ipykernel_launcher.py:4: SettingWithCopyWarning: \n",
            "A value is trying to be set on a copy of a slice from a DataFrame.\n",
            "Try using .loc[row_indexer,col_indexer] = value instead\n",
            "\n",
            "See the caveats in the documentation: https://pandas.pydata.org/pandas-docs/stable/user_guide/indexing.html#returning-a-view-versus-a-copy\n",
            "  after removing the cwd from sys.path.\n",
            "/usr/local/lib/python3.6/dist-packages/ipykernel_launcher.py:5: SettingWithCopyWarning: \n",
            "A value is trying to be set on a copy of a slice from a DataFrame.\n",
            "Try using .loc[row_indexer,col_indexer] = value instead\n",
            "\n",
            "See the caveats in the documentation: https://pandas.pydata.org/pandas-docs/stable/user_guide/indexing.html#returning-a-view-versus-a-copy\n",
            "  \"\"\"\n",
            "/usr/local/lib/python3.6/dist-packages/ipykernel_launcher.py:6: SettingWithCopyWarning: \n",
            "A value is trying to be set on a copy of a slice from a DataFrame.\n",
            "Try using .loc[row_indexer,col_indexer] = value instead\n",
            "\n",
            "See the caveats in the documentation: https://pandas.pydata.org/pandas-docs/stable/user_guide/indexing.html#returning-a-view-versus-a-copy\n",
            "  \n"
          ],
          "name": "stderr"
        },
        {
          "output_type": "execute_result",
          "data": {
            "text/html": [
              "<div>\n",
              "<style scoped>\n",
              "    .dataframe tbody tr th:only-of-type {\n",
              "        vertical-align: middle;\n",
              "    }\n",
              "\n",
              "    .dataframe tbody tr th {\n",
              "        vertical-align: top;\n",
              "    }\n",
              "\n",
              "    .dataframe thead th {\n",
              "        text-align: right;\n",
              "    }\n",
              "</style>\n",
              "<table border=\"1\" class=\"dataframe\">\n",
              "  <thead>\n",
              "    <tr style=\"text-align: right;\">\n",
              "      <th></th>\n",
              "      <th>Unnamed: 0</th>\n",
              "      <th>Unnamed: 0.1</th>\n",
              "      <th>Unnamed: 0.1.1</th>\n",
              "      <th>Unnamed: 0.1.1.1</th>\n",
              "      <th>file</th>\n",
              "      <th>a</th>\n",
              "      <th>a_tag</th>\n",
              "      <th>X</th>\n",
              "      <th>X_tag</th>\n",
              "      <th>b</th>\n",
              "      <th>b_tag</th>\n",
              "      <th>grammar category</th>\n",
              "      <th>grammar cateogry</th>\n",
              "      <th>encode_cat</th>\n",
              "      <th>encode_pos</th>\n",
              "      <th>name</th>\n",
              "      <th>encoded_case</th>\n",
              "      <th>aXb</th>\n",
              "      <th>pred_y</th>\n",
              "      <th>pred_y_aXb</th>\n",
              "      <th>fold</th>\n",
              "      <th>correctaXb</th>\n",
              "      <th>correctaX+Xb</th>\n",
              "      <th>pred_y_aX_Xb</th>\n",
              "      <th>aXb_correct</th>\n",
              "      <th>aX_Xb_correct</th>\n",
              "    </tr>\n",
              "  </thead>\n",
              "  <tbody>\n",
              "    <tr>\n",
              "      <th>2580</th>\n",
              "      <td>5812</td>\n",
              "      <td>172099</td>\n",
              "      <td>172099</td>\n",
              "      <td>75176</td>\n",
              "      <td>Aran/020413.xml</td>\n",
              "      <td>than</td>\n",
              "      <td>prep</td>\n",
              "      <td>I</td>\n",
              "      <td>pro:sub</td>\n",
              "      <td>am</td>\n",
              "      <td>cop</td>\n",
              "      <td>unknown</td>\n",
              "      <td>NOUN</td>\n",
              "      <td>6</td>\n",
              "      <td>84</td>\n",
              "      <td>Aran</td>\n",
              "      <td>2</td>\n",
              "      <td>than_am</td>\n",
              "      <td>2</td>\n",
              "      <td>2</td>\n",
              "      <td>0</td>\n",
              "      <td>0</td>\n",
              "      <td>0</td>\n",
              "      <td>2</td>\n",
              "      <td>1</td>\n",
              "      <td>1</td>\n",
              "    </tr>\n",
              "    <tr>\n",
              "      <th>3908</th>\n",
              "      <td>10045</td>\n",
              "      <td>89134</td>\n",
              "      <td>89134</td>\n",
              "      <td>89134</td>\n",
              "      <td>Anne/020525.xml</td>\n",
              "      <td>are</td>\n",
              "      <td>cop</td>\n",
              "      <td>they</td>\n",
              "      <td>pro:sub</td>\n",
              "      <td>grapes</td>\n",
              "      <td>n</td>\n",
              "      <td>unknown</td>\n",
              "      <td>NOUN</td>\n",
              "      <td>6</td>\n",
              "      <td>84</td>\n",
              "      <td>Anne</td>\n",
              "      <td>2</td>\n",
              "      <td>are_grapes</td>\n",
              "      <td>2</td>\n",
              "      <td>0</td>\n",
              "      <td>0</td>\n",
              "      <td>0</td>\n",
              "      <td>0</td>\n",
              "      <td>2</td>\n",
              "      <td>0</td>\n",
              "      <td>1</td>\n",
              "    </tr>\n",
              "    <tr>\n",
              "      <th>3119</th>\n",
              "      <td>7467</td>\n",
              "      <td>46429</td>\n",
              "      <td>46429</td>\n",
              "      <td>46429</td>\n",
              "      <td>Anne/020122.xml</td>\n",
              "      <td>S</td>\n",
              "      <td>/s</td>\n",
              "      <td>they</td>\n",
              "      <td>pro:sub</td>\n",
              "      <td>fall</td>\n",
              "      <td>v</td>\n",
              "      <td>unknown</td>\n",
              "      <td>NOUN</td>\n",
              "      <td>6</td>\n",
              "      <td>84</td>\n",
              "      <td>Anne</td>\n",
              "      <td>2</td>\n",
              "      <td>S_fall</td>\n",
              "      <td>2</td>\n",
              "      <td>0</td>\n",
              "      <td>0</td>\n",
              "      <td>0</td>\n",
              "      <td>0</td>\n",
              "      <td>2</td>\n",
              "      <td>0</td>\n",
              "      <td>1</td>\n",
              "    </tr>\n",
              "    <tr>\n",
              "      <th>2358</th>\n",
              "      <td>5184</td>\n",
              "      <td>243113</td>\n",
              "      <td>243113</td>\n",
              "      <td>35386</td>\n",
              "      <td>Eve/020200a.xml</td>\n",
              "      <td>call</td>\n",
              "      <td>v</td>\n",
              "      <td>him</td>\n",
              "      <td>pro:obj</td>\n",
              "      <td>Fraser</td>\n",
              "      <td>n:prop</td>\n",
              "      <td>unknown</td>\n",
              "      <td>NOUN</td>\n",
              "      <td>6</td>\n",
              "      <td>72</td>\n",
              "      <td>Eve</td>\n",
              "      <td>1</td>\n",
              "      <td>call_Fraser</td>\n",
              "      <td>1</td>\n",
              "      <td>0</td>\n",
              "      <td>0</td>\n",
              "      <td>0</td>\n",
              "      <td>0</td>\n",
              "      <td>1</td>\n",
              "      <td>0</td>\n",
              "      <td>1</td>\n",
              "    </tr>\n",
              "    <tr>\n",
              "      <th>879</th>\n",
              "      <td>1445</td>\n",
              "      <td>240889</td>\n",
              "      <td>240889</td>\n",
              "      <td>33162</td>\n",
              "      <td>Eve/020100b.xml</td>\n",
              "      <td>how's</td>\n",
              "      <td>pro:int~cop</td>\n",
              "      <td>your</td>\n",
              "      <td>det:poss</td>\n",
              "      <td>foot</td>\n",
              "      <td>n</td>\n",
              "      <td>unknown</td>\n",
              "      <td>DET</td>\n",
              "      <td>4</td>\n",
              "      <td>25</td>\n",
              "      <td>Eve</td>\n",
              "      <td>0</td>\n",
              "      <td>how's_foot</td>\n",
              "      <td>0</td>\n",
              "      <td>0</td>\n",
              "      <td>0</td>\n",
              "      <td>0</td>\n",
              "      <td>0</td>\n",
              "      <td>0</td>\n",
              "      <td>1</td>\n",
              "      <td>1</td>\n",
              "    </tr>\n",
              "  </tbody>\n",
              "</table>\n",
              "</div>"
            ],
            "text/plain": [
              "      Unnamed: 0  Unnamed: 0.1  ...  aXb_correct  aX_Xb_correct\n",
              "2580        5812        172099  ...            1              1\n",
              "3908       10045         89134  ...            0              1\n",
              "3119        7467         46429  ...            0              1\n",
              "2358        5184        243113  ...            0              1\n",
              "879         1445        240889  ...            1              1\n",
              "\n",
              "[5 rows x 26 columns]"
            ]
          },
          "metadata": {
            "tags": []
          },
          "execution_count": 90
        }
      ]
    },
    {
      "cell_type": "code",
      "metadata": {
        "id": "jyM2D5x1Jy5l",
        "colab_type": "code",
        "colab": {}
      },
      "source": [
        "kfold.to_csv('kfold_few_results.csv')\n",
        "!cp kfold_few_results.csv \"/content/drive/My Drive/QP2/Input Model/\""
      ],
      "execution_count": null,
      "outputs": []
    },
    {
      "cell_type": "code",
      "metadata": {
        "id": "kdtLeJHFKc3i",
        "colab_type": "code",
        "colab": {
          "base_uri": "https://localhost:8080/",
          "height": 391
        },
        "outputId": "f61e3f79-3a94-4ec0-cfdb-83ab1b846a7e"
      },
      "source": [
        "from sklearn import metrics\n",
        "target_names = ['det:poss','pro:obj','pro:sub']\n",
        "print('aXb classification')\n",
        "print(metrics.classification_report(kfold['encoded_case'], kfold['pred_y_aXb'], digits=3, target_names=target_names))\n",
        "print('aX+Xb classification')\n",
        "print(metrics.classification_report(kfold['encoded_case'], kfold['pred_y_aX_Xb'], digits=3, target_names=target_names))"
      ],
      "execution_count": null,
      "outputs": [
        {
          "output_type": "stream",
          "text": [
            "aXb classification\n",
            "              precision    recall  f1-score   support\n",
            "\n",
            "    det:poss      0.765     0.975     0.858      3386\n",
            "     pro:obj      1.000     0.734     0.846      1281\n",
            "     pro:sub      0.948     0.740     0.831      2688\n",
            "\n",
            "    accuracy                          0.847      7355\n",
            "   macro avg      0.904     0.817     0.845      7355\n",
            "weighted avg      0.873     0.847     0.846      7355\n",
            "\n",
            "aX+Xb classification\n",
            "              precision    recall  f1-score   support\n",
            "\n",
            "    det:poss      0.973     0.969     0.971      3386\n",
            "     pro:obj      0.931     0.953     0.942      1281\n",
            "     pro:sub      0.977     0.971     0.974      2688\n",
            "\n",
            "    accuracy                          0.967      7355\n",
            "   macro avg      0.960     0.964     0.962      7355\n",
            "weighted avg      0.967     0.967     0.967      7355\n",
            "\n"
          ],
          "name": "stdout"
        }
      ]
    }
  ]
}