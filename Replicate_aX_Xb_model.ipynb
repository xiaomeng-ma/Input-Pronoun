{
  "nbformat": 4,
  "nbformat_minor": 0,
  "metadata": {
    "colab": {
      "name": "Replicate aX Xb model.ipynb",
      "provenance": [],
      "machine_shape": "hm",
      "authorship_tag": "ABX9TyNRZc7hvVHDmJ/SAb+to1b3",
      "include_colab_link": true
    },
    "kernelspec": {
      "name": "python3",
      "display_name": "Python 3"
    },
    "accelerator": "TPU"
  },
  "cells": [
    {
      "cell_type": "markdown",
      "metadata": {
        "id": "view-in-github",
        "colab_type": "text"
      },
      "source": [
        "<a href=\"https://colab.research.google.com/github/xiaomeng-ma/Input-Pronoun/blob/master/Replicate_aX_Xb_model.ipynb\" target=\"_parent\"><img src=\"https://colab.research.google.com/assets/colab-badge.svg\" alt=\"Open In Colab\"/></a>"
      ]
    },
    {
      "cell_type": "code",
      "metadata": {
        "id": "wsLddmjNrrV3",
        "colab_type": "code",
        "colab": {
          "base_uri": "https://localhost:8080/",
          "height": 275
        },
        "outputId": "7acc6ceb-597d-4dfc-ef6c-c9e31db92e38"
      },
      "source": [
        "!pip install PyDrive\n",
        "from pydrive.auth import GoogleAuth\n",
        "from pydrive.drive import GoogleDrive\n",
        "from google.colab import auth\n",
        "from oauth2client.client import GoogleCredentials\n",
        "# Authenticate and create the PyDrive client.\n",
        "auth.authenticate_user()\n",
        "gauth = GoogleAuth()\n",
        "gauth.credentials = GoogleCredentials.get_application_default()\n",
        "drive = GoogleDrive(gauth)"
      ],
      "execution_count": 2,
      "outputs": [
        {
          "output_type": "stream",
          "text": [
            "Requirement already satisfied: PyDrive in /usr/local/lib/python3.6/dist-packages (1.3.1)\n",
            "Requirement already satisfied: PyYAML>=3.0 in /usr/local/lib/python3.6/dist-packages (from PyDrive) (3.13)\n",
            "Requirement already satisfied: oauth2client>=4.0.0 in /usr/local/lib/python3.6/dist-packages (from PyDrive) (4.1.3)\n",
            "Requirement already satisfied: google-api-python-client>=1.2 in /usr/local/lib/python3.6/dist-packages (from PyDrive) (1.7.12)\n",
            "Requirement already satisfied: pyasn1>=0.1.7 in /usr/local/lib/python3.6/dist-packages (from oauth2client>=4.0.0->PyDrive) (0.4.8)\n",
            "Requirement already satisfied: httplib2>=0.9.1 in /usr/local/lib/python3.6/dist-packages (from oauth2client>=4.0.0->PyDrive) (0.17.4)\n",
            "Requirement already satisfied: rsa>=3.1.4 in /usr/local/lib/python3.6/dist-packages (from oauth2client>=4.0.0->PyDrive) (4.6)\n",
            "Requirement already satisfied: pyasn1-modules>=0.0.5 in /usr/local/lib/python3.6/dist-packages (from oauth2client>=4.0.0->PyDrive) (0.2.8)\n",
            "Requirement already satisfied: six>=1.6.1 in /usr/local/lib/python3.6/dist-packages (from oauth2client>=4.0.0->PyDrive) (1.12.0)\n",
            "Requirement already satisfied: uritemplate<4dev,>=3.0.0 in /usr/local/lib/python3.6/dist-packages (from google-api-python-client>=1.2->PyDrive) (3.0.1)\n",
            "Requirement already satisfied: google-auth-httplib2>=0.0.3 in /usr/local/lib/python3.6/dist-packages (from google-api-python-client>=1.2->PyDrive) (0.0.4)\n",
            "Requirement already satisfied: google-auth>=1.4.1 in /usr/local/lib/python3.6/dist-packages (from google-api-python-client>=1.2->PyDrive) (1.17.2)\n",
            "Requirement already satisfied: setuptools>=40.3.0 in /usr/local/lib/python3.6/dist-packages (from google-auth>=1.4.1->google-api-python-client>=1.2->PyDrive) (49.1.0)\n",
            "Requirement already satisfied: cachetools<5.0,>=2.0.0 in /usr/local/lib/python3.6/dist-packages (from google-auth>=1.4.1->google-api-python-client>=1.2->PyDrive) (4.1.1)\n"
          ],
          "name": "stdout"
        }
      ]
    },
    {
      "cell_type": "code",
      "metadata": {
        "id": "Vys7QmZLrycW",
        "colab_type": "code",
        "colab": {
          "base_uri": "https://localhost:8080/",
          "height": 54
        },
        "outputId": "86817224-cf3b-4e38-f8b9-4bcb709b1d21"
      },
      "source": [
        "from google.colab import drive \n",
        "drive.mount('/content/drive')"
      ],
      "execution_count": 3,
      "outputs": [
        {
          "output_type": "stream",
          "text": [
            "Drive already mounted at /content/drive; to attempt to forcibly remount, call drive.mount(\"/content/drive\", force_remount=True).\n"
          ],
          "name": "stdout"
        }
      ]
    },
    {
      "cell_type": "code",
      "metadata": {
        "id": "GeChb5Cnu4fk",
        "colab_type": "code",
        "colab": {
          "base_uri": "https://localhost:8080/",
          "height": 88
        },
        "outputId": "d13bedcf-cf1c-4691-9c9d-c57e71b5221d"
      },
      "source": [
        "import tensorflow as tf\n",
        "import matplotlib.pyplot as plt\n",
        "def plot_graphs(history, metric):\n",
        "    plt.plot(history.history[metric])\n",
        "    plt.plot(history.history['val_'+metric], '')\n",
        "    plt.xlabel(\"Epochs\")\n",
        "    plt.ylabel(metric)\n",
        "    plt.legend([metric, 'val_'+metric])\n",
        "    plt.show()\n",
        "from nltk.corpus import PlaintextCorpusReader\n",
        "from nltk.corpus.reader import CHILDESCorpusReader\n",
        "import numpy as np\n",
        "import pandas as pd\n",
        "from pandas import DataFrame\n",
        "from nltk.probability import FreqDist\n",
        "import string\n",
        "from nltk.stem.wordnet import WordNetLemmatizer\n",
        "\n",
        "import matplotlib.pyplot as plt\n",
        "from scipy import stats\n",
        "import itertools\n",
        "\n",
        "from scipy import optimize\n",
        "from scipy.optimize import curve_fit\n",
        "import seaborn as sns\n",
        "import matplotlib.pyplot as plt\n",
        "from numpy import log as ln\n",
        "import tensorflow_addons as tfa\n",
        "\n",
        "import numpy\n",
        "import math\n",
        "from keras.preprocessing import sequence\n",
        "from keras.models import Sequential\n",
        "from keras.layers import Dense, Dropout, Activation,Flatten\n",
        "from keras.layers import LSTM, Bidirectional\n",
        "from tensorflow.keras.layers import Embedding, TimeDistributed\n",
        "from keras.layers import Conv1D,Conv2D, GlobalMaxPooling1D, GlobalMaxPooling2D\n",
        "from keras.initializers import Constant\n",
        "from tensorflow.keras.preprocessing.text import Tokenizer\n",
        "from tensorflow.keras.preprocessing.sequence import pad_sequences\n",
        "from nltk.corpus import stopwords\n",
        "from nltk.tokenize import word_tokenize\n",
        "import matplotlib.ticker as ticker\n",
        "from sklearn.model_selection import StratifiedKFold,train_test_split\n",
        "\n",
        "from sklearn.feature_extraction.text import TfidfTransformer\n",
        "from sklearn.feature_extraction.text import TfidfVectorizer\n",
        "from tensorflow import keras\n",
        "from tensorflow.keras import layers\n",
        "from keras.utils import to_categorical\n",
        "from sklearn.preprocessing import LabelEncoder, OneHotEncoder\n",
        "from gensim.models import Word2Vec\n",
        "from sklearn.decomposition import PCA\n",
        "from sklearn.utils import shuffle\n",
        "import gensim\n"
      ],
      "execution_count": 4,
      "outputs": [
        {
          "output_type": "stream",
          "text": [
            "/usr/local/lib/python3.6/dist-packages/statsmodels/tools/_testing.py:19: FutureWarning: pandas.util.testing is deprecated. Use the functions in the public API at pandas.testing instead.\n",
            "  import pandas.util.testing as tm\n",
            "Using TensorFlow backend.\n"
          ],
          "name": "stderr"
        }
      ]
    },
    {
      "cell_type": "code",
      "metadata": {
        "id": "O-WuGQ4widYd",
        "colab_type": "code",
        "colab": {}
      },
      "source": [
        "file = '/content/drive/My Drive/QP2/Input Model/encoded_all_data.csv'\n",
        "df = pd.read_csv(file)"
      ],
      "execution_count": 5,
      "outputs": []
    },
    {
      "cell_type": "code",
      "metadata": {
        "id": "ljmLe_57izM6",
        "colab_type": "code",
        "colab": {}
      },
      "source": [
        "namelist = []\n",
        "for i in df.file.values:\n",
        "  namelist.append(i.split('/')[0])"
      ],
      "execution_count": 6,
      "outputs": []
    },
    {
      "cell_type": "code",
      "metadata": {
        "id": "OFQLXJ2OjaJ3",
        "colab_type": "code",
        "colab": {}
      },
      "source": [
        "df['name'] = namelist"
      ],
      "execution_count": 7,
      "outputs": []
    },
    {
      "cell_type": "code",
      "metadata": {
        "id": "LjnAUTp9wutK",
        "colab_type": "code",
        "colab": {
          "base_uri": "https://localhost:8080/",
          "height": 297
        },
        "outputId": "2ec8a30b-4eea-425f-8813-bec120d4344d"
      },
      "source": [
        "df = shuffle(df)\n",
        "df.describe()"
      ],
      "execution_count": 8,
      "outputs": [
        {
          "output_type": "execute_result",
          "data": {
            "text/html": [
              "<div>\n",
              "<style scoped>\n",
              "    .dataframe tbody tr th:only-of-type {\n",
              "        vertical-align: middle;\n",
              "    }\n",
              "\n",
              "    .dataframe tbody tr th {\n",
              "        vertical-align: top;\n",
              "    }\n",
              "\n",
              "    .dataframe thead th {\n",
              "        text-align: right;\n",
              "    }\n",
              "</style>\n",
              "<table border=\"1\" class=\"dataframe\">\n",
              "  <thead>\n",
              "    <tr style=\"text-align: right;\">\n",
              "      <th></th>\n",
              "      <th>Unnamed: 0</th>\n",
              "      <th>Unnamed: 0.1</th>\n",
              "      <th>encode_cat</th>\n",
              "      <th>encode_pos</th>\n",
              "    </tr>\n",
              "  </thead>\n",
              "  <tbody>\n",
              "    <tr>\n",
              "      <th>count</th>\n",
              "      <td>387811.00000</td>\n",
              "      <td>387811.000000</td>\n",
              "      <td>387811.000000</td>\n",
              "      <td>387811.000000</td>\n",
              "    </tr>\n",
              "    <tr>\n",
              "      <th>mean</th>\n",
              "      <td>193905.00000</td>\n",
              "      <td>42463.196753</td>\n",
              "      <td>5.816351</td>\n",
              "      <td>45.908345</td>\n",
              "    </tr>\n",
              "    <tr>\n",
              "      <th>std</th>\n",
              "      <td>111951.53696</td>\n",
              "      <td>29575.460284</td>\n",
              "      <td>2.750120</td>\n",
              "      <td>29.484600</td>\n",
              "    </tr>\n",
              "    <tr>\n",
              "      <th>min</th>\n",
              "      <td>0.00000</td>\n",
              "      <td>0.000000</td>\n",
              "      <td>0.000000</td>\n",
              "      <td>0.000000</td>\n",
              "    </tr>\n",
              "    <tr>\n",
              "      <th>25%</th>\n",
              "      <td>96952.50000</td>\n",
              "      <td>16738.500000</td>\n",
              "      <td>4.000000</td>\n",
              "      <td>20.000000</td>\n",
              "    </tr>\n",
              "    <tr>\n",
              "      <th>50%</th>\n",
              "      <td>193905.00000</td>\n",
              "      <td>37210.000000</td>\n",
              "      <td>6.000000</td>\n",
              "      <td>34.000000</td>\n",
              "    </tr>\n",
              "    <tr>\n",
              "      <th>75%</th>\n",
              "      <td>290857.50000</td>\n",
              "      <td>66736.500000</td>\n",
              "      <td>8.000000</td>\n",
              "      <td>74.000000</td>\n",
              "    </tr>\n",
              "    <tr>\n",
              "      <th>max</th>\n",
              "      <td>387810.00000</td>\n",
              "      <td>110803.000000</td>\n",
              "      <td>10.000000</td>\n",
              "      <td>99.000000</td>\n",
              "    </tr>\n",
              "  </tbody>\n",
              "</table>\n",
              "</div>"
            ],
            "text/plain": [
              "         Unnamed: 0   Unnamed: 0.1     encode_cat     encode_pos\n",
              "count  387811.00000  387811.000000  387811.000000  387811.000000\n",
              "mean   193905.00000   42463.196753       5.816351      45.908345\n",
              "std    111951.53696   29575.460284       2.750120      29.484600\n",
              "min         0.00000       0.000000       0.000000       0.000000\n",
              "25%     96952.50000   16738.500000       4.000000      20.000000\n",
              "50%    193905.00000   37210.000000       6.000000      34.000000\n",
              "75%    290857.50000   66736.500000       8.000000      74.000000\n",
              "max    387810.00000  110803.000000      10.000000      99.000000"
            ]
          },
          "metadata": {
            "tags": []
          },
          "execution_count": 8
        }
      ]
    },
    {
      "cell_type": "code",
      "metadata": {
        "id": "GCySWPNivWX7",
        "colab_type": "code",
        "colab": {
          "base_uri": "https://localhost:8080/",
          "height": 51
        },
        "outputId": "1b887264-7fc9-40f0-ce8d-683c0e6b9797"
      },
      "source": [
        "df['grammar cateogry'].unique()"
      ],
      "execution_count": 58,
      "outputs": [
        {
          "output_type": "execute_result",
          "data": {
            "text/plain": [
              "array(['WH', 'CLIT', 'DET', 'Unknown', 'VERB', 'NOUN', 'PREP', 'ADV',\n",
              "       'ADJ', 'CONJ', 'NEG'], dtype=object)"
            ]
          },
          "metadata": {
            "tags": []
          },
          "execution_count": 58
        }
      ]
    },
    {
      "cell_type": "code",
      "metadata": {
        "id": "RJA3KwfPxNTs",
        "colab_type": "code",
        "colab": {
          "base_uri": "https://localhost:8080/",
          "height": 320
        },
        "outputId": "397ce148-0ba0-42fa-d2ae-c3bc78584ddf"
      },
      "source": [
        "df['grammar cateogry'].value_counts().plot(kind='bar')"
      ],
      "execution_count": 9,
      "outputs": [
        {
          "output_type": "execute_result",
          "data": {
            "text/plain": [
              "<matplotlib.axes._subplots.AxesSubplot at 0x7f4056086400>"
            ]
          },
          "metadata": {
            "tags": []
          },
          "execution_count": 9
        },
        {
          "output_type": "display_data",
          "data": {
            "image/png": "[encoded data removed]",
            "text/plain": [
              "<Figure size 432x288 with 1 Axes>"
            ]
          },
          "metadata": {
            "tags": [],
            "needs_background": "light"
          }
        }
      ]
    },
    {
      "cell_type": "code",
      "metadata": {
        "id": "p4F_2c6QebsR",
        "colab_type": "code",
        "colab": {}
      },
      "source": [
        "df100 = df.sample(100000, random_state= 4)\n",
        "df100 = shuffle(df100)"
      ],
      "execution_count": 10,
      "outputs": []
    },
    {
      "cell_type": "code",
      "metadata": {
        "id": "h8nfxp9C99DA",
        "colab_type": "code",
        "colab": {}
      },
      "source": [
        "onehot_aX = pd.get_dummies(df100.a)\n",
        "onehot_Xb = pd.get_dummies(df100.b)\n",
        "cat_y = df100.encode_cat\n",
        "pos_y = df100.encode_pos"
      ],
      "execution_count": 11,
      "outputs": []
    },
    {
      "cell_type": "code",
      "metadata": {
        "id": "0fUYfmAUc5JY",
        "colab_type": "code",
        "colab": {
          "base_uri": "https://localhost:8080/",
          "height": 34
        },
        "outputId": "ec2a368f-cc4a-4d33-c3cf-09d53fce121c"
      },
      "source": [
        "onehot_aX.shape"
      ],
      "execution_count": 12,
      "outputs": [
        {
          "output_type": "execute_result",
          "data": {
            "text/plain": [
              "(100000, 3188)"
            ]
          },
          "metadata": {
            "tags": []
          },
          "execution_count": 12
        }
      ]
    },
    {
      "cell_type": "code",
      "metadata": {
        "id": "hKHNWzonc9hG",
        "colab_type": "code",
        "colab": {
          "base_uri": "https://localhost:8080/",
          "height": 34
        },
        "outputId": "e30dbefc-2418-42b0-ec05-5ef968438ea7"
      },
      "source": [
        "onehot_Xb.shape"
      ],
      "execution_count": 13,
      "outputs": [
        {
          "output_type": "execute_result",
          "data": {
            "text/plain": [
              "(100000, 3621)"
            ]
          },
          "metadata": {
            "tags": []
          },
          "execution_count": 13
        }
      ]
    },
    {
      "cell_type": "code",
      "metadata": {
        "id": "W16tcKlgwdpf",
        "colab_type": "code",
        "colab": {}
      },
      "source": [
        "aXshape = onehot_aX.shape[1]\n",
        "bXshape = onehot_Xb.shape[1]\n",
        "aX_input = keras.Input(shape=(aXshape,) , name ='aX')\n",
        "Xb_input = keras.Input(shape=(bXshape,) ,name = 'Xb')\n",
        "#x = layers.LSTM(64)(aX_input)\n",
        "#x = layers.Dense(200, activation = 'relu')(x)\n",
        "#y = layers.LSTM(64)(Xb_input)\n",
        "#y = layers.Dense(200, activation='relu')(y)\n",
        "#x = layers.Dropout(0.3)\n",
        "#x = layers.concatenate([aX_input, Xb_input])\n",
        "grammar_category_pred = layers.Dense(11, name = 'category')(x)\n",
        "pos_pred = layers.Dense(100, name = 'POS_tagger')(x)\n",
        "model = keras.Model(\n",
        "    inputs = [aX_input, Xb_input],\n",
        "    outputs = [grammar_category_pred,pos_pred])"
      ],
      "execution_count": 25,
      "outputs": []
    },
    {
      "cell_type": "code",
      "metadata": {
        "id": "SdoJcnahy-t1",
        "colab_type": "code",
        "colab": {
          "base_uri": "https://localhost:8080/",
          "height": 312
        },
        "outputId": "57ef4f2d-6203-4fa6-dcb9-dfac22139f19"
      },
      "source": [
        "keras.utils.plot_model(model, \"aX + Xb model.png\", show_shapes= True)\n"
      ],
      "execution_count": 26,
      "outputs": [
        {
          "output_type": "execute_result",
          "data": {
            "image/png": "[encoded data removed]",
            "text/plain": [
              "<IPython.core.display.Image object>"
            ]
          },
          "metadata": {
            "tags": []
          },
          "execution_count": 26
        }
      ]
    },
    {
      "cell_type": "code",
      "metadata": {
        "id": "CmTq7VYFzfJ7",
        "colab_type": "code",
        "colab": {}
      },
      "source": [
        "model.compile(\n",
        "    optimizer='adam',\n",
        "    loss=tf.keras.losses.SparseCategoricalCrossentropy(from_logits=True),\n",
        "    metrics = ['accuracy', 'mae', 'mse'])\n"
      ],
      "execution_count": 27,
      "outputs": []
    },
    {
      "cell_type": "code",
      "metadata": {
        "id": "C9SWL2hO2wLR",
        "colab_type": "code",
        "colab": {
          "base_uri": "https://localhost:8080/",
          "height": 119
        },
        "outputId": "9e2194e5-f77e-447f-8d6b-5534424301c2"
      },
      "source": [
        "aX_train_data, aX_test_data, cat_train_tag, cat_test_tag = train_test_split(onehot_aX, df100['encode_cat'], test_size=0.20, random_state=4)\n",
        "Xb_train_data, Xb_test_data, pos_train_tag, pos_test_tag = train_test_split(onehot_Xb, df100['encode_pos'], test_size=0.20, random_state=4)\n",
        "aX_train = np.asarray(aX_train_data).astype(np.float32)\n",
        "aX_test = np.asarray(aX_test_data).astype(np.float32)\n",
        "y_cat_train = np.asarray(cat_train_tag).astype(np.float32)\n",
        "Y_cat_test = np.asarray(cat_test_tag).astype(np.float32)\n",
        "Xb_train = np.asarray(Xb_train_data).astype(np.float32)\n",
        "Xb_test = np.asarray(Xb_test_data).astype(np.float32)\n",
        "y_pos_train = np.asarray(pos_train_tag).astype(np.float32)\n",
        "Y_pos_test = np.asarray(pos_test_tag).astype(np.float32)\n",
        "print(len(aX_train),aX_train.shape)\n",
        "print(len(aX_test),aX_test.shape)\n",
        "print(len(Xb_train),Xb_train.shape )\n",
        "print(len(Xb_test), Xb_test.shape)\n",
        "print(len(Y_cat_test),Y_cat_test.shape)\n",
        "print(len(Y_pos_test), Y_pos_test.shape)"
      ],
      "execution_count": 28,
      "outputs": [
        {
          "output_type": "stream",
          "text": [
            "80000 (80000, 3188)\n",
            "20000 (20000, 3188)\n",
            "80000 (80000, 3621)\n",
            "20000 (20000, 3621)\n",
            "20000 (20000,)\n",
            "20000 (20000,)\n"
          ],
          "name": "stdout"
        }
      ]
    },
    {
      "cell_type": "code",
      "metadata": {
        "id": "KxGZvVPUXRNq",
        "colab_type": "code",
        "colab": {}
      },
      "source": [
        "import tensorflow_docs as tfdocs\n",
        "import tensorflow_docs.plots\n",
        "import tensorflow_docs.modeling\n",
        "\n",
        "early_stop = keras.callbacks.EarlyStopping(monitor='accuracy', patience=10)\n",
        "\n",
        "history = model.fit({\"aX\": aX_train, \"Xb\": Xb_train}, \n",
        "          {\"category\":y_cat_train, \"POS_tagger\": y_pos_train},\n",
        "          validation_split = 0.2,\n",
        "          callbacks=[early_stop, tfdocs.modeling.EpochDots()], \n",
        "          epochs=100,\n",
        "          batch_size = 32)\n"
      ],
      "execution_count": null,
      "outputs": []
    },
    {
      "cell_type": "code",
      "metadata": {
        "id": "ALU458EEY2fb",
        "colab_type": "code",
        "colab": {
          "base_uri": "https://localhost:8080/",
          "height": 300
        },
        "outputId": "e808c136-4113-4ddf-a754-ff048fabbe2c"
      },
      "source": [
        "plotter = tfdocs.plots.HistoryPlotter(smoothing_std=2)\n",
        "plotter.plot({'Accuracy': history}, metric = \"category_accuracy\")\n",
        "plt.ylim([0, 1])\n",
        "plt.ylabel('val_category_accuracy')"
      ],
      "execution_count": 32,
      "outputs": [
        {
          "output_type": "execute_result",
          "data": {
            "text/plain": [
              "Text(0, 0.5, 'val_category_accuracy')"
            ]
          },
          "metadata": {
            "tags": []
          },
          "execution_count": 32
        },
        {
          "output_type": "display_data",
          "data": {
            "image/png": "[encoded data removed]",
            "text/plain": [
              "<Figure size 432x288 with 1 Axes>"
            ]
          },
          "metadata": {
            "tags": [],
            "needs_background": "light"
          }
        }
      ]
    },
    {
      "cell_type": "code",
      "metadata": {
        "id": "ave-tXegjhbT",
        "colab_type": "code",
        "colab": {
          "base_uri": "https://localhost:8080/",
          "height": 300
        },
        "outputId": "fc005ef4-d7b5-4f9e-a585-dbd213045367"
      },
      "source": [
        "plotter.plot({'Accuracy': history}, metric = \"POS_tagger_accuracy\")\n",
        "plt.ylim([0, 1])\n",
        "plt.ylabel('val_POS_tagger_accuracy')"
      ],
      "execution_count": 33,
      "outputs": [
        {
          "output_type": "execute_result",
          "data": {
            "text/plain": [
              "Text(0, 0.5, 'val_POS_tagger_accuracy')"
            ]
          },
          "metadata": {
            "tags": []
          },
          "execution_count": 33
        },
        {
          "output_type": "display_data",
          "data": {
            "image/png": "[encoded data removed]",
            "text/plain": [
              "<Figure size 432x288 with 1 Axes>"
            ]
          },
          "metadata": {
            "tags": [],
            "needs_background": "light"
          }
        }
      ]
    },
    {
      "cell_type": "code",
      "metadata": {
        "id": "wxCQb8N__ODM",
        "colab_type": "code",
        "colab": {
          "base_uri": "https://localhost:8080/",
          "height": 207
        },
        "outputId": "c80b230d-3c2c-4025-efc2-1cc112eb3af1"
      },
      "source": [
        "model.evaluate(x = {\"aX\": aX_test, \"Xb\": Xb_test}, y={\"category\": Y_cat_test, \"POS_tagger\": Y_pos_test}, verbose=2)"
      ],
      "execution_count": 37,
      "outputs": [
        {
          "output_type": "stream",
          "text": [
            "625/625 - 1s - loss: 3.2884 - category_loss: 1.2124 - POS_tagger_loss: 2.0760 - category_accuracy: 0.6985 - category_mae: 11.7223 - category_mse: 180.0101 - POS_tagger_accuracy: 0.5479 - POS_tagger_mae: 60.3915 - POS_tagger_mse: 4588.4746\n"
          ],
          "name": "stdout"
        },
        {
          "output_type": "execute_result",
          "data": {
            "text/plain": [
              "[3.288403034210205,\n",
              " 1.2124367952346802,\n",
              " 2.075967311859131,\n",
              " 0.6985499858856201,\n",
              " 11.722268104553223,\n",
              " 180.0101318359375,\n",
              " 0.5479000210762024,\n",
              " 60.39154815673828,\n",
              " 4588.474609375]"
            ]
          },
          "metadata": {
            "tags": []
          },
          "execution_count": 37
        }
      ]
    },
    {
      "cell_type": "code",
      "metadata": {
        "id": "NDyPZCacqOCg",
        "colab_type": "code",
        "colab": {}
      },
      "source": [
        "aXshape = onehot_aX.shape[1]\n",
        "bXshape = onehot_Xb.shape[1]\n",
        "aX_input = keras.Input(shape=(aXshape,) , name ='aX')\n",
        "Xb_input = keras.Input(shape=(bXshape,) ,name = 'Xb')\n",
        "axxx = layers.Dense(200, activation = 'relu')(aX_input)\n",
        "xxxb = layers.Dense(200, activation='relu')(Xb_input)\n",
        "x = layers.concatenate([axxx, xxxb])\n",
        "x = layers.Dense(200, activation= 'relu')(x)\n",
        "grammar_category_pred = layers.Dense(11, name = 'category')(x)\n",
        "model = keras.Model(\n",
        "    inputs = [aX_input, Xb_input],\n",
        "    outputs = grammar_category_pred)"
      ],
      "execution_count": 44,
      "outputs": []
    },
    {
      "cell_type": "code",
      "metadata": {
        "id": "Y4zV08Vtq0ht",
        "colab_type": "code",
        "colab": {
          "base_uri": "https://localhost:8080/",
          "height": 533
        },
        "outputId": "e948c4a3-6e3e-4195-f7c0-1811595e48ee"
      },
      "source": [
        "keras.utils.plot_model(model, \"aX + Xb model.png\", show_shapes= True)\n"
      ],
      "execution_count": 45,
      "outputs": [
        {
          "output_type": "execute_result",
          "data": {
            "image/png": "[encoded data removed]",
            "text/plain": [
              "<IPython.core.display.Image object>"
            ]
          },
          "metadata": {
            "tags": []
          },
          "execution_count": 45
        }
      ]
    },
    {
      "cell_type": "code",
      "metadata": {
        "id": "7j_nSVydrChx",
        "colab_type": "code",
        "colab": {}
      },
      "source": [
        "model.compile(\n",
        "    optimizer='adam',\n",
        "    loss=tf.keras.losses.SparseCategoricalCrossentropy(from_logits=True),\n",
        "    metrics = ['accuracy', 'mse'])"
      ],
      "execution_count": 46,
      "outputs": []
    },
    {
      "cell_type": "code",
      "metadata": {
        "id": "DwyORXOWr1jx",
        "colab_type": "code",
        "colab": {}
      },
      "source": [
        "early_stop = keras.callbacks.EarlyStopping(monitor='accuracy', patience=10)\n",
        "\n",
        "history = model.fit({\"aX\": aX_train, \"Xb\": Xb_train}, \n",
        "          y_cat_train,\n",
        "          validation_split = 0.2,\n",
        "          callbacks=[early_stop, tfdocs.modeling.EpochDots()], \n",
        "          epochs=100,\n",
        "          batch_size = 32)"
      ],
      "execution_count": null,
      "outputs": []
    },
    {
      "cell_type": "code",
      "metadata": {
        "id": "66dGhj4Bt9ve",
        "colab_type": "code",
        "colab": {
          "base_uri": "https://localhost:8080/",
          "height": 300
        },
        "outputId": "f91c1ea5-1888-4198-9823-fef1063b786e"
      },
      "source": [
        "plotter.plot({'Accuracy': history}, metric = \"accuracy\")\n",
        "plt.ylim([0, 1])\n",
        "plt.ylabel('category accuracy')"
      ],
      "execution_count": 48,
      "outputs": [
        {
          "output_type": "execute_result",
          "data": {
            "text/plain": [
              "Text(0, 0.5, 'category accuracy')"
            ]
          },
          "metadata": {
            "tags": []
          },
          "execution_count": 48
        },
        {
          "output_type": "display_data",
          "data": {
            "image/png": "[encoded data removed]",
            "text/plain": [
              "<Figure size 432x288 with 1 Axes>"
            ]
          },
          "metadata": {
            "tags": [],
            "needs_background": "light"
          }
        }
      ]
    },
    {
      "cell_type": "code",
      "metadata": {
        "id": "QDl1p-uuuIYv",
        "colab_type": "code",
        "colab": {
          "base_uri": "https://localhost:8080/",
          "height": 300
        },
        "outputId": "c3235b80-d21f-4897-9d8d-4b20f2307735"
      },
      "source": [
        "plotter = tfdocs.plots.HistoryPlotter(smoothing_std=2)\n",
        "plotter.plot({'Loss': history}, metric = 'loss')\n",
        "plt.ylim([0, 1])\n",
        "plt.ylabel('category loss')"
      ],
      "execution_count": 53,
      "outputs": [
        {
          "output_type": "execute_result",
          "data": {
            "text/plain": [
              "Text(0, 0.5, 'category loss')"
            ]
          },
          "metadata": {
            "tags": []
          },
          "execution_count": 53
        },
        {
          "output_type": "display_data",
          "data": {
            "image/png": "[encoded data removed]",
            "text/plain": [
              "<Figure size 432x288 with 1 Axes>"
            ]
          },
          "metadata": {
            "tags": [],
            "needs_background": "light"
          }
        }
      ]
    },
    {
      "cell_type": "code",
      "metadata": {
        "id": "VVWLplTcugWt",
        "colab_type": "code",
        "colab": {
          "base_uri": "https://localhost:8080/",
          "height": 51
        },
        "outputId": "aeccf919-a981-4646-8616-38624441116b"
      },
      "source": [
        "loss, accuracy, mse = model.evaluate({\"aX\": aX_test, \"Xb\": Xb_test}, y={\"category\": Y_cat_test}, verbose=2)\n",
        "print(\"Test set loss: {:5.2f} , accuracy: {:5.2f}, mse: {:5.2f}  \".format(loss, accuracy, mse))"
      ],
      "execution_count": 57,
      "outputs": [
        {
          "output_type": "stream",
          "text": [
            "625/625 - 1s - loss: 1.6110 - accuracy: 0.7004 - mse: 260.5323\n",
            "Test set loss:  1.61 , accuracy:  0.70, mse: 260.53  \n"
          ],
          "name": "stdout"
        }
      ]
    },
    {
      "cell_type": "code",
      "metadata": {
        "id": "B3F2MSPNu_ok",
        "colab_type": "code",
        "colab": {
          "base_uri": "https://localhost:8080/",
          "height": 323
        },
        "outputId": "b116568a-30c1-4054-d67f-02b913503dcd"
      },
      "source": [
        "from sklearn import metrics\n",
        "y_pred = model.predict([aX_test,Xb_test])\n",
        "y_pred = np.argmax(y_pred, axis = 1)\n",
        "\n",
        "target_names = ['ADJ','ADV', 'CLIT', 'CONJ','DET', 'NEG', 'NOUN', 'PREP', 'Unknown','VERB', 'WH',]\n",
        "print(metrics.classification_report(Y_cat_test, y_pred, digits=3, target_names=target_names))"
      ],
      "execution_count": 59,
      "outputs": [
        {
          "output_type": "stream",
          "text": [
            "              precision    recall  f1-score   support\n",
            "\n",
            "         ADJ      0.488     0.361     0.415       660\n",
            "         ADV      0.512     0.409     0.455      1283\n",
            "        CLIT      0.574     0.629     0.601      1716\n",
            "        CONJ      0.353     0.239     0.285       461\n",
            "         DET      0.789     0.738     0.762      2096\n",
            "         NEG      0.467     0.416     0.440       101\n",
            "        NOUN      0.783     0.813     0.798      5965\n",
            "        PREP      0.734     0.684     0.708      1419\n",
            "     Unknown      0.581     0.669     0.622      1398\n",
            "        VERB      0.732     0.778     0.754      4289\n",
            "          WH      0.671     0.614     0.642       612\n",
            "\n",
            "    accuracy                          0.700     20000\n",
            "   macro avg      0.608     0.577     0.589     20000\n",
            "weighted avg      0.695     0.700     0.696     20000\n",
            "\n"
          ],
          "name": "stdout"
        }
      ]
    },
    {
      "cell_type": "code",
      "metadata": {
        "id": "7aE6-Pa3wKcp",
        "colab_type": "code",
        "colab": {
          "base_uri": "https://localhost:8080/",
          "height": 34
        },
        "outputId": "4a943f00-50cb-44e7-ad57-991f11f3f830"
      },
      "source": [
        ""
      ],
      "execution_count": 63,
      "outputs": [
        {
          "output_type": "execute_result",
          "data": {
            "text/plain": [
              "20000"
            ]
          },
          "metadata": {
            "tags": []
          },
          "execution_count": 63
        }
      ]
    }
  ]
}