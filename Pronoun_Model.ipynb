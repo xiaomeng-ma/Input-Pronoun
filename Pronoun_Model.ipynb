{
  "nbformat": 4,
  "nbformat_minor": 0,
  "metadata": {
    "colab": {
      "name": "Pronoun Model.ipynb",
      "provenance": [],
      "authorship_tag": "ABX9TyOGJLWYq2qfL2c/b6m/inVs",
      "include_colab_link": true
    },
    "kernelspec": {
      "name": "python3",
      "display_name": "Python 3"
    }
  },
  "cells": [
    {
      "cell_type": "markdown",
      "metadata": {
        "id": "view-in-github",
        "colab_type": "text"
      },
      "source": [
        "<a href=\"https://colab.research.google.com/github/xiaomeng-ma/Input-Pronoun/blob/master/Pronoun_Model.ipynb\" target=\"_parent\"><img src=\"https://colab.research.google.com/assets/colab-badge.svg\" alt=\"Open In Colab\"/></a>"
      ]
    },
    {
      "cell_type": "code",
      "metadata": {
        "id": "aVbaGUJ9oIsL",
        "colab_type": "code",
        "colab": {
          "base_uri": "https://localhost:8080/",
          "height": 275
        },
        "outputId": "a3c12205-34ea-4ac9-cda5-34af4ebf37c1"
      },
      "source": [
        "!pip install PyDrive\n",
        "from pydrive.auth import GoogleAuth\n",
        "from pydrive.drive import GoogleDrive\n",
        "from google.colab import auth\n",
        "from oauth2client.client import GoogleCredentials\n",
        "# Authenticate and create the PyDrive client.\n",
        "auth.authenticate_user()\n",
        "gauth = GoogleAuth()\n",
        "gauth.credentials = GoogleCredentials.get_application_default()\n",
        "drive = GoogleDrive(gauth)"
      ],
      "execution_count": 1,
      "outputs": [
        {
          "output_type": "stream",
          "text": [
            "Requirement already satisfied: PyDrive in /usr/local/lib/python3.6/dist-packages (1.3.1)\n",
            "Requirement already satisfied: PyYAML>=3.0 in /usr/local/lib/python3.6/dist-packages (from PyDrive) (3.13)\n",
            "Requirement already satisfied: oauth2client>=4.0.0 in /usr/local/lib/python3.6/dist-packages (from PyDrive) (4.1.3)\n",
            "Requirement already satisfied: google-api-python-client>=1.2 in /usr/local/lib/python3.6/dist-packages (from PyDrive) (1.7.12)\n",
            "Requirement already satisfied: rsa>=3.1.4 in /usr/local/lib/python3.6/dist-packages (from oauth2client>=4.0.0->PyDrive) (4.6)\n",
            "Requirement already satisfied: pyasn1-modules>=0.0.5 in /usr/local/lib/python3.6/dist-packages (from oauth2client>=4.0.0->PyDrive) (0.2.8)\n",
            "Requirement already satisfied: pyasn1>=0.1.7 in /usr/local/lib/python3.6/dist-packages (from oauth2client>=4.0.0->PyDrive) (0.4.8)\n",
            "Requirement already satisfied: httplib2>=0.9.1 in /usr/local/lib/python3.6/dist-packages (from oauth2client>=4.0.0->PyDrive) (0.17.4)\n",
            "Requirement already satisfied: six>=1.6.1 in /usr/local/lib/python3.6/dist-packages (from oauth2client>=4.0.0->PyDrive) (1.12.0)\n",
            "Requirement already satisfied: uritemplate<4dev,>=3.0.0 in /usr/local/lib/python3.6/dist-packages (from google-api-python-client>=1.2->PyDrive) (3.0.1)\n",
            "Requirement already satisfied: google-auth>=1.4.1 in /usr/local/lib/python3.6/dist-packages (from google-api-python-client>=1.2->PyDrive) (1.17.2)\n",
            "Requirement already satisfied: google-auth-httplib2>=0.0.3 in /usr/local/lib/python3.6/dist-packages (from google-api-python-client>=1.2->PyDrive) (0.0.4)\n",
            "Requirement already satisfied: cachetools<5.0,>=2.0.0 in /usr/local/lib/python3.6/dist-packages (from google-auth>=1.4.1->google-api-python-client>=1.2->PyDrive) (4.1.1)\n",
            "Requirement already satisfied: setuptools>=40.3.0 in /usr/local/lib/python3.6/dist-packages (from google-auth>=1.4.1->google-api-python-client>=1.2->PyDrive) (49.1.0)\n"
          ],
          "name": "stdout"
        }
      ]
    },
    {
      "cell_type": "code",
      "metadata": {
        "id": "wNfwG4FLoURA",
        "colab_type": "code",
        "colab": {
          "base_uri": "https://localhost:8080/",
          "height": 122
        },
        "outputId": "5c04e365-5733-4983-c9c6-edbb43d68ffc"
      },
      "source": [
        "from google.colab import drive \n",
        "drive.mount('/content/drive')"
      ],
      "execution_count": 2,
      "outputs": [
        {
          "output_type": "stream",
          "text": [
            "Go to this URL in a browser: https://accounts.google.com/o/oauth2/auth?client_id=947318989803-6bn6qk8qdgf4n4g3pfee6491hc0brc4i.apps.googleusercontent.com&redirect_uri=urn%3aietf%3awg%3aoauth%3a2.0%3aoob&response_type=code&scope=email%20https%3a%2f%2fwww.googleapis.com%2fauth%2fdocs.test%20https%3a%2f%2fwww.googleapis.com%2fauth%2fdrive%20https%3a%2f%2fwww.googleapis.com%2fauth%2fdrive.photos.readonly%20https%3a%2f%2fwww.googleapis.com%2fauth%2fpeopleapi.readonly\n",
            "\n",
            "Enter your authorization code:\n",
            "··········\n",
            "Mounted at /content/drive\n"
          ],
          "name": "stdout"
        }
      ]
    },
    {
      "cell_type": "code",
      "metadata": {
        "id": "Cp0gDKMh6lyq",
        "colab_type": "code",
        "colab": {
          "base_uri": "https://localhost:8080/",
          "height": 309
        },
        "outputId": "5eab7aad-abe5-4604-b5a4-bbbdf6b74044"
      },
      "source": [
        "!pip install git+https://github.com/tensorflow/docs\n",
        "\n",
        "import tensorflow_docs as tfdocs\n",
        "import tensorflow_docs.plots\n",
        "import tensorflow_docs.modeling"
      ],
      "execution_count": 55,
      "outputs": [
        {
          "output_type": "stream",
          "text": [
            "Collecting git+https://github.com/tensorflow/docs\n",
            "  Cloning https://github.com/tensorflow/docs to /tmp/pip-req-build-n8cjz42n\n",
            "  Running command git clone -q https://github.com/tensorflow/docs /tmp/pip-req-build-n8cjz42n\n",
            "Requirement already satisfied: astor in /usr/local/lib/python3.6/dist-packages (from tensorflow-docs===0.0.0b4bbe1fd98165892e16e4a7e30ac2d10e148891f-) (0.8.1)\n",
            "Requirement already satisfied: absl-py in /usr/local/lib/python3.6/dist-packages (from tensorflow-docs===0.0.0b4bbe1fd98165892e16e4a7e30ac2d10e148891f-) (0.9.0)\n",
            "Requirement already satisfied: protobuf in /usr/local/lib/python3.6/dist-packages (from tensorflow-docs===0.0.0b4bbe1fd98165892e16e4a7e30ac2d10e148891f-) (3.10.0)\n",
            "Requirement already satisfied: pyyaml in /usr/local/lib/python3.6/dist-packages (from tensorflow-docs===0.0.0b4bbe1fd98165892e16e4a7e30ac2d10e148891f-) (3.13)\n",
            "Requirement already satisfied: six in /usr/local/lib/python3.6/dist-packages (from absl-py->tensorflow-docs===0.0.0b4bbe1fd98165892e16e4a7e30ac2d10e148891f-) (1.12.0)\n",
            "Requirement already satisfied: setuptools in /usr/local/lib/python3.6/dist-packages (from protobuf->tensorflow-docs===0.0.0b4bbe1fd98165892e16e4a7e30ac2d10e148891f-) (49.1.0)\n",
            "Building wheels for collected packages: tensorflow-docs\n",
            "  Building wheel for tensorflow-docs (setup.py) ... \u001b[?25l\u001b[?25hdone\n",
            "  Created wheel for tensorflow-docs: filename=tensorflow_docs-0.0.0b4bbe1fd98165892e16e4a7e30ac2d10e148891f_-cp36-none-any.whl size=124653 sha256=684f859de58907795299a095d7d19de2a0f4bf1cd7a049d28881f170c9c804db\n",
            "  Stored in directory: /tmp/pip-ephem-wheel-cache-j1y02jsx/wheels/eb/1b/35/fce87697be00d2fc63e0b4b395b0d9c7e391a10e98d9a0d97f\n",
            "Successfully built tensorflow-docs\n",
            "Installing collected packages: tensorflow-docs\n",
            "Successfully installed tensorflow-docs-0.0.0b4bbe1fd98165892e16e4a7e30ac2d10e148891f-\n"
          ],
          "name": "stdout"
        }
      ]
    },
    {
      "cell_type": "code",
      "metadata": {
        "id": "EKyLtIWKodtI",
        "colab_type": "code",
        "colab": {}
      },
      "source": [
        "import tensorflow as tf\n",
        "import matplotlib.pyplot as plt\n",
        "def plot_graphs(history, metric):\n",
        "    plt.plot(history.history[metric])\n",
        "    plt.plot(history.history['val_'+metric], '')\n",
        "    plt.xlabel(\"Epochs\")\n",
        "    plt.ylabel(metric)\n",
        "    plt.legend([metric, 'val_'+metric])\n",
        "    plt.show()\n",
        "from nltk.corpus import PlaintextCorpusReader\n",
        "from nltk.corpus.reader import CHILDESCorpusReader\n",
        "import numpy as np\n",
        "import pandas as pd\n",
        "from pandas import DataFrame\n",
        "from nltk.probability import FreqDist\n",
        "import string\n",
        "from nltk.stem.wordnet import WordNetLemmatizer\n",
        "\n",
        "import matplotlib.pyplot as plt\n",
        "from scipy import stats\n",
        "import itertools\n",
        "\n",
        "from scipy import optimize\n",
        "from scipy.optimize import curve_fit\n",
        "import seaborn as sns\n",
        "import matplotlib.pyplot as plt\n",
        "from numpy import log as ln\n",
        "import tensorflow_addons as tfa\n",
        "\n",
        "import numpy\n",
        "import math\n",
        "from keras.preprocessing import sequence\n",
        "from keras.models import Sequential\n",
        "from keras.layers import Dense, Dropout, Activation,Flatten\n",
        "from keras.layers import LSTM, Bidirectional\n",
        "from tensorflow.keras.layers import Embedding, TimeDistributed\n",
        "from keras.layers import Conv1D,Conv2D, GlobalMaxPooling1D, GlobalMaxPooling2D\n",
        "from keras.initializers import Constant\n",
        "from tensorflow.keras.preprocessing.text import Tokenizer\n",
        "from tensorflow.keras.preprocessing.sequence import pad_sequences\n",
        "from nltk.corpus import stopwords\n",
        "from nltk.tokenize import word_tokenize\n",
        "import matplotlib.ticker as ticker\n",
        "from sklearn.model_selection import StratifiedKFold,train_test_split\n",
        "\n",
        "from sklearn.feature_extraction.text import TfidfTransformer\n",
        "from sklearn.feature_extraction.text import TfidfVectorizer\n",
        "from tensorflow import keras\n",
        "from tensorflow.keras import layers\n",
        "from keras.utils import to_categorical\n",
        "from sklearn.preprocessing import LabelEncoder, OneHotEncoder\n",
        "from gensim.models import Word2Vec\n",
        "from sklearn.decomposition import PCA\n",
        "from sklearn.utils import shuffle\n",
        "import gensim\n"
      ],
      "execution_count": 50,
      "outputs": []
    },
    {
      "cell_type": "code",
      "metadata": {
        "id": "rhE-Qsr2ogGu",
        "colab_type": "code",
        "colab": {
          "base_uri": "https://localhost:8080/",
          "height": 297
        },
        "outputId": "1f675722-5141-47f6-d2f4-d459219c1729"
      },
      "source": [
        "file = '/content/drive/My Drive/QP2/Input Model/encoded_all_data.csv'\n",
        "dfall = pd.read_csv(file)\n",
        "namelist = []\n",
        "for i in dfall.file.values:\n",
        "  namelist.append(i.split('/')[0])\n",
        "dfall['name'] = namelist\n",
        "dfall = shuffle(dfall)\n",
        "dfall.describe()"
      ],
      "execution_count": 9,
      "outputs": [
        {
          "output_type": "execute_result",
          "data": {
            "text/html": [
              "<div>\n",
              "<style scoped>\n",
              "    .dataframe tbody tr th:only-of-type {\n",
              "        vertical-align: middle;\n",
              "    }\n",
              "\n",
              "    .dataframe tbody tr th {\n",
              "        vertical-align: top;\n",
              "    }\n",
              "\n",
              "    .dataframe thead th {\n",
              "        text-align: right;\n",
              "    }\n",
              "</style>\n",
              "<table border=\"1\" class=\"dataframe\">\n",
              "  <thead>\n",
              "    <tr style=\"text-align: right;\">\n",
              "      <th></th>\n",
              "      <th>Unnamed: 0</th>\n",
              "      <th>Unnamed: 0.1</th>\n",
              "      <th>encode_cat</th>\n",
              "      <th>encode_pos</th>\n",
              "    </tr>\n",
              "  </thead>\n",
              "  <tbody>\n",
              "    <tr>\n",
              "      <th>count</th>\n",
              "      <td>387811.00000</td>\n",
              "      <td>387811.000000</td>\n",
              "      <td>387811.000000</td>\n",
              "      <td>387811.000000</td>\n",
              "    </tr>\n",
              "    <tr>\n",
              "      <th>mean</th>\n",
              "      <td>193905.00000</td>\n",
              "      <td>42463.196753</td>\n",
              "      <td>5.816351</td>\n",
              "      <td>45.908345</td>\n",
              "    </tr>\n",
              "    <tr>\n",
              "      <th>std</th>\n",
              "      <td>111951.53696</td>\n",
              "      <td>29575.460284</td>\n",
              "      <td>2.750120</td>\n",
              "      <td>29.484600</td>\n",
              "    </tr>\n",
              "    <tr>\n",
              "      <th>min</th>\n",
              "      <td>0.00000</td>\n",
              "      <td>0.000000</td>\n",
              "      <td>0.000000</td>\n",
              "      <td>0.000000</td>\n",
              "    </tr>\n",
              "    <tr>\n",
              "      <th>25%</th>\n",
              "      <td>96952.50000</td>\n",
              "      <td>16738.500000</td>\n",
              "      <td>4.000000</td>\n",
              "      <td>20.000000</td>\n",
              "    </tr>\n",
              "    <tr>\n",
              "      <th>50%</th>\n",
              "      <td>193905.00000</td>\n",
              "      <td>37210.000000</td>\n",
              "      <td>6.000000</td>\n",
              "      <td>34.000000</td>\n",
              "    </tr>\n",
              "    <tr>\n",
              "      <th>75%</th>\n",
              "      <td>290857.50000</td>\n",
              "      <td>66736.500000</td>\n",
              "      <td>8.000000</td>\n",
              "      <td>74.000000</td>\n",
              "    </tr>\n",
              "    <tr>\n",
              "      <th>max</th>\n",
              "      <td>387810.00000</td>\n",
              "      <td>110803.000000</td>\n",
              "      <td>10.000000</td>\n",
              "      <td>99.000000</td>\n",
              "    </tr>\n",
              "  </tbody>\n",
              "</table>\n",
              "</div>"
            ],
            "text/plain": [
              "         Unnamed: 0   Unnamed: 0.1     encode_cat     encode_pos\n",
              "count  387811.00000  387811.000000  387811.000000  387811.000000\n",
              "mean   193905.00000   42463.196753       5.816351      45.908345\n",
              "std    111951.53696   29575.460284       2.750120      29.484600\n",
              "min         0.00000       0.000000       0.000000       0.000000\n",
              "25%     96952.50000   16738.500000       4.000000      20.000000\n",
              "50%    193905.00000   37210.000000       6.000000      34.000000\n",
              "75%    290857.50000   66736.500000       8.000000      74.000000\n",
              "max    387810.00000  110803.000000      10.000000      99.000000"
            ]
          },
          "metadata": {
            "tags": []
          },
          "execution_count": 9
        }
      ]
    },
    {
      "cell_type": "code",
      "metadata": {
        "id": "H-oOGzshonuD",
        "colab_type": "code",
        "colab": {
          "base_uri": "https://localhost:8080/",
          "height": 374
        },
        "outputId": "ce7e546a-b3f6-409e-a3ec-5e94c732be9a"
      },
      "source": [
        "pronoun = ['I', 'me', 'my', 'you', 'your', 'he', 'him','his',\n",
        "           'she', 'her', 'we','us','our','they','them','their',\n",
        "           'it','its']\n",
        "df = dfall.loc[dfall.X.isin(pronoun)]\n",
        "df.info()"
      ],
      "execution_count": 10,
      "outputs": [
        {
          "output_type": "stream",
          "text": [
            "<class 'pandas.core.frame.DataFrame'>\n",
            "Int64Index: 53267 entries, 46014 to 154776\n",
            "Data columns (total 14 columns):\n",
            " #   Column            Non-Null Count  Dtype \n",
            "---  ------            --------------  ----- \n",
            " 0   Unnamed: 0        53267 non-null  int64 \n",
            " 1   Unnamed: 0.1      53267 non-null  int64 \n",
            " 2   file              53267 non-null  object\n",
            " 3   a                 53196 non-null  object\n",
            " 4   a_tag             52929 non-null  object\n",
            " 5   X                 53267 non-null  object\n",
            " 6   X_tag             53267 non-null  object\n",
            " 7   b                 53241 non-null  object\n",
            " 8   b_tag             53009 non-null  object\n",
            " 9   grammar category  53267 non-null  object\n",
            " 10  grammar cateogry  53267 non-null  object\n",
            " 11  encode_cat        53267 non-null  int64 \n",
            " 12  encode_pos        53267 non-null  int64 \n",
            " 13  name              53267 non-null  object\n",
            "dtypes: int64(4), object(10)\n",
            "memory usage: 6.1+ MB\n"
          ],
          "name": "stdout"
        }
      ]
    },
    {
      "cell_type": "code",
      "metadata": {
        "id": "q0gEM9Biqz9B",
        "colab_type": "code",
        "colab": {
          "base_uri": "https://localhost:8080/",
          "height": 374
        },
        "outputId": "ad26e8c8-8858-4c64-a9d7-ab9f904031df"
      },
      "source": [
        "df = df.dropna()\n",
        "df.info()"
      ],
      "execution_count": 12,
      "outputs": [
        {
          "output_type": "stream",
          "text": [
            "<class 'pandas.core.frame.DataFrame'>\n",
            "Int64Index: 52650 entries, 46014 to 154776\n",
            "Data columns (total 14 columns):\n",
            " #   Column            Non-Null Count  Dtype \n",
            "---  ------            --------------  ----- \n",
            " 0   Unnamed: 0        52650 non-null  int64 \n",
            " 1   Unnamed: 0.1      52650 non-null  int64 \n",
            " 2   file              52650 non-null  object\n",
            " 3   a                 52650 non-null  object\n",
            " 4   a_tag             52650 non-null  object\n",
            " 5   X                 52650 non-null  object\n",
            " 6   X_tag             52650 non-null  object\n",
            " 7   b                 52650 non-null  object\n",
            " 8   b_tag             52650 non-null  object\n",
            " 9   grammar category  52650 non-null  object\n",
            " 10  grammar cateogry  52650 non-null  object\n",
            " 11  encode_cat        52650 non-null  int64 \n",
            " 12  encode_pos        52650 non-null  int64 \n",
            " 13  name              52650 non-null  object\n",
            "dtypes: int64(4), object(10)\n",
            "memory usage: 6.0+ MB\n"
          ],
          "name": "stdout"
        }
      ]
    },
    {
      "cell_type": "code",
      "metadata": {
        "id": "-l4ZS46sq-JK",
        "colab_type": "code",
        "colab": {
          "base_uri": "https://localhost:8080/",
          "height": 241
        },
        "outputId": "1f064d82-613b-49ad-cc18-9cb62a5f7b56"
      },
      "source": [
        "df.head()"
      ],
      "execution_count": 13,
      "outputs": [
        {
          "output_type": "execute_result",
          "data": {
            "text/html": [
              "<div>\n",
              "<style scoped>\n",
              "    .dataframe tbody tr th:only-of-type {\n",
              "        vertical-align: middle;\n",
              "    }\n",
              "\n",
              "    .dataframe tbody tr th {\n",
              "        vertical-align: top;\n",
              "    }\n",
              "\n",
              "    .dataframe thead th {\n",
              "        text-align: right;\n",
              "    }\n",
              "</style>\n",
              "<table border=\"1\" class=\"dataframe\">\n",
              "  <thead>\n",
              "    <tr style=\"text-align: right;\">\n",
              "      <th></th>\n",
              "      <th>Unnamed: 0</th>\n",
              "      <th>Unnamed: 0.1</th>\n",
              "      <th>file</th>\n",
              "      <th>a</th>\n",
              "      <th>a_tag</th>\n",
              "      <th>X</th>\n",
              "      <th>X_tag</th>\n",
              "      <th>b</th>\n",
              "      <th>b_tag</th>\n",
              "      <th>grammar category</th>\n",
              "      <th>grammar cateogry</th>\n",
              "      <th>encode_cat</th>\n",
              "      <th>encode_pos</th>\n",
              "      <th>name</th>\n",
              "    </tr>\n",
              "  </thead>\n",
              "  <tbody>\n",
              "    <tr>\n",
              "      <th>46014</th>\n",
              "      <td>46014</td>\n",
              "      <td>46014</td>\n",
              "      <td>Anne/020122.xml</td>\n",
              "      <td>S</td>\n",
              "      <td>/s</td>\n",
              "      <td>you</td>\n",
              "      <td>pro:per</td>\n",
              "      <td>hafta</td>\n",
              "      <td>mod~inf</td>\n",
              "      <td>unknown</td>\n",
              "      <td>NOUN</td>\n",
              "      <td>6</td>\n",
              "      <td>74</td>\n",
              "      <td>Anne</td>\n",
              "    </tr>\n",
              "    <tr>\n",
              "      <th>84723</th>\n",
              "      <td>84723</td>\n",
              "      <td>84723</td>\n",
              "      <td>Anne/020502.xml</td>\n",
              "      <td>S</td>\n",
              "      <td>/s</td>\n",
              "      <td>she</td>\n",
              "      <td>pro:sub</td>\n",
              "      <td>says</td>\n",
              "      <td>v</td>\n",
              "      <td>unknown</td>\n",
              "      <td>NOUN</td>\n",
              "      <td>6</td>\n",
              "      <td>84</td>\n",
              "      <td>Anne</td>\n",
              "    </tr>\n",
              "    <tr>\n",
              "      <th>105867</th>\n",
              "      <td>105867</td>\n",
              "      <td>8944</td>\n",
              "      <td>Aran/011126.xml</td>\n",
              "      <td>isn't</td>\n",
              "      <td>cop~neg</td>\n",
              "      <td>it</td>\n",
              "      <td>pro:per</td>\n",
              "      <td>E</td>\n",
              "      <td>/e</td>\n",
              "      <td>unknown</td>\n",
              "      <td>NOUN</td>\n",
              "      <td>6</td>\n",
              "      <td>74</td>\n",
              "      <td>Aran</td>\n",
              "    </tr>\n",
              "    <tr>\n",
              "      <th>54264</th>\n",
              "      <td>54264</td>\n",
              "      <td>54264</td>\n",
              "      <td>Anne/020212.xml</td>\n",
              "      <td>is</td>\n",
              "      <td>cop</td>\n",
              "      <td>it</td>\n",
              "      <td>pro:per</td>\n",
              "      <td>E</td>\n",
              "      <td>/e</td>\n",
              "      <td>unknown</td>\n",
              "      <td>NOUN</td>\n",
              "      <td>6</td>\n",
              "      <td>74</td>\n",
              "      <td>Anne</td>\n",
              "    </tr>\n",
              "    <tr>\n",
              "      <th>332301</th>\n",
              "      <td>332301</td>\n",
              "      <td>47185</td>\n",
              "      <td>Nina/020314.xml</td>\n",
              "      <td>are</td>\n",
              "      <td>cop</td>\n",
              "      <td>you</td>\n",
              "      <td>pro:per</td>\n",
              "      <td>going</td>\n",
              "      <td>part</td>\n",
              "      <td>unknown</td>\n",
              "      <td>NOUN</td>\n",
              "      <td>6</td>\n",
              "      <td>74</td>\n",
              "      <td>Nina</td>\n",
              "    </tr>\n",
              "  </tbody>\n",
              "</table>\n",
              "</div>"
            ],
            "text/plain": [
              "        Unnamed: 0  Unnamed: 0.1             file  ... encode_cat encode_pos  name\n",
              "46014        46014         46014  Anne/020122.xml  ...          6         74  Anne\n",
              "84723        84723         84723  Anne/020502.xml  ...          6         84  Anne\n",
              "105867      105867          8944  Aran/011126.xml  ...          6         74  Aran\n",
              "54264        54264         54264  Anne/020212.xml  ...          6         74  Anne\n",
              "332301      332301         47185  Nina/020314.xml  ...          6         74  Nina\n",
              "\n",
              "[5 rows x 14 columns]"
            ]
          },
          "metadata": {
            "tags": []
          },
          "execution_count": 13
        }
      ]
    },
    {
      "cell_type": "code",
      "metadata": {
        "id": "mYeqMuzzrprX",
        "colab_type": "code",
        "colab": {
          "base_uri": "https://localhost:8080/",
          "height": 298
        },
        "outputId": "512aeb19-b252-431f-ccd1-3d32ffe9402b"
      },
      "source": [
        "df['X'].value_counts().plot(kind = 'bar')"
      ],
      "execution_count": 14,
      "outputs": [
        {
          "output_type": "execute_result",
          "data": {
            "text/plain": [
              "<matplotlib.axes._subplots.AxesSubplot at 0x7f33fcb8d1d0>"
            ]
          },
          "metadata": {
            "tags": []
          },
          "execution_count": 14
        },
        {
          "output_type": "display_data",
          "data": {
            "image/png": "[encoded data removed]",
            "text/plain": [
              "<Figure size 432x288 with 1 Axes>"
            ]
          },
          "metadata": {
            "tags": [],
            "needs_background": "light"
          }
        }
      ]
    },
    {
      "cell_type": "code",
      "metadata": {
        "id": "V_BS0dodrvhv",
        "colab_type": "code",
        "colab": {
          "base_uri": "https://localhost:8080/",
          "height": 318
        },
        "outputId": "e4b8a74a-9966-4609-ccde-a2a33e3a0e9c"
      },
      "source": [
        "df['X_tag'].value_counts().plot(kind = 'bar')"
      ],
      "execution_count": 15,
      "outputs": [
        {
          "output_type": "execute_result",
          "data": {
            "text/plain": [
              "<matplotlib.axes._subplots.AxesSubplot at 0x7f33fcab2748>"
            ]
          },
          "metadata": {
            "tags": []
          },
          "execution_count": 15
        },
        {
          "output_type": "display_data",
          "data": {
            "image/png": "[encoded data removed]",
            "text/plain": [
              "<Figure size 432x288 with 1 Axes>"
            ]
          },
          "metadata": {
            "tags": [],
            "needs_background": "light"
          }
        }
      ]
    },
    {
      "cell_type": "code",
      "metadata": {
        "id": "p-KwOC3-r4iJ",
        "colab_type": "code",
        "colab": {
          "base_uri": "https://localhost:8080/",
          "height": 954
        },
        "outputId": "f5408c5e-39e7-4b03-82f1-46cd7ae08cd4"
      },
      "source": [
        "df.loc[df['X_tag'].isin(['unknonw', 'co', 'pro:poss'])]"
      ],
      "execution_count": 23,
      "outputs": [
        {
          "output_type": "execute_result",
          "data": {
            "text/html": [
              "<div>\n",
              "<style scoped>\n",
              "    .dataframe tbody tr th:only-of-type {\n",
              "        vertical-align: middle;\n",
              "    }\n",
              "\n",
              "    .dataframe tbody tr th {\n",
              "        vertical-align: top;\n",
              "    }\n",
              "\n",
              "    .dataframe thead th {\n",
              "        text-align: right;\n",
              "    }\n",
              "</style>\n",
              "<table border=\"1\" class=\"dataframe\">\n",
              "  <thead>\n",
              "    <tr style=\"text-align: right;\">\n",
              "      <th></th>\n",
              "      <th>Unnamed: 0</th>\n",
              "      <th>Unnamed: 0.1</th>\n",
              "      <th>file</th>\n",
              "      <th>a</th>\n",
              "      <th>a_tag</th>\n",
              "      <th>X</th>\n",
              "      <th>X_tag</th>\n",
              "      <th>b</th>\n",
              "      <th>b_tag</th>\n",
              "      <th>grammar category</th>\n",
              "      <th>grammar cateogry</th>\n",
              "      <th>encode_cat</th>\n",
              "      <th>encode_pos</th>\n",
              "      <th>name</th>\n",
              "    </tr>\n",
              "  </thead>\n",
              "  <tbody>\n",
              "    <tr>\n",
              "      <th>247907</th>\n",
              "      <td>247907</td>\n",
              "      <td>40180</td>\n",
              "      <td>Eve/020300a.xml</td>\n",
              "      <td>one's</td>\n",
              "      <td>adj</td>\n",
              "      <td>my</td>\n",
              "      <td>co</td>\n",
              "      <td>one</td>\n",
              "      <td>pro:indef</td>\n",
              "      <td>unknown</td>\n",
              "      <td>Unknown</td>\n",
              "      <td>8</td>\n",
              "      <td>12</td>\n",
              "      <td>Eve</td>\n",
              "    </tr>\n",
              "    <tr>\n",
              "      <th>275198</th>\n",
              "      <td>275198</td>\n",
              "      <td>21888</td>\n",
              "      <td>Naomi/020107.xml</td>\n",
              "      <td>S</td>\n",
              "      <td>/s</td>\n",
              "      <td>my</td>\n",
              "      <td>co</td>\n",
              "      <td>that</td>\n",
              "      <td>adv</td>\n",
              "      <td>unknown</td>\n",
              "      <td>Unknown</td>\n",
              "      <td>8</td>\n",
              "      <td>12</td>\n",
              "      <td>Naomi</td>\n",
              "    </tr>\n",
              "    <tr>\n",
              "      <th>305431</th>\n",
              "      <td>305431</td>\n",
              "      <td>20315</td>\n",
              "      <td>Nina/020115.xml</td>\n",
              "      <td>here's</td>\n",
              "      <td>pro:exist~cop</td>\n",
              "      <td>my</td>\n",
              "      <td>co</td>\n",
              "      <td>let's</td>\n",
              "      <td>v:obj~pro:obj</td>\n",
              "      <td>unknown</td>\n",
              "      <td>Unknown</td>\n",
              "      <td>8</td>\n",
              "      <td>12</td>\n",
              "      <td>Nina</td>\n",
              "    </tr>\n",
              "    <tr>\n",
              "      <th>10971</th>\n",
              "      <td>10971</td>\n",
              "      <td>10971</td>\n",
              "      <td>Anne/011106.xml</td>\n",
              "      <td>where's</td>\n",
              "      <td>pro:int~cop</td>\n",
              "      <td>my</td>\n",
              "      <td>co</td>\n",
              "      <td>Mummy</td>\n",
              "      <td>n:prop</td>\n",
              "      <td>unknown</td>\n",
              "      <td>Unknown</td>\n",
              "      <td>8</td>\n",
              "      <td>12</td>\n",
              "      <td>Anne</td>\n",
              "    </tr>\n",
              "    <tr>\n",
              "      <th>283921</th>\n",
              "      <td>283921</td>\n",
              "      <td>30611</td>\n",
              "      <td>Naomi/020508.xml</td>\n",
              "      <td>is</td>\n",
              "      <td>cop</td>\n",
              "      <td>my</td>\n",
              "      <td>co</td>\n",
              "      <td>scolding</td>\n",
              "      <td>part</td>\n",
              "      <td>unknown</td>\n",
              "      <td>Unknown</td>\n",
              "      <td>8</td>\n",
              "      <td>12</td>\n",
              "      <td>Naomi</td>\n",
              "    </tr>\n",
              "    <tr>\n",
              "      <th>302341</th>\n",
              "      <td>302341</td>\n",
              "      <td>17225</td>\n",
              "      <td>Nina/020024.xml</td>\n",
              "      <td>off</td>\n",
              "      <td>prep</td>\n",
              "      <td>my</td>\n",
              "      <td>co</td>\n",
              "      <td>head</td>\n",
              "      <td>adj</td>\n",
              "      <td>unknown</td>\n",
              "      <td>Unknown</td>\n",
              "      <td>8</td>\n",
              "      <td>12</td>\n",
              "      <td>Nina</td>\n",
              "    </tr>\n",
              "    <tr>\n",
              "      <th>95888</th>\n",
              "      <td>95888</td>\n",
              "      <td>95888</td>\n",
              "      <td>Anne/020604.xml</td>\n",
              "      <td>it's</td>\n",
              "      <td>pro:per~cop</td>\n",
              "      <td>my</td>\n",
              "      <td>co</td>\n",
              "      <td>green</td>\n",
              "      <td>adj</td>\n",
              "      <td>unknown</td>\n",
              "      <td>Unknown</td>\n",
              "      <td>8</td>\n",
              "      <td>12</td>\n",
              "      <td>Anne</td>\n",
              "    </tr>\n",
              "    <tr>\n",
              "      <th>22024</th>\n",
              "      <td>22024</td>\n",
              "      <td>22024</td>\n",
              "      <td>Anne/011120.xml</td>\n",
              "      <td>S</td>\n",
              "      <td>/s</td>\n",
              "      <td>his</td>\n",
              "      <td>pro:poss</td>\n",
              "      <td>E</td>\n",
              "      <td>/e</td>\n",
              "      <td>unknown</td>\n",
              "      <td>DET</td>\n",
              "      <td>4</td>\n",
              "      <td>78</td>\n",
              "      <td>Anne</td>\n",
              "    </tr>\n",
              "    <tr>\n",
              "      <th>196243</th>\n",
              "      <td>196243</td>\n",
              "      <td>99320</td>\n",
              "      <td>Aran/020517.xml</td>\n",
              "      <td>me</td>\n",
              "      <td>pro:obj</td>\n",
              "      <td>my</td>\n",
              "      <td>co</td>\n",
              "      <td>leg</td>\n",
              "      <td>n</td>\n",
              "      <td>unknown</td>\n",
              "      <td>Unknown</td>\n",
              "      <td>8</td>\n",
              "      <td>12</td>\n",
              "      <td>Aran</td>\n",
              "    </tr>\n",
              "    <tr>\n",
              "      <th>230752</th>\n",
              "      <td>230752</td>\n",
              "      <td>23025</td>\n",
              "      <td>Eve/011100b.xml</td>\n",
              "      <td>do</td>\n",
              "      <td>v</td>\n",
              "      <td>my</td>\n",
              "      <td>co</td>\n",
              "      <td>dear</td>\n",
              "      <td>co</td>\n",
              "      <td>unknown</td>\n",
              "      <td>Unknown</td>\n",
              "      <td>8</td>\n",
              "      <td>12</td>\n",
              "      <td>Eve</td>\n",
              "    </tr>\n",
              "    <tr>\n",
              "      <th>82998</th>\n",
              "      <td>82998</td>\n",
              "      <td>82998</td>\n",
              "      <td>Anne/020502.xml</td>\n",
              "      <td>stolen</td>\n",
              "      <td>part</td>\n",
              "      <td>my</td>\n",
              "      <td>co</td>\n",
              "      <td>E</td>\n",
              "      <td>/e</td>\n",
              "      <td>unknown</td>\n",
              "      <td>Unknown</td>\n",
              "      <td>8</td>\n",
              "      <td>12</td>\n",
              "      <td>Anne</td>\n",
              "    </tr>\n",
              "    <tr>\n",
              "      <th>90099</th>\n",
              "      <td>90099</td>\n",
              "      <td>90099</td>\n",
              "      <td>Anne/020525.xml</td>\n",
              "      <td>where's</td>\n",
              "      <td>pro:int~cop</td>\n",
              "      <td>my</td>\n",
              "      <td>co</td>\n",
              "      <td>Mummy</td>\n",
              "      <td>n:prop</td>\n",
              "      <td>unknown</td>\n",
              "      <td>Unknown</td>\n",
              "      <td>8</td>\n",
              "      <td>12</td>\n",
              "      <td>Anne</td>\n",
              "    </tr>\n",
              "    <tr>\n",
              "      <th>10991</th>\n",
              "      <td>10991</td>\n",
              "      <td>10991</td>\n",
              "      <td>Anne/011106.xml</td>\n",
              "      <td>where's</td>\n",
              "      <td>pro:int~cop</td>\n",
              "      <td>my</td>\n",
              "      <td>co</td>\n",
              "      <td>Mummy</td>\n",
              "      <td>n:prop</td>\n",
              "      <td>unknown</td>\n",
              "      <td>Unknown</td>\n",
              "      <td>8</td>\n",
              "      <td>12</td>\n",
              "      <td>Anne</td>\n",
              "    </tr>\n",
              "    <tr>\n",
              "      <th>249333</th>\n",
              "      <td>249333</td>\n",
              "      <td>41606</td>\n",
              "      <td>Eve/020300a.xml</td>\n",
              "      <td>yes</td>\n",
              "      <td>co</td>\n",
              "      <td>my</td>\n",
              "      <td>co</td>\n",
              "      <td>dear</td>\n",
              "      <td>co</td>\n",
              "      <td>unknown</td>\n",
              "      <td>Unknown</td>\n",
              "      <td>8</td>\n",
              "      <td>12</td>\n",
              "      <td>Eve</td>\n",
              "    </tr>\n",
              "    <tr>\n",
              "      <th>80827</th>\n",
              "      <td>80827</td>\n",
              "      <td>80827</td>\n",
              "      <td>Anne/020414.xml</td>\n",
              "      <td>that</td>\n",
              "      <td>comp</td>\n",
              "      <td>my</td>\n",
              "      <td>co</td>\n",
              "      <td>Mummy</td>\n",
              "      <td>n:prop</td>\n",
              "      <td>unknown</td>\n",
              "      <td>Unknown</td>\n",
              "      <td>8</td>\n",
              "      <td>12</td>\n",
              "      <td>Anne</td>\n",
              "    </tr>\n",
              "    <tr>\n",
              "      <th>66837</th>\n",
              "      <td>66837</td>\n",
              "      <td>66837</td>\n",
              "      <td>Anne/020328.xml</td>\n",
              "      <td>where's</td>\n",
              "      <td>pro:rel~cop</td>\n",
              "      <td>my</td>\n",
              "      <td>co</td>\n",
              "      <td>mummie</td>\n",
              "      <td>n</td>\n",
              "      <td>unknown</td>\n",
              "      <td>Unknown</td>\n",
              "      <td>8</td>\n",
              "      <td>12</td>\n",
              "      <td>Anne</td>\n",
              "    </tr>\n",
              "    <tr>\n",
              "      <th>95361</th>\n",
              "      <td>95361</td>\n",
              "      <td>95361</td>\n",
              "      <td>Anne/020604.xml</td>\n",
              "      <td>hello</td>\n",
              "      <td>co</td>\n",
              "      <td>my</td>\n",
              "      <td>co</td>\n",
              "      <td>Mummy</td>\n",
              "      <td>n:prop</td>\n",
              "      <td>unknown</td>\n",
              "      <td>Unknown</td>\n",
              "      <td>8</td>\n",
              "      <td>12</td>\n",
              "      <td>Anne</td>\n",
              "    </tr>\n",
              "    <tr>\n",
              "      <th>190121</th>\n",
              "      <td>190121</td>\n",
              "      <td>93198</td>\n",
              "      <td>Aran/020503.xml</td>\n",
              "      <td>got</td>\n",
              "      <td>part</td>\n",
              "      <td>my</td>\n",
              "      <td>co</td>\n",
              "      <td>twenty</td>\n",
              "      <td>det:num</td>\n",
              "      <td>unknown</td>\n",
              "      <td>Unknown</td>\n",
              "      <td>8</td>\n",
              "      <td>12</td>\n",
              "      <td>Aran</td>\n",
              "    </tr>\n",
              "    <tr>\n",
              "      <th>10998</th>\n",
              "      <td>10998</td>\n",
              "      <td>10998</td>\n",
              "      <td>Anne/011106.xml</td>\n",
              "      <td>where's</td>\n",
              "      <td>pro:int~cop</td>\n",
              "      <td>my</td>\n",
              "      <td>co</td>\n",
              "      <td>Mummy</td>\n",
              "      <td>n:prop</td>\n",
              "      <td>unknown</td>\n",
              "      <td>Unknown</td>\n",
              "      <td>8</td>\n",
              "      <td>12</td>\n",
              "      <td>Anne</td>\n",
              "    </tr>\n",
              "    <tr>\n",
              "      <th>328803</th>\n",
              "      <td>328803</td>\n",
              "      <td>43687</td>\n",
              "      <td>Nina/020305.xml</td>\n",
              "      <td>on</td>\n",
              "      <td>prep</td>\n",
              "      <td>my</td>\n",
              "      <td>co</td>\n",
              "      <td>lap</td>\n",
              "      <td>n</td>\n",
              "      <td>unknown</td>\n",
              "      <td>Unknown</td>\n",
              "      <td>8</td>\n",
              "      <td>12</td>\n",
              "      <td>Nina</td>\n",
              "    </tr>\n",
              "    <tr>\n",
              "      <th>41052</th>\n",
              "      <td>41052</td>\n",
              "      <td>41052</td>\n",
              "      <td>Anne/020120.xml</td>\n",
              "      <td>where's</td>\n",
              "      <td>pro:int~cop</td>\n",
              "      <td>my</td>\n",
              "      <td>co</td>\n",
              "      <td>Mummy</td>\n",
              "      <td>n:prop</td>\n",
              "      <td>unknown</td>\n",
              "      <td>Unknown</td>\n",
              "      <td>8</td>\n",
              "      <td>12</td>\n",
              "      <td>Anne</td>\n",
              "    </tr>\n",
              "    <tr>\n",
              "      <th>240929</th>\n",
              "      <td>240929</td>\n",
              "      <td>33202</td>\n",
              "      <td>Eve/020100b.xml</td>\n",
              "      <td>arms</td>\n",
              "      <td>n</td>\n",
              "      <td>my</td>\n",
              "      <td>co</td>\n",
              "      <td>dear</td>\n",
              "      <td>co</td>\n",
              "      <td>unknown</td>\n",
              "      <td>Unknown</td>\n",
              "      <td>8</td>\n",
              "      <td>12</td>\n",
              "      <td>Eve</td>\n",
              "    </tr>\n",
              "    <tr>\n",
              "      <th>41088</th>\n",
              "      <td>41088</td>\n",
              "      <td>41088</td>\n",
              "      <td>Anne/020120.xml</td>\n",
              "      <td>where's</td>\n",
              "      <td>pro:rel~cop</td>\n",
              "      <td>my</td>\n",
              "      <td>co</td>\n",
              "      <td>Mummy</td>\n",
              "      <td>n:prop</td>\n",
              "      <td>unknown</td>\n",
              "      <td>Unknown</td>\n",
              "      <td>8</td>\n",
              "      <td>12</td>\n",
              "      <td>Anne</td>\n",
              "    </tr>\n",
              "    <tr>\n",
              "      <th>190135</th>\n",
              "      <td>190135</td>\n",
              "      <td>93212</td>\n",
              "      <td>Aran/020503.xml</td>\n",
              "      <td>on</td>\n",
              "      <td>adv</td>\n",
              "      <td>my</td>\n",
              "      <td>co</td>\n",
              "      <td>shopping</td>\n",
              "      <td>part</td>\n",
              "      <td>unknown</td>\n",
              "      <td>Unknown</td>\n",
              "      <td>8</td>\n",
              "      <td>12</td>\n",
              "      <td>Aran</td>\n",
              "    </tr>\n",
              "    <tr>\n",
              "      <th>66840</th>\n",
              "      <td>66840</td>\n",
              "      <td>66840</td>\n",
              "      <td>Anne/020328.xml</td>\n",
              "      <td>where's</td>\n",
              "      <td>pro:int~cop</td>\n",
              "      <td>my</td>\n",
              "      <td>co</td>\n",
              "      <td>mummie</td>\n",
              "      <td>n</td>\n",
              "      <td>unknown</td>\n",
              "      <td>Unknown</td>\n",
              "      <td>8</td>\n",
              "      <td>12</td>\n",
              "      <td>Anne</td>\n",
              "    </tr>\n",
              "    <tr>\n",
              "      <th>10968</th>\n",
              "      <td>10968</td>\n",
              "      <td>10968</td>\n",
              "      <td>Anne/011106.xml</td>\n",
              "      <td>where's</td>\n",
              "      <td>pro:int~cop</td>\n",
              "      <td>my</td>\n",
              "      <td>co</td>\n",
              "      <td>Mummy</td>\n",
              "      <td>n:prop</td>\n",
              "      <td>unknown</td>\n",
              "      <td>Unknown</td>\n",
              "      <td>8</td>\n",
              "      <td>12</td>\n",
              "      <td>Anne</td>\n",
              "    </tr>\n",
              "    <tr>\n",
              "      <th>10977</th>\n",
              "      <td>10977</td>\n",
              "      <td>10977</td>\n",
              "      <td>Anne/011106.xml</td>\n",
              "      <td>where's</td>\n",
              "      <td>pro:int~cop</td>\n",
              "      <td>my</td>\n",
              "      <td>co</td>\n",
              "      <td>Mummy</td>\n",
              "      <td>n:prop</td>\n",
              "      <td>unknown</td>\n",
              "      <td>Unknown</td>\n",
              "      <td>8</td>\n",
              "      <td>12</td>\n",
              "      <td>Anne</td>\n",
              "    </tr>\n",
              "    <tr>\n",
              "      <th>305362</th>\n",
              "      <td>305362</td>\n",
              "      <td>20246</td>\n",
              "      <td>Nina/020115.xml</td>\n",
              "      <td>here's</td>\n",
              "      <td>pro:exist~cop</td>\n",
              "      <td>my</td>\n",
              "      <td>co</td>\n",
              "      <td>what</td>\n",
              "      <td>pro:int</td>\n",
              "      <td>unknown</td>\n",
              "      <td>Unknown</td>\n",
              "      <td>8</td>\n",
              "      <td>12</td>\n",
              "      <td>Nina</td>\n",
              "    </tr>\n",
              "  </tbody>\n",
              "</table>\n",
              "</div>"
            ],
            "text/plain": [
              "        Unnamed: 0  Unnamed: 0.1  ... encode_pos   name\n",
              "247907      247907         40180  ...         12    Eve\n",
              "275198      275198         21888  ...         12  Naomi\n",
              "305431      305431         20315  ...         12   Nina\n",
              "10971        10971         10971  ...         12   Anne\n",
              "283921      283921         30611  ...         12  Naomi\n",
              "302341      302341         17225  ...         12   Nina\n",
              "95888        95888         95888  ...         12   Anne\n",
              "22024        22024         22024  ...         78   Anne\n",
              "196243      196243         99320  ...         12   Aran\n",
              "230752      230752         23025  ...         12    Eve\n",
              "82998        82998         82998  ...         12   Anne\n",
              "90099        90099         90099  ...         12   Anne\n",
              "10991        10991         10991  ...         12   Anne\n",
              "249333      249333         41606  ...         12    Eve\n",
              "80827        80827         80827  ...         12   Anne\n",
              "66837        66837         66837  ...         12   Anne\n",
              "95361        95361         95361  ...         12   Anne\n",
              "190121      190121         93198  ...         12   Aran\n",
              "10998        10998         10998  ...         12   Anne\n",
              "328803      328803         43687  ...         12   Nina\n",
              "41052        41052         41052  ...         12   Anne\n",
              "240929      240929         33202  ...         12    Eve\n",
              "41088        41088         41088  ...         12   Anne\n",
              "190135      190135         93212  ...         12   Aran\n",
              "66840        66840         66840  ...         12   Anne\n",
              "10968        10968         10968  ...         12   Anne\n",
              "10977        10977         10977  ...         12   Anne\n",
              "305362      305362         20246  ...         12   Nina\n",
              "\n",
              "[28 rows x 14 columns]"
            ]
          },
          "metadata": {
            "tags": []
          },
          "execution_count": 23
        }
      ]
    },
    {
      "cell_type": "code",
      "metadata": {
        "id": "nka8J86VvaPG",
        "colab_type": "code",
        "colab": {
          "base_uri": "https://localhost:8080/",
          "height": 315
        },
        "outputId": "a877e5e0-818c-467b-c5cc-2f2760cf45c6"
      },
      "source": [
        "df = df[~(df.X_tag.isin(['co','unknown','pro:poss']))]\n",
        "df['X_tag'].value_counts().plot(kind = 'bar')\n"
      ],
      "execution_count": 24,
      "outputs": [
        {
          "output_type": "execute_result",
          "data": {
            "text/plain": [
              "<matplotlib.axes._subplots.AxesSubplot at 0x7f33fc552b00>"
            ]
          },
          "metadata": {
            "tags": []
          },
          "execution_count": 24
        },
        {
          "output_type": "display_data",
          "data": {
            "image/png": "[encoded data removed]",
            "text/plain": [
              "<Figure size 432x288 with 1 Axes>"
            ]
          },
          "metadata": {
            "tags": [],
            "needs_background": "light"
          }
        }
      ]
    },
    {
      "cell_type": "code",
      "metadata": {
        "id": "Do9uldnzw8Fs",
        "colab_type": "code",
        "colab": {
          "base_uri": "https://localhost:8080/",
          "height": 315
        },
        "outputId": "49bd1dc3-372c-447c-aabf-60affadd556b"
      },
      "source": [
        "df = df[~(df.X_tag == 'pro:per')]\n",
        "df['X_tag'].value_counts().plot(kind = 'bar')\n"
      ],
      "execution_count": 27,
      "outputs": [
        {
          "output_type": "execute_result",
          "data": {
            "text/plain": [
              "<matplotlib.axes._subplots.AxesSubplot at 0x7f33fc442e10>"
            ]
          },
          "metadata": {
            "tags": []
          },
          "execution_count": 27
        },
        {
          "output_type": "display_data",
          "data": {
            "image/png": "[encoded data removed]",
            "text/plain": [
              "<Figure size 432x288 with 1 Axes>"
            ]
          },
          "metadata": {
            "tags": [],
            "needs_background": "light"
          }
        }
      ]
    },
    {
      "cell_type": "code",
      "metadata": {
        "id": "YxLEa-8txR8w",
        "colab_type": "code",
        "colab": {
          "base_uri": "https://localhost:8080/",
          "height": 298
        },
        "outputId": "235191f0-0b39-4567-9d35-22da1d0c02d1"
      },
      "source": [
        "df['X'].value_counts().plot(kind = 'bar')"
      ],
      "execution_count": 28,
      "outputs": [
        {
          "output_type": "execute_result",
          "data": {
            "text/plain": [
              "<matplotlib.axes._subplots.AxesSubplot at 0x7f33fc4c35c0>"
            ]
          },
          "metadata": {
            "tags": []
          },
          "execution_count": 28
        },
        {
          "output_type": "display_data",
          "data": {
            "image/png": "[encoded data removed]",
            "text/plain": [
              "<Figure size 432x288 with 1 Axes>"
            ]
          },
          "metadata": {
            "tags": [],
            "needs_background": "light"
          }
        }
      ]
    },
    {
      "cell_type": "code",
      "metadata": {
        "id": "0MFR4pvox-iM",
        "colab_type": "code",
        "colab": {
          "base_uri": "https://localhost:8080/",
          "height": 304
        },
        "outputId": "27fb1568-23ad-4089-9fac-225ec50b1620"
      },
      "source": [
        "df['name'].value_counts().plot(kind = 'bar')"
      ],
      "execution_count": 29,
      "outputs": [
        {
          "output_type": "execute_result",
          "data": {
            "text/plain": [
              "<matplotlib.axes._subplots.AxesSubplot at 0x7f33fc301518>"
            ]
          },
          "metadata": {
            "tags": []
          },
          "execution_count": 29
        },
        {
          "output_type": "display_data",
          "data": {
            "image/png": "[encoded data removed]",
            "text/plain": [
              "<Figure size 432x288 with 1 Axes>"
            ]
          },
          "metadata": {
            "tags": [],
            "needs_background": "light"
          }
        }
      ]
    },
    {
      "cell_type": "code",
      "metadata": {
        "id": "l4DsNm2P0KiO",
        "colab_type": "code",
        "colab": {
          "base_uri": "https://localhost:8080/",
          "height": 298
        },
        "outputId": "e0fad90b-bbf1-4aa4-8f60-a28236c20974"
      },
      "source": [
        "dfpronoun = dfall.loc[dfall.X.isin(pronoun)]\n",
        "dfpronoun.dropna()\n",
        "dfpronoun.X.value_counts().plot(kind = 'bar')"
      ],
      "execution_count": 30,
      "outputs": [
        {
          "output_type": "execute_result",
          "data": {
            "text/plain": [
              "<matplotlib.axes._subplots.AxesSubplot at 0x7f33fca76a58>"
            ]
          },
          "metadata": {
            "tags": []
          },
          "execution_count": 30
        },
        {
          "output_type": "display_data",
          "data": {
            "image/png": "[encoded data removed]",
            "text/plain": [
              "<Figure size 432x288 with 1 Axes>"
            ]
          },
          "metadata": {
            "tags": [],
            "needs_background": "light"
          }
        }
      ]
    },
    {
      "cell_type": "code",
      "metadata": {
        "id": "96ZJWSj82S3w",
        "colab_type": "code",
        "colab": {
          "base_uri": "https://localhost:8080/",
          "height": 34
        },
        "outputId": "eb3e2e1e-59ed-4fa4-e311-63b03e0c65c6"
      },
      "source": [
        "df['X_tag'].unique()"
      ],
      "execution_count": 31,
      "outputs": [
        {
          "output_type": "execute_result",
          "data": {
            "text/plain": [
              "array(['pro:sub', 'det:poss', 'pro:obj'], dtype=object)"
            ]
          },
          "metadata": {
            "tags": []
          },
          "execution_count": 31
        }
      ]
    },
    {
      "cell_type": "code",
      "metadata": {
        "id": "74zJA9ac1bpX",
        "colab_type": "code",
        "colab": {}
      },
      "source": [
        "le = LabelEncoder()\n",
        "le.fit(df['X_tag'].unique())\n",
        "LabelEncoder()\n",
        "encode_pronoun = le.transform(df['X_tag'])\n",
        "df['encoded_case'] = encode_pronoun"
      ],
      "execution_count": 32,
      "outputs": []
    },
    {
      "cell_type": "code",
      "metadata": {
        "id": "XMCq-XiP2c7E",
        "colab_type": "code",
        "colab": {}
      },
      "source": [
        "onehot_aX = pd.get_dummies(df.a)\n",
        "onehot_Xb = pd.get_dummies(df.b)"
      ],
      "execution_count": 34,
      "outputs": []
    },
    {
      "cell_type": "code",
      "metadata": {
        "id": "bPKe2WnX3Eyt",
        "colab_type": "code",
        "colab": {}
      },
      "source": [
        "list(onehot_aX.values)"
      ],
      "execution_count": null,
      "outputs": []
    },
    {
      "cell_type": "code",
      "metadata": {
        "id": "VEIab3xo2jy6",
        "colab_type": "code",
        "colab": {}
      },
      "source": [
        "df['onehot_aX'] = list(onehot_aX.values)\n",
        "df['onehot_Xb'] = list(onehot_Xb.values)"
      ],
      "execution_count": 44,
      "outputs": []
    },
    {
      "cell_type": "code",
      "metadata": {
        "id": "EeMn62XJ3eAg",
        "colab_type": "code",
        "colab": {}
      },
      "source": [
        "df.to_csv('pronoun_table.csv')\n",
        "!cp pronoun_table.csv \"/content/drive/My Drive/QP2/Input Model\""
      ],
      "execution_count": 46,
      "outputs": []
    },
    {
      "cell_type": "code",
      "metadata": {
        "id": "MCH1dR6Y38uD",
        "colab_type": "code",
        "colab": {
          "base_uri": "https://localhost:8080/",
          "height": 533
        },
        "outputId": "8b1d088c-ee48-43ab-fb0a-67ce80dc8d45"
      },
      "source": [
        "aXshape = onehot_aX.shape[1]\n",
        "bXshape = onehot_Xb.shape[1]\n",
        "aX_input = keras.Input(shape=(aXshape,) , name ='aX')\n",
        "Xb_input = keras.Input(shape=(bXshape,) ,name = 'Xb')\n",
        "#x = layers.LSTM(64)(aX_input)\n",
        "aX = layers.Dense(200, activation = 'relu')(aX_input)\n",
        "#y = layers.LSTM(64)(Xb_input)\n",
        "Xb = layers.Dense(200, activation='relu')(Xb_input)\n",
        "x = layers.concatenate([aX, Xb])\n",
        "x = layers.Dense(200, activation = 'relu')(x)\n",
        "case_pred = layers.Dense(3, name = 'case')(x)\n",
        "model = keras.Model(\n",
        "    inputs = [aX_input, Xb_input],\n",
        "    outputs = case_pred)\n",
        "keras.utils.plot_model(model, \"aX + Xb model.png\", show_shapes= True)\n"
      ],
      "execution_count": 48,
      "outputs": [
        {
          "output_type": "execute_result",
          "data": {
            "image/png": "[encoded data removed]",
            "text/plain": [
              "<IPython.core.display.Image object>"
            ]
          },
          "metadata": {
            "tags": []
          },
          "execution_count": 48
        }
      ]
    },
    {
      "cell_type": "code",
      "metadata": {
        "id": "JNimVRru4vJM",
        "colab_type": "code",
        "colab": {}
      },
      "source": [
        "model.compile(\n",
        "    optimizer='adam',\n",
        "    loss=tf.keras.losses.SparseCategoricalCrossentropy(from_logits=True),\n",
        "    metrics = ['accuracy', 'mse'])"
      ],
      "execution_count": 51,
      "outputs": []
    },
    {
      "cell_type": "code",
      "metadata": {
        "id": "MBQgomhJ45K5",
        "colab_type": "code",
        "colab": {
          "base_uri": "https://localhost:8080/",
          "height": 119
        },
        "outputId": "b430f765-dc54-4e90-d8d3-c82d1904c3c1"
      },
      "source": [
        "aX_train_data, aX_test_data, Xb_train_data, Xb_test_data, case_train_tag, case_test_tag = train_test_split(onehot_aX, onehot_Xb, df['encoded_case'], test_size=0.20, random_state=4)\n",
        "aX_train = np.asarray(aX_train_data).astype(np.float32)\n",
        "aX_test = np.asarray(aX_test_data).astype(np.float32)\n",
        "Xb_train = np.asarray(Xb_train_data).astype(np.float32)\n",
        "Xb_test = np.asarray(Xb_test_data).astype(np.float32)\n",
        "y_case_train = np.asarray(case_train_tag).astype(np.float32)\n",
        "Y_case_test = np.asarray(case_test_tag).astype(np.float32)\n",
        "print(len(aX_train),aX_train.shape)\n",
        "print(len(aX_test),aX_test.shape)\n",
        "print(len(Xb_train),Xb_train.shape )\n",
        "print(len(Xb_test), Xb_test.shape)\n",
        "print(len(y_case_train),y_case_train.shape)\n",
        "print(len(Y_case_test), Y_case_test.shape)"
      ],
      "execution_count": 91,
      "outputs": [
        {
          "output_type": "stream",
          "text": [
            "19912 (19912, 898)\n",
            "4978 (4978, 898)\n",
            "19912 (19912, 1672)\n",
            "4978 (4978, 1672)\n",
            "19912 (19912,)\n",
            "4978 (4978,)\n"
          ],
          "name": "stdout"
        }
      ]
    },
    {
      "cell_type": "code",
      "metadata": {
        "id": "65QXvvdI6UJx",
        "colab_type": "code",
        "colab": {
          "base_uri": "https://localhost:8080/",
          "height": 1000
        },
        "outputId": "75cf589a-2d0c-46ca-dcf4-2720b207f54f"
      },
      "source": [
        "early_stop = keras.callbacks.EarlyStopping(monitor='accuracy', patience=10)\n",
        "\n",
        "history = model.fit({\"aX\": aX_train, \"Xb\": Xb_train}, \n",
        "          y_case_train,\n",
        "          validation_split = 0.2,\n",
        "          callbacks=[early_stop, tfdocs.modeling.EpochDots()], \n",
        "          epochs=100,\n",
        "          batch_size = 128)\n"
      ],
      "execution_count": 57,
      "outputs": [
        {
          "output_type": "stream",
          "text": [
            "Epoch 1/100\n",
            "124/125 [============================>.] - ETA: 0s - loss: 0.0309 - accuracy: 0.9907 - mse: 26.4488\n",
            "Epoch: 0, accuracy:0.9906,  loss:0.0310,  mse:26.4460,  val_accuracy:0.9729,  val_loss:0.0889,  val_mse:26.4588,  \n",
            "125/125 [==============================] - 2s 13ms/step - loss: 0.0310 - accuracy: 0.9906 - mse: 26.4460 - val_loss: 0.0889 - val_accuracy: 0.9729 - val_mse: 26.4588\n",
            "Epoch 2/100\n",
            "125/125 [==============================] - 2s 13ms/step - loss: 0.0276 - accuracy: 0.9915 - mse: 28.2477 - val_loss: 0.0921 - val_accuracy: 0.9739 - val_mse: 29.1124\n",
            "Epoch 3/100\n",
            "125/125 [==============================] - 2s 13ms/step - loss: 0.0262 - accuracy: 0.9916 - mse: 30.3854 - val_loss: 0.0929 - val_accuracy: 0.9729 - val_mse: 30.8200\n",
            "Epoch 4/100\n",
            "125/125 [==============================] - 2s 13ms/step - loss: 0.0257 - accuracy: 0.9917 - mse: 32.5198 - val_loss: 0.0961 - val_accuracy: 0.9741 - val_mse: 32.5687\n",
            "Epoch 5/100\n",
            "125/125 [==============================] - 2s 13ms/step - loss: 0.0254 - accuracy: 0.9919 - mse: 33.4850 - val_loss: 0.0976 - val_accuracy: 0.9731 - val_mse: 33.1820\n",
            "Epoch 6/100\n",
            "125/125 [==============================] - 2s 13ms/step - loss: 0.0245 - accuracy: 0.9925 - mse: 34.3564 - val_loss: 0.1000 - val_accuracy: 0.9726 - val_mse: 35.0207\n",
            "Epoch 7/100\n",
            "125/125 [==============================] - 1s 12ms/step - loss: 0.0245 - accuracy: 0.9917 - mse: 35.2962 - val_loss: 0.0986 - val_accuracy: 0.9731 - val_mse: 33.5227\n",
            "Epoch 8/100\n",
            "125/125 [==============================] - 2s 12ms/step - loss: 0.0249 - accuracy: 0.9915 - mse: 35.5723 - val_loss: 0.1004 - val_accuracy: 0.9716 - val_mse: 35.7446\n",
            "Epoch 9/100\n",
            "125/125 [==============================] - 2s 12ms/step - loss: 0.0242 - accuracy: 0.9915 - mse: 36.8460 - val_loss: 0.0996 - val_accuracy: 0.9726 - val_mse: 34.3446\n",
            "Epoch 10/100\n",
            "125/125 [==============================] - 2s 13ms/step - loss: 0.0242 - accuracy: 0.9915 - mse: 37.4325 - val_loss: 0.1105 - val_accuracy: 0.9714 - val_mse: 39.8040\n",
            "Epoch 11/100\n",
            "125/125 [==============================] - 2s 13ms/step - loss: 0.0237 - accuracy: 0.9917 - mse: 38.5699 - val_loss: 0.1056 - val_accuracy: 0.9729 - val_mse: 38.0770\n",
            "Epoch 12/100\n",
            "125/125 [==============================] - 2s 13ms/step - loss: 0.0234 - accuracy: 0.9918 - mse: 39.4934 - val_loss: 0.1018 - val_accuracy: 0.9746 - val_mse: 37.4664\n",
            "Epoch 13/100\n",
            "125/125 [==============================] - 1s 12ms/step - loss: 0.0236 - accuracy: 0.9918 - mse: 39.6999 - val_loss: 0.1025 - val_accuracy: 0.9731 - val_mse: 38.7288\n",
            "Epoch 14/100\n",
            "125/125 [==============================] - 2s 13ms/step - loss: 0.0229 - accuracy: 0.9916 - mse: 40.5196 - val_loss: 0.1113 - val_accuracy: 0.9721 - val_mse: 39.8413\n",
            "Epoch 15/100\n",
            "125/125 [==============================] - 2s 13ms/step - loss: 0.0219 - accuracy: 0.9927 - mse: 41.9952 - val_loss: 0.1082 - val_accuracy: 0.9729 - val_mse: 39.3194\n",
            "Epoch 16/100\n",
            "125/125 [==============================] - 2s 13ms/step - loss: 0.0214 - accuracy: 0.9921 - mse: 42.3578 - val_loss: 0.1098 - val_accuracy: 0.9739 - val_mse: 43.3432\n",
            "Epoch 17/100\n",
            "125/125 [==============================] - 2s 13ms/step - loss: 0.0221 - accuracy: 0.9912 - mse: 44.0620 - val_loss: 0.1100 - val_accuracy: 0.9741 - val_mse: 44.9372\n",
            "Epoch 18/100\n",
            "125/125 [==============================] - 2s 12ms/step - loss: 0.0207 - accuracy: 0.9925 - mse: 45.0386 - val_loss: 0.1124 - val_accuracy: 0.9709 - val_mse: 44.3452\n",
            "Epoch 19/100\n",
            "125/125 [==============================] - 2s 12ms/step - loss: 0.0200 - accuracy: 0.9923 - mse: 46.3264 - val_loss: 0.1089 - val_accuracy: 0.9739 - val_mse: 42.6006\n",
            "Epoch 20/100\n",
            "125/125 [==============================] - 2s 13ms/step - loss: 0.0195 - accuracy: 0.9929 - mse: 47.6925 - val_loss: 0.1110 - val_accuracy: 0.9734 - val_mse: 44.4502\n",
            "Epoch 21/100\n",
            "125/125 [==============================] - 2s 13ms/step - loss: 0.0189 - accuracy: 0.9930 - mse: 48.2809 - val_loss: 0.1141 - val_accuracy: 0.9739 - val_mse: 48.8279\n",
            "Epoch 22/100\n",
            "125/125 [==============================] - 2s 13ms/step - loss: 0.0180 - accuracy: 0.9929 - mse: 51.2230 - val_loss: 0.1172 - val_accuracy: 0.9736 - val_mse: 49.9023\n",
            "Epoch 23/100\n",
            "125/125 [==============================] - 2s 13ms/step - loss: 0.0180 - accuracy: 0.9935 - mse: 53.1128 - val_loss: 0.1175 - val_accuracy: 0.9749 - val_mse: 50.8681\n",
            "Epoch 24/100\n",
            "125/125 [==============================] - 2s 12ms/step - loss: 0.0176 - accuracy: 0.9928 - mse: 54.0219 - val_loss: 0.1244 - val_accuracy: 0.9734 - val_mse: 55.0976\n",
            "Epoch 25/100\n",
            "125/125 [==============================] - 2s 12ms/step - loss: 0.0172 - accuracy: 0.9933 - mse: 56.9167 - val_loss: 0.1237 - val_accuracy: 0.9734 - val_mse: 52.5909\n",
            "Epoch 26/100\n",
            "125/125 [==============================] - 2s 12ms/step - loss: 0.0172 - accuracy: 0.9942 - mse: 58.0364 - val_loss: 0.1239 - val_accuracy: 0.9749 - val_mse: 57.6914\n",
            "Epoch 27/100\n",
            "125/125 [==============================] - 2s 13ms/step - loss: 0.0171 - accuracy: 0.9934 - mse: 60.6482 - val_loss: 0.1310 - val_accuracy: 0.9706 - val_mse: 58.9916\n",
            "Epoch 28/100\n",
            "125/125 [==============================] - 2s 13ms/step - loss: 0.0157 - accuracy: 0.9942 - mse: 61.0867 - val_loss: 0.1286 - val_accuracy: 0.9736 - val_mse: 64.7354\n",
            "Epoch 29/100\n",
            "125/125 [==============================] - 2s 13ms/step - loss: 0.0167 - accuracy: 0.9937 - mse: 62.7678 - val_loss: 0.1325 - val_accuracy: 0.9749 - val_mse: 56.4154\n",
            "Epoch 30/100\n",
            "125/125 [==============================] - 2s 12ms/step - loss: 0.0158 - accuracy: 0.9941 - mse: 62.1474 - val_loss: 0.1315 - val_accuracy: 0.9716 - val_mse: 62.8035\n",
            "Epoch 31/100\n",
            "125/125 [==============================] - 2s 12ms/step - loss: 0.0145 - accuracy: 0.9948 - mse: 66.6486 - val_loss: 0.1327 - val_accuracy: 0.9726 - val_mse: 61.7735\n",
            "Epoch 32/100\n",
            "125/125 [==============================] - 2s 12ms/step - loss: 0.0151 - accuracy: 0.9945 - mse: 67.0258 - val_loss: 0.1375 - val_accuracy: 0.9739 - val_mse: 70.4973\n",
            "Epoch 33/100\n",
            "125/125 [==============================] - 2s 13ms/step - loss: 0.0151 - accuracy: 0.9947 - mse: 70.9934 - val_loss: 0.1323 - val_accuracy: 0.9734 - val_mse: 67.1429\n",
            "Epoch 34/100\n",
            "125/125 [==============================] - 2s 12ms/step - loss: 0.0145 - accuracy: 0.9941 - mse: 72.3466 - val_loss: 0.1368 - val_accuracy: 0.9714 - val_mse: 70.3874\n",
            "Epoch 35/100\n",
            "125/125 [==============================] - 1s 12ms/step - loss: 0.0144 - accuracy: 0.9944 - mse: 72.2589 - val_loss: 0.1332 - val_accuracy: 0.9741 - val_mse: 69.1497\n",
            "Epoch 36/100\n",
            "125/125 [==============================] - 2s 12ms/step - loss: 0.0139 - accuracy: 0.9949 - mse: 74.9631 - val_loss: 0.1385 - val_accuracy: 0.9741 - val_mse: 73.0767\n",
            "Epoch 37/100\n",
            "125/125 [==============================] - 2s 12ms/step - loss: 0.0139 - accuracy: 0.9947 - mse: 73.6992 - val_loss: 0.1438 - val_accuracy: 0.9736 - val_mse: 76.4631\n",
            "Epoch 38/100\n",
            "125/125 [==============================] - 2s 13ms/step - loss: 0.0146 - accuracy: 0.9944 - mse: 75.9573 - val_loss: 0.1401 - val_accuracy: 0.9729 - val_mse: 72.8296\n",
            "Epoch 39/100\n",
            "125/125 [==============================] - 2s 13ms/step - loss: 0.0139 - accuracy: 0.9944 - mse: 80.3426 - val_loss: 0.1452 - val_accuracy: 0.9736 - val_mse: 74.4016\n",
            "Epoch 40/100\n",
            "125/125 [==============================] - 2s 13ms/step - loss: 0.0134 - accuracy: 0.9945 - mse: 78.6030 - val_loss: 0.1410 - val_accuracy: 0.9734 - val_mse: 76.7752\n",
            "Epoch 41/100\n",
            "125/125 [==============================] - 2s 13ms/step - loss: 0.0138 - accuracy: 0.9943 - mse: 76.4610 - val_loss: 0.1478 - val_accuracy: 0.9726 - val_mse: 82.7985\n",
            "Epoch 42/100\n",
            "125/125 [==============================] - 2s 13ms/step - loss: 0.0134 - accuracy: 0.9949 - mse: 79.7157 - val_loss: 0.1399 - val_accuracy: 0.9739 - val_mse: 72.8109\n",
            "Epoch 43/100\n",
            "125/125 [==============================] - 2s 13ms/step - loss: 0.0130 - accuracy: 0.9945 - mse: 78.7253 - val_loss: 0.1484 - val_accuracy: 0.9724 - val_mse: 82.3387\n",
            "Epoch 44/100\n",
            "125/125 [==============================] - 2s 13ms/step - loss: 0.0131 - accuracy: 0.9946 - mse: 82.0224 - val_loss: 0.1465 - val_accuracy: 0.9741 - val_mse: 82.5707\n",
            "Epoch 45/100\n",
            "125/125 [==============================] - 2s 13ms/step - loss: 0.0133 - accuracy: 0.9951 - mse: 80.8224 - val_loss: 0.1439 - val_accuracy: 0.9734 - val_mse: 79.7561\n",
            "Epoch 46/100\n",
            "125/125 [==============================] - 2s 13ms/step - loss: 0.0129 - accuracy: 0.9948 - mse: 83.7251 - val_loss: 0.1461 - val_accuracy: 0.9729 - val_mse: 82.7245\n",
            "Epoch 47/100\n",
            "125/125 [==============================] - 2s 12ms/step - loss: 0.0132 - accuracy: 0.9953 - mse: 83.1215 - val_loss: 0.1451 - val_accuracy: 0.9729 - val_mse: 78.9330\n",
            "Epoch 48/100\n",
            "125/125 [==============================] - 2s 13ms/step - loss: 0.0132 - accuracy: 0.9947 - mse: 84.2583 - val_loss: 0.1409 - val_accuracy: 0.9749 - val_mse: 81.5040\n",
            "Epoch 49/100\n",
            "125/125 [==============================] - 2s 12ms/step - loss: 0.0126 - accuracy: 0.9951 - mse: 85.4014 - val_loss: 0.1458 - val_accuracy: 0.9724 - val_mse: 82.4525\n",
            "Epoch 50/100\n",
            "125/125 [==============================] - 2s 12ms/step - loss: 0.0128 - accuracy: 0.9950 - mse: 85.4207 - val_loss: 0.1488 - val_accuracy: 0.9734 - val_mse: 88.3505\n",
            "Epoch 51/100\n",
            "125/125 [==============================] - 2s 12ms/step - loss: 0.0128 - accuracy: 0.9948 - mse: 88.7901 - val_loss: 0.1506 - val_accuracy: 0.9739 - val_mse: 89.7698\n",
            "Epoch 52/100\n",
            "125/125 [==============================] - 1s 12ms/step - loss: 0.0128 - accuracy: 0.9949 - mse: 91.9125 - val_loss: 0.1503 - val_accuracy: 0.9729 - val_mse: 88.5442\n",
            "Epoch 53/100\n",
            "125/125 [==============================] - 2s 12ms/step - loss: 0.0126 - accuracy: 0.9954 - mse: 91.9847 - val_loss: 0.1545 - val_accuracy: 0.9729 - val_mse: 91.2950\n",
            "Epoch 54/100\n",
            "125/125 [==============================] - 2s 13ms/step - loss: 0.0127 - accuracy: 0.9949 - mse: 92.6206 - val_loss: 0.1478 - val_accuracy: 0.9729 - val_mse: 85.6062\n",
            "Epoch 55/100\n",
            "125/125 [==============================] - 2s 12ms/step - loss: 0.0129 - accuracy: 0.9947 - mse: 90.1144 - val_loss: 0.1604 - val_accuracy: 0.9734 - val_mse: 99.8307\n",
            "Epoch 56/100\n",
            "125/125 [==============================] - 2s 12ms/step - loss: 0.0131 - accuracy: 0.9949 - mse: 94.5548 - val_loss: 0.1570 - val_accuracy: 0.9714 - val_mse: 96.0518\n",
            "Epoch 57/100\n",
            "125/125 [==============================] - 2s 12ms/step - loss: 0.0128 - accuracy: 0.9948 - mse: 93.7065 - val_loss: 0.1518 - val_accuracy: 0.9729 - val_mse: 88.3149\n",
            "Epoch 58/100\n",
            "125/125 [==============================] - 2s 12ms/step - loss: 0.0123 - accuracy: 0.9949 - mse: 94.7933 - val_loss: 0.1529 - val_accuracy: 0.9734 - val_mse: 90.2413\n",
            "Epoch 59/100\n",
            "125/125 [==============================] - 2s 12ms/step - loss: 0.0122 - accuracy: 0.9951 - mse: 98.8412 - val_loss: 0.1577 - val_accuracy: 0.9736 - val_mse: 98.2387\n",
            "Epoch 60/100\n",
            "125/125 [==============================] - 2s 12ms/step - loss: 0.0122 - accuracy: 0.9950 - mse: 99.9326 - val_loss: 0.1614 - val_accuracy: 0.9734 - val_mse: 99.1591\n",
            "Epoch 61/100\n",
            "125/125 [==============================] - 2s 12ms/step - loss: 0.0120 - accuracy: 0.9951 - mse: 99.3599 - val_loss: 0.1590 - val_accuracy: 0.9731 - val_mse: 97.9165\n",
            "Epoch 62/100\n",
            "125/125 [==============================] - 2s 12ms/step - loss: 0.0124 - accuracy: 0.9949 - mse: 99.2570 - val_loss: 0.1588 - val_accuracy: 0.9724 - val_mse: 95.0718\n",
            "Epoch 63/100\n",
            "125/125 [==============================] - 2s 12ms/step - loss: 0.0124 - accuracy: 0.9951 - mse: 100.5681 - val_loss: 0.1564 - val_accuracy: 0.9724 - val_mse: 98.8639\n"
          ],
          "name": "stdout"
        }
      ]
    },
    {
      "cell_type": "code",
      "metadata": {
        "id": "sIBuCUgV7hQ8",
        "colab_type": "code",
        "colab": {
          "base_uri": "https://localhost:8080/",
          "height": 300
        },
        "outputId": "79c115a6-8e41-431e-b8e2-abf5df10f2f4"
      },
      "source": [
        "plotter = tfdocs.plots.HistoryPlotter(smoothing_std=2)\n",
        "plotter.plot({'Accuracy': history}, metric = \"accuracy\")\n",
        "plt.ylim([0, 1])\n",
        "plt.ylabel('accuracy')"
      ],
      "execution_count": 58,
      "outputs": [
        {
          "output_type": "execute_result",
          "data": {
            "text/plain": [
              "Text(0, 0.5, 'accuracy')"
            ]
          },
          "metadata": {
            "tags": []
          },
          "execution_count": 58
        },
        {
          "output_type": "display_data",
          "data": {
            "image/png": "[encoded data removed]",
            "text/plain": [
              "<Figure size 432x288 with 1 Axes>"
            ]
          },
          "metadata": {
            "tags": [],
            "needs_background": "light"
          }
        }
      ]
    },
    {
      "cell_type": "code",
      "metadata": {
        "id": "imPq1l6J7nu5",
        "colab_type": "code",
        "colab": {
          "base_uri": "https://localhost:8080/",
          "height": 300
        },
        "outputId": "3b8ccf9e-356a-48eb-9de5-6d1f577ba87c"
      },
      "source": [
        "plotter = tfdocs.plots.HistoryPlotter(smoothing_std=2)\n",
        "plotter.plot({'Loss': history}, metric = 'loss')\n",
        "plt.ylim([0, 1])\n",
        "plt.ylabel('loss')"
      ],
      "execution_count": 59,
      "outputs": [
        {
          "output_type": "execute_result",
          "data": {
            "text/plain": [
              "Text(0, 0.5, 'loss')"
            ]
          },
          "metadata": {
            "tags": []
          },
          "execution_count": 59
        },
        {
          "output_type": "display_data",
          "data": {
            "image/png": "[encoded data removed]",
            "text/plain": [
              "<Figure size 432x288 with 1 Axes>"
            ]
          },
          "metadata": {
            "tags": [],
            "needs_background": "light"
          }
        }
      ]
    },
    {
      "cell_type": "code",
      "metadata": {
        "id": "e3cmPmgp7r1Y",
        "colab_type": "code",
        "colab": {
          "base_uri": "https://localhost:8080/",
          "height": 51
        },
        "outputId": "4b3c3d3c-3449-4420-82be-0178d09a92cb"
      },
      "source": [
        "loss, accuracy, mse = model.evaluate({\"aX\": aX_test, \"Xb\": Xb_test}, y={\"case\": Y_case_test}, verbose=2)\n",
        "print(\"Test set loss: {:5.2f} , accuracy: {:5.2f}, mse: {:5.2f}  \".format(loss, accuracy, mse))"
      ],
      "execution_count": 64,
      "outputs": [
        {
          "output_type": "stream",
          "text": [
            "156/156 - 0s - loss: 0.1598 - accuracy: 0.9705 - mse: 99.0103\n",
            "Test set loss:  0.16 , accuracy:  0.97, mse: 99.01  \n"
          ],
          "name": "stdout"
        }
      ]
    },
    {
      "cell_type": "code",
      "metadata": {
        "id": "4zyrXEVp8L_X",
        "colab_type": "code",
        "colab": {
          "base_uri": "https://localhost:8080/",
          "height": 187
        },
        "outputId": "1a612e18-3130-4a57-a0fa-1988816c723f"
      },
      "source": [
        "from sklearn import metrics\n",
        "y_pred = model.predict([aX_test,Xb_test])\n",
        "y_pred = np.argmax(y_pred, axis = 1)\n",
        "\n",
        "target_names = ['det:poss','pro:obj','pro:sub']\n",
        "print(metrics.classification_report(Y_case_test, y_pred, digits=3, target_names=target_names))"
      ],
      "execution_count": 66,
      "outputs": [
        {
          "output_type": "stream",
          "text": [
            "              precision    recall  f1-score   support\n",
            "\n",
            "    det:poss      0.952     0.948     0.950      1230\n",
            "     pro:obj      0.946     0.940     0.943       802\n",
            "     pro:sub      0.985     0.988     0.986      2946\n",
            "\n",
            "    accuracy                          0.970      4978\n",
            "   macro avg      0.961     0.959     0.960      4978\n",
            "weighted avg      0.970     0.970     0.970      4978\n",
            "\n"
          ],
          "name": "stdout"
        }
      ]
    },
    {
      "cell_type": "code",
      "metadata": {
        "id": "YPFpGnxD8pWd",
        "colab_type": "code",
        "colab": {
          "base_uri": "https://localhost:8080/",
          "height": 136
        },
        "outputId": "94dd8907-e181-48a3-f21b-b1ea5354dd70"
      },
      "source": [
        "aX_test"
      ],
      "execution_count": 67,
      "outputs": [
        {
          "output_type": "execute_result",
          "data": {
            "text/plain": [
              "array([[0., 0., 0., ..., 0., 0., 0.],\n",
              "       [0., 0., 0., ..., 0., 0., 0.],\n",
              "       [0., 0., 0., ..., 0., 0., 0.],\n",
              "       ...,\n",
              "       [0., 0., 0., ..., 0., 0., 0.],\n",
              "       [0., 0., 0., ..., 0., 0., 0.],\n",
              "       [0., 0., 0., ..., 0., 0., 0.]], dtype=float32)"
            ]
          },
          "metadata": {
            "tags": []
          },
          "execution_count": 67
        }
      ]
    },
    {
      "cell_type": "code",
      "metadata": {
        "id": "Ev_BCXlc9z4p",
        "colab_type": "code",
        "colab": {
          "base_uri": "https://localhost:8080/",
          "height": 221
        },
        "outputId": "725c8da7-4788-40a9-87ac-ed4faf4833c0"
      },
      "source": [
        "df['onehot_aX']"
      ],
      "execution_count": 69,
      "outputs": [
        {
          "output_type": "execute_result",
          "data": {
            "text/plain": [
              "84723     [0, 0, 0, 0, 0, 0, 0, 0, 0, 0, 0, 0, 0, 0, 0, ...\n",
              "77948     [0, 0, 0, 0, 0, 0, 0, 0, 0, 0, 0, 0, 0, 0, 0, ...\n",
              "340740    [0, 0, 0, 0, 0, 0, 0, 0, 0, 0, 0, 0, 0, 0, 0, ...\n",
              "11812     [0, 0, 0, 0, 0, 0, 0, 0, 0, 0, 0, 0, 0, 0, 0, ...\n",
              "329542    [0, 0, 0, 0, 0, 0, 0, 0, 0, 0, 0, 0, 0, 0, 0, ...\n",
              "                                ...                        \n",
              "144403    [0, 0, 0, 0, 0, 0, 0, 0, 0, 0, 0, 0, 0, 0, 0, ...\n",
              "6499      [0, 0, 0, 0, 0, 0, 0, 0, 0, 0, 0, 0, 0, 0, 0, ...\n",
              "213239    [0, 0, 0, 0, 0, 0, 0, 0, 0, 0, 0, 0, 0, 0, 0, ...\n",
              "81778     [0, 0, 0, 0, 0, 0, 0, 0, 0, 0, 0, 0, 0, 0, 0, ...\n",
              "154776    [0, 0, 0, 0, 0, 0, 0, 0, 0, 0, 0, 0, 0, 0, 0, ...\n",
              "Name: onehot_aX, Length: 24890, dtype: object"
            ]
          },
          "metadata": {
            "tags": []
          },
          "execution_count": 69
        }
      ]
    },
    {
      "cell_type": "code",
      "metadata": {
        "id": "_tyVfFER9-0a",
        "colab_type": "code",
        "colab": {}
      },
      "source": [
        "name_train, name_test, X_train, X_test, aXX80, aXX20 = train_test_split(df['name'], df['X'], df['onehot_aX'], test_size = 0.2, random_state = 4)"
      ],
      "execution_count": 75,
      "outputs": []
    },
    {
      "cell_type": "code",
      "metadata": {
        "id": "tS1t5dB8-6n_",
        "colab_type": "code",
        "colab": {}
      },
      "source": [
        "Xb80, Xb20, case80, case20 = train_test_split(df['onehot_Xb'], df['encoded_case'], test_size=0.20, random_state=4)\n"
      ],
      "execution_count": 85,
      "outputs": []
    },
    {
      "cell_type": "code",
      "metadata": {
        "id": "8i5qT7JrAcJh",
        "colab_type": "code",
        "colab": {}
      },
      "source": [
        "dftest = pd.DataFrame(y_pred)\n",
        "dftest.columns = ['pred value']\n",
        "dftest['name'] = name_test.values\n",
        "dftest['pronoun'] = X_test.values\n",
        "dftest['case'] = Y_case_test "
      ],
      "execution_count": 97,
      "outputs": []
    },
    {
      "cell_type": "code",
      "metadata": {
        "id": "ZYUIDq1vCir3",
        "colab_type": "code",
        "colab": {
          "base_uri": "https://localhost:8080/",
          "height": 221
        },
        "outputId": "d048b56b-7924-42ba-d251-198ac1af8ba3"
      },
      "source": [
        "name_test.values"
      ],
      "execution_count": 96,
      "outputs": [
        {
          "output_type": "execute_result",
          "data": {
            "text/plain": [
              "223354     Eve\n",
              "246012     Eve\n",
              "65243     Anne\n",
              "154521    Aran\n",
              "372373    Nina\n",
              "          ... \n",
              "206437    Aran\n",
              "57954     Anne\n",
              "234171     Eve\n",
              "139701    Aran\n",
              "94196     Anne\n",
              "Name: name, Length: 4978, dtype: object"
            ]
          },
          "metadata": {
            "tags": []
          },
          "execution_count": 96
        }
      ]
    },
    {
      "cell_type": "code",
      "metadata": {
        "id": "_81GA92bCfil",
        "colab_type": "code",
        "colab": {
          "base_uri": "https://localhost:8080/",
          "height": 204
        },
        "outputId": "d4822d03-2ab1-4024-dd33-bd6f2856e203"
      },
      "source": [
        "dftest.head()"
      ],
      "execution_count": 98,
      "outputs": [
        {
          "output_type": "execute_result",
          "data": {
            "text/html": [
              "<div>\n",
              "<style scoped>\n",
              "    .dataframe tbody tr th:only-of-type {\n",
              "        vertical-align: middle;\n",
              "    }\n",
              "\n",
              "    .dataframe tbody tr th {\n",
              "        vertical-align: top;\n",
              "    }\n",
              "\n",
              "    .dataframe thead th {\n",
              "        text-align: right;\n",
              "    }\n",
              "</style>\n",
              "<table border=\"1\" class=\"dataframe\">\n",
              "  <thead>\n",
              "    <tr style=\"text-align: right;\">\n",
              "      <th></th>\n",
              "      <th>pred value</th>\n",
              "      <th>name</th>\n",
              "      <th>pronoun</th>\n",
              "      <th>case</th>\n",
              "    </tr>\n",
              "  </thead>\n",
              "  <tbody>\n",
              "    <tr>\n",
              "      <th>0</th>\n",
              "      <td>0</td>\n",
              "      <td>Eve</td>\n",
              "      <td>my</td>\n",
              "      <td>0.0</td>\n",
              "    </tr>\n",
              "    <tr>\n",
              "      <th>1</th>\n",
              "      <td>2</td>\n",
              "      <td>Eve</td>\n",
              "      <td>I</td>\n",
              "      <td>2.0</td>\n",
              "    </tr>\n",
              "    <tr>\n",
              "      <th>2</th>\n",
              "      <td>0</td>\n",
              "      <td>Anne</td>\n",
              "      <td>his</td>\n",
              "      <td>0.0</td>\n",
              "    </tr>\n",
              "    <tr>\n",
              "      <th>3</th>\n",
              "      <td>2</td>\n",
              "      <td>Aran</td>\n",
              "      <td>they</td>\n",
              "      <td>2.0</td>\n",
              "    </tr>\n",
              "    <tr>\n",
              "      <th>4</th>\n",
              "      <td>1</td>\n",
              "      <td>Nina</td>\n",
              "      <td>him</td>\n",
              "      <td>1.0</td>\n",
              "    </tr>\n",
              "  </tbody>\n",
              "</table>\n",
              "</div>"
            ],
            "text/plain": [
              "   pred value  name pronoun  case\n",
              "0           0   Eve      my   0.0\n",
              "1           2   Eve       I   2.0\n",
              "2           0  Anne     his   0.0\n",
              "3           2  Aran    they   2.0\n",
              "4           1  Nina     him   1.0"
            ]
          },
          "metadata": {
            "tags": []
          },
          "execution_count": 98
        }
      ]
    },
    {
      "cell_type": "code",
      "metadata": {
        "id": "eboiZz5ICpTN",
        "colab_type": "code",
        "colab": {}
      },
      "source": [
        "dftest['correct'] = np.where((dftest['pred value'] == dftest['case']) , 1, 0)"
      ],
      "execution_count": 99,
      "outputs": []
    },
    {
      "cell_type": "code",
      "metadata": {
        "id": "5Q38LCgVDrPV",
        "colab_type": "code",
        "colab": {
          "base_uri": "https://localhost:8080/",
          "height": 297
        },
        "outputId": "f8e017d7-775e-4d2e-b98f-20c65b67d65e"
      },
      "source": [
        "dftest.describe()"
      ],
      "execution_count": 103,
      "outputs": [
        {
          "output_type": "execute_result",
          "data": {
            "text/html": [
              "<div>\n",
              "<style scoped>\n",
              "    .dataframe tbody tr th:only-of-type {\n",
              "        vertical-align: middle;\n",
              "    }\n",
              "\n",
              "    .dataframe tbody tr th {\n",
              "        vertical-align: top;\n",
              "    }\n",
              "\n",
              "    .dataframe thead th {\n",
              "        text-align: right;\n",
              "    }\n",
              "</style>\n",
              "<table border=\"1\" class=\"dataframe\">\n",
              "  <thead>\n",
              "    <tr style=\"text-align: right;\">\n",
              "      <th></th>\n",
              "      <th>pred value</th>\n",
              "      <th>case</th>\n",
              "      <th>correct</th>\n",
              "    </tr>\n",
              "  </thead>\n",
              "  <tbody>\n",
              "    <tr>\n",
              "      <th>count</th>\n",
              "      <td>4978.000000</td>\n",
              "      <td>4978.000000</td>\n",
              "      <td>4978.000000</td>\n",
              "    </tr>\n",
              "    <tr>\n",
              "      <th>mean</th>\n",
              "      <td>1.347730</td>\n",
              "      <td>1.344717</td>\n",
              "      <td>0.970470</td>\n",
              "    </tr>\n",
              "    <tr>\n",
              "      <th>std</th>\n",
              "      <td>0.848012</td>\n",
              "      <td>0.848666</td>\n",
              "      <td>0.169303</td>\n",
              "    </tr>\n",
              "    <tr>\n",
              "      <th>min</th>\n",
              "      <td>0.000000</td>\n",
              "      <td>0.000000</td>\n",
              "      <td>0.000000</td>\n",
              "    </tr>\n",
              "    <tr>\n",
              "      <th>25%</th>\n",
              "      <td>1.000000</td>\n",
              "      <td>1.000000</td>\n",
              "      <td>1.000000</td>\n",
              "    </tr>\n",
              "    <tr>\n",
              "      <th>50%</th>\n",
              "      <td>2.000000</td>\n",
              "      <td>2.000000</td>\n",
              "      <td>1.000000</td>\n",
              "    </tr>\n",
              "    <tr>\n",
              "      <th>75%</th>\n",
              "      <td>2.000000</td>\n",
              "      <td>2.000000</td>\n",
              "      <td>1.000000</td>\n",
              "    </tr>\n",
              "    <tr>\n",
              "      <th>max</th>\n",
              "      <td>2.000000</td>\n",
              "      <td>2.000000</td>\n",
              "      <td>1.000000</td>\n",
              "    </tr>\n",
              "  </tbody>\n",
              "</table>\n",
              "</div>"
            ],
            "text/plain": [
              "        pred value         case      correct\n",
              "count  4978.000000  4978.000000  4978.000000\n",
              "mean      1.347730     1.344717     0.970470\n",
              "std       0.848012     0.848666     0.169303\n",
              "min       0.000000     0.000000     0.000000\n",
              "25%       1.000000     1.000000     1.000000\n",
              "50%       2.000000     2.000000     1.000000\n",
              "75%       2.000000     2.000000     1.000000\n",
              "max       2.000000     2.000000     1.000000"
            ]
          },
          "metadata": {
            "tags": []
          },
          "execution_count": 103
        }
      ]
    },
    {
      "cell_type": "code",
      "metadata": {
        "id": "0P761plXFKYa",
        "colab_type": "code",
        "colab": {}
      },
      "source": [
        "dftest.to_csv('prediction_table.csv')\n",
        "!cp prediction_table.csv \"/content/drive/My Drive/QP2/Input Model/\""
      ],
      "execution_count": 107,
      "outputs": []
    },
    {
      "cell_type": "code",
      "metadata": {
        "id": "Y42QpfbZEoOI",
        "colab_type": "code",
        "colab": {}
      },
      "source": [
        "child_rate = []\n",
        "for i in dftest.name.unique():\n",
        "  dff = dftest.loc[dftest.name == i]\n",
        "  corr = sum(dff.correct)\n",
        "  total = len(dff)\n",
        "  rate = corr/total\n",
        "  child_rate.append([i,rate])"
      ],
      "execution_count": 123,
      "outputs": []
    },
    {
      "cell_type": "code",
      "metadata": {
        "id": "lC5RwWFrGIdx",
        "colab_type": "code",
        "colab": {
          "base_uri": "https://localhost:8080/",
          "height": 235
        },
        "outputId": "a00c7674-98c9-4330-ed5f-c0cfe69da313"
      },
      "source": [
        "pd.DataFrame(child_rate)"
      ],
      "execution_count": 125,
      "outputs": [
        {
          "output_type": "execute_result",
          "data": {
            "text/html": [
              "<div>\n",
              "<style scoped>\n",
              "    .dataframe tbody tr th:only-of-type {\n",
              "        vertical-align: middle;\n",
              "    }\n",
              "\n",
              "    .dataframe tbody tr th {\n",
              "        vertical-align: top;\n",
              "    }\n",
              "\n",
              "    .dataframe thead th {\n",
              "        text-align: right;\n",
              "    }\n",
              "</style>\n",
              "<table border=\"1\" class=\"dataframe\">\n",
              "  <thead>\n",
              "    <tr style=\"text-align: right;\">\n",
              "      <th></th>\n",
              "      <th>0</th>\n",
              "      <th>1</th>\n",
              "    </tr>\n",
              "  </thead>\n",
              "  <tbody>\n",
              "    <tr>\n",
              "      <th>0</th>\n",
              "      <td>Eve</td>\n",
              "      <td>0.960894</td>\n",
              "    </tr>\n",
              "    <tr>\n",
              "      <th>1</th>\n",
              "      <td>Anne</td>\n",
              "      <td>0.967286</td>\n",
              "    </tr>\n",
              "    <tr>\n",
              "      <th>2</th>\n",
              "      <td>Aran</td>\n",
              "      <td>0.979109</td>\n",
              "    </tr>\n",
              "    <tr>\n",
              "      <th>3</th>\n",
              "      <td>Nina</td>\n",
              "      <td>0.968900</td>\n",
              "    </tr>\n",
              "    <tr>\n",
              "      <th>4</th>\n",
              "      <td>Naomi</td>\n",
              "      <td>0.966543</td>\n",
              "    </tr>\n",
              "    <tr>\n",
              "      <th>5</th>\n",
              "      <td>Peter</td>\n",
              "      <td>0.970803</td>\n",
              "    </tr>\n",
              "  </tbody>\n",
              "</table>\n",
              "</div>"
            ],
            "text/plain": [
              "       0         1\n",
              "0    Eve  0.960894\n",
              "1   Anne  0.967286\n",
              "2   Aran  0.979109\n",
              "3   Nina  0.968900\n",
              "4  Naomi  0.966543\n",
              "5  Peter  0.970803"
            ]
          },
          "metadata": {
            "tags": []
          },
          "execution_count": 125
        }
      ]
    },
    {
      "cell_type": "code",
      "metadata": {
        "id": "613LDWm8GraY",
        "colab_type": "code",
        "colab": {
          "base_uri": "https://localhost:8080/",
          "height": 545
        },
        "outputId": "e052f2ad-5e35-4255-a7e2-d2edb2872e57"
      },
      "source": [
        "pronoun_rate = []\n",
        "for i in dftest.pronoun.unique():\n",
        "  dff = dftest.loc[dftest.pronoun == i]\n",
        "  corr = sum(dff.correct)\n",
        "  total = len(dff)\n",
        "  rate = corr/total\n",
        "  pronoun_rate.append([i,rate])\n",
        "pd.DataFrame(pronoun_rate)"
      ],
      "execution_count": 127,
      "outputs": [
        {
          "output_type": "execute_result",
          "data": {
            "text/html": [
              "<div>\n",
              "<style scoped>\n",
              "    .dataframe tbody tr th:only-of-type {\n",
              "        vertical-align: middle;\n",
              "    }\n",
              "\n",
              "    .dataframe tbody tr th {\n",
              "        vertical-align: top;\n",
              "    }\n",
              "\n",
              "    .dataframe thead th {\n",
              "        text-align: right;\n",
              "    }\n",
              "</style>\n",
              "<table border=\"1\" class=\"dataframe\">\n",
              "  <thead>\n",
              "    <tr style=\"text-align: right;\">\n",
              "      <th></th>\n",
              "      <th>0</th>\n",
              "      <th>1</th>\n",
              "    </tr>\n",
              "  </thead>\n",
              "  <tbody>\n",
              "    <tr>\n",
              "      <th>0</th>\n",
              "      <td>my</td>\n",
              "      <td>0.934783</td>\n",
              "    </tr>\n",
              "    <tr>\n",
              "      <th>1</th>\n",
              "      <td>I</td>\n",
              "      <td>0.992308</td>\n",
              "    </tr>\n",
              "    <tr>\n",
              "      <th>2</th>\n",
              "      <td>his</td>\n",
              "      <td>0.954802</td>\n",
              "    </tr>\n",
              "    <tr>\n",
              "      <th>3</th>\n",
              "      <td>they</td>\n",
              "      <td>0.993827</td>\n",
              "    </tr>\n",
              "    <tr>\n",
              "      <th>4</th>\n",
              "      <td>him</td>\n",
              "      <td>0.960784</td>\n",
              "    </tr>\n",
              "    <tr>\n",
              "      <th>5</th>\n",
              "      <td>me</td>\n",
              "      <td>0.957655</td>\n",
              "    </tr>\n",
              "    <tr>\n",
              "      <th>6</th>\n",
              "      <td>we</td>\n",
              "      <td>0.993190</td>\n",
              "    </tr>\n",
              "    <tr>\n",
              "      <th>7</th>\n",
              "      <td>she</td>\n",
              "      <td>0.991453</td>\n",
              "    </tr>\n",
              "    <tr>\n",
              "      <th>8</th>\n",
              "      <td>he</td>\n",
              "      <td>0.970492</td>\n",
              "    </tr>\n",
              "    <tr>\n",
              "      <th>9</th>\n",
              "      <td>your</td>\n",
              "      <td>0.955714</td>\n",
              "    </tr>\n",
              "    <tr>\n",
              "      <th>10</th>\n",
              "      <td>her</td>\n",
              "      <td>0.896414</td>\n",
              "    </tr>\n",
              "    <tr>\n",
              "      <th>11</th>\n",
              "      <td>them</td>\n",
              "      <td>0.931193</td>\n",
              "    </tr>\n",
              "    <tr>\n",
              "      <th>12</th>\n",
              "      <td>our</td>\n",
              "      <td>1.000000</td>\n",
              "    </tr>\n",
              "    <tr>\n",
              "      <th>13</th>\n",
              "      <td>their</td>\n",
              "      <td>0.942857</td>\n",
              "    </tr>\n",
              "    <tr>\n",
              "      <th>14</th>\n",
              "      <td>us</td>\n",
              "      <td>0.937500</td>\n",
              "    </tr>\n",
              "    <tr>\n",
              "      <th>15</th>\n",
              "      <td>its</td>\n",
              "      <td>0.875000</td>\n",
              "    </tr>\n",
              "  </tbody>\n",
              "</table>\n",
              "</div>"
            ],
            "text/plain": [
              "        0         1\n",
              "0      my  0.934783\n",
              "1       I  0.992308\n",
              "2     his  0.954802\n",
              "3    they  0.993827\n",
              "4     him  0.960784\n",
              "5      me  0.957655\n",
              "6      we  0.993190\n",
              "7     she  0.991453\n",
              "8      he  0.970492\n",
              "9    your  0.955714\n",
              "10    her  0.896414\n",
              "11   them  0.931193\n",
              "12    our  1.000000\n",
              "13  their  0.942857\n",
              "14     us  0.937500\n",
              "15    its  0.875000"
            ]
          },
          "metadata": {
            "tags": []
          },
          "execution_count": 127
        }
      ]
    },
    {
      "cell_type": "code",
      "metadata": {
        "id": "id8LzusyHAJT",
        "colab_type": "code",
        "colab": {
          "base_uri": "https://localhost:8080/",
          "height": 221
        },
        "outputId": "c33e8851-cfc5-4e24-f911-9a9ee019e8fc"
      },
      "source": [
        "dfI.loc[dfI.name == 'Eve'].correct"
      ],
      "execution_count": 133,
      "outputs": [
        {
          "output_type": "execute_result",
          "data": {
            "text/plain": [
              "1       1\n",
              "55      1\n",
              "91      1\n",
              "148     1\n",
              "161     1\n",
              "       ..\n",
              "4808    1\n",
              "4839    1\n",
              "4856    1\n",
              "4893    1\n",
              "4975    1\n",
              "Name: correct, Length: 117, dtype: int64"
            ]
          },
          "metadata": {
            "tags": []
          },
          "execution_count": 133
        }
      ]
    },
    {
      "cell_type": "code",
      "metadata": {
        "id": "9hd57LcpH8ET",
        "colab_type": "code",
        "colab": {
          "base_uri": "https://localhost:8080/",
          "height": 34
        },
        "outputId": "619169b7-635d-4027-9fe1-097073fb364e"
      },
      "source": [
        "dfIEve = dfI.loc[dfI.name == 'Eve']\n",
        "sum(dfIEve.correct)/len(dfIEve)"
      ],
      "execution_count": 136,
      "outputs": [
        {
          "output_type": "execute_result",
          "data": {
            "text/plain": [
              "0.9743589743589743"
            ]
          },
          "metadata": {
            "tags": []
          },
          "execution_count": 136
        }
      ]
    },
    {
      "cell_type": "code",
      "metadata": {
        "id": "qH3pwi39IOVA",
        "colab_type": "code",
        "colab": {}
      },
      "source": [
        "pronoun_rate = []\n",
        "for i in dftest.pronoun.unique():\n",
        "  dff = dftest.loc[dftest.pronoun == i]\n",
        "  corr = sum(dff.correct)\n",
        "  total = len(dff)\n",
        "  rate = corr/total\n",
        "  pronoun_rate.append([i,rate])\n",
        "pd.DataFrame(pronoun_rate)"
      ],
      "execution_count": null,
      "outputs": []
    },
    {
      "cell_type": "code",
      "metadata": {
        "id": "MGTwCDFmIIH9",
        "colab_type": "code",
        "colab": {}
      },
      "source": [
        "pronoun_name = []\n",
        "for pronoun in dftest.pronoun.unique():\n",
        "  pron_name = []\n",
        "  dfpronoun = dftest.loc[dftest.pronoun == pronoun]\n",
        "  for name in dftest.name.unique():\n",
        "    dfpn = dfpronoun.loc[dfpronoun.name == name]\n",
        "    corr = sum(dfpn.correct)\n",
        "    total = len(dfpn)\n",
        "    if total != 0:\n",
        "      rate = sum(dfpn.correct)/len(dfpn)\n",
        "    else:\n",
        "      rate = corr\n",
        "    pron_name.append(rate)\n",
        "  pronoun_name.append(pron_name)\n"
      ],
      "execution_count": 149,
      "outputs": []
    },
    {
      "cell_type": "code",
      "metadata": {
        "id": "juHm2B3TJeyK",
        "colab_type": "code",
        "colab": {
          "base_uri": "https://localhost:8080/",
          "height": 51
        },
        "outputId": "98ad252c-d582-4f96-8377-e2a756b297f8"
      },
      "source": [
        "dftest.pronoun.unique()"
      ],
      "execution_count": 143,
      "outputs": [
        {
          "output_type": "execute_result",
          "data": {
            "text/plain": [
              "array(['my', 'I', 'his', 'they', 'him', 'me', 'we', 'she', 'he', 'your',\n",
              "       'her', 'them', 'our', 'their', 'us', 'its'], dtype=object)"
            ]
          },
          "metadata": {
            "tags": []
          },
          "execution_count": 143
        }
      ]
    },
    {
      "cell_type": "code",
      "metadata": {
        "id": "25rVh92wJQkl",
        "colab_type": "code",
        "colab": {
          "base_uri": "https://localhost:8080/",
          "height": 545
        },
        "outputId": "9680709b-1371-4805-f58f-6c332c44a5b2"
      },
      "source": [
        "rate_table = pd.DataFrame(pronoun_name, \n",
        "                          index=dftest.pronoun.unique(), \n",
        "                          columns =dftest.name.unique())\n",
        "rate_table"
      ],
      "execution_count": 151,
      "outputs": [
        {
          "output_type": "execute_result",
          "data": {
            "text/html": [
              "<div>\n",
              "<style scoped>\n",
              "    .dataframe tbody tr th:only-of-type {\n",
              "        vertical-align: middle;\n",
              "    }\n",
              "\n",
              "    .dataframe tbody tr th {\n",
              "        vertical-align: top;\n",
              "    }\n",
              "\n",
              "    .dataframe thead th {\n",
              "        text-align: right;\n",
              "    }\n",
              "</style>\n",
              "<table border=\"1\" class=\"dataframe\">\n",
              "  <thead>\n",
              "    <tr style=\"text-align: right;\">\n",
              "      <th></th>\n",
              "      <th>Eve</th>\n",
              "      <th>Anne</th>\n",
              "      <th>Aran</th>\n",
              "      <th>Nina</th>\n",
              "      <th>Naomi</th>\n",
              "      <th>Peter</th>\n",
              "    </tr>\n",
              "  </thead>\n",
              "  <tbody>\n",
              "    <tr>\n",
              "      <th>my</th>\n",
              "      <td>0.903226</td>\n",
              "      <td>0.952381</td>\n",
              "      <td>1.000000</td>\n",
              "      <td>0.921053</td>\n",
              "      <td>0.875000</td>\n",
              "      <td>1.000000</td>\n",
              "    </tr>\n",
              "    <tr>\n",
              "      <th>I</th>\n",
              "      <td>0.974359</td>\n",
              "      <td>1.000000</td>\n",
              "      <td>1.000000</td>\n",
              "      <td>0.983957</td>\n",
              "      <td>1.000000</td>\n",
              "      <td>1.000000</td>\n",
              "    </tr>\n",
              "    <tr>\n",
              "      <th>his</th>\n",
              "      <td>1.000000</td>\n",
              "      <td>0.914894</td>\n",
              "      <td>0.979167</td>\n",
              "      <td>0.945455</td>\n",
              "      <td>1.000000</td>\n",
              "      <td>1.000000</td>\n",
              "    </tr>\n",
              "    <tr>\n",
              "      <th>they</th>\n",
              "      <td>1.000000</td>\n",
              "      <td>0.989583</td>\n",
              "      <td>0.990099</td>\n",
              "      <td>1.000000</td>\n",
              "      <td>1.000000</td>\n",
              "      <td>1.000000</td>\n",
              "    </tr>\n",
              "    <tr>\n",
              "      <th>him</th>\n",
              "      <td>0.928571</td>\n",
              "      <td>0.920000</td>\n",
              "      <td>0.960000</td>\n",
              "      <td>0.980769</td>\n",
              "      <td>1.000000</td>\n",
              "      <td>1.000000</td>\n",
              "    </tr>\n",
              "    <tr>\n",
              "      <th>me</th>\n",
              "      <td>1.000000</td>\n",
              "      <td>0.944444</td>\n",
              "      <td>0.953125</td>\n",
              "      <td>0.988636</td>\n",
              "      <td>0.869565</td>\n",
              "      <td>0.888889</td>\n",
              "    </tr>\n",
              "    <tr>\n",
              "      <th>we</th>\n",
              "      <td>1.000000</td>\n",
              "      <td>0.988679</td>\n",
              "      <td>0.994885</td>\n",
              "      <td>0.993506</td>\n",
              "      <td>1.000000</td>\n",
              "      <td>1.000000</td>\n",
              "    </tr>\n",
              "    <tr>\n",
              "      <th>she</th>\n",
              "      <td>1.000000</td>\n",
              "      <td>1.000000</td>\n",
              "      <td>1.000000</td>\n",
              "      <td>0.987013</td>\n",
              "      <td>0.954545</td>\n",
              "      <td>0.800000</td>\n",
              "    </tr>\n",
              "    <tr>\n",
              "      <th>he</th>\n",
              "      <td>0.871795</td>\n",
              "      <td>0.960000</td>\n",
              "      <td>0.990244</td>\n",
              "      <td>0.984211</td>\n",
              "      <td>0.933333</td>\n",
              "      <td>0.909091</td>\n",
              "    </tr>\n",
              "    <tr>\n",
              "      <th>your</th>\n",
              "      <td>0.968992</td>\n",
              "      <td>0.956897</td>\n",
              "      <td>0.936047</td>\n",
              "      <td>0.944751</td>\n",
              "      <td>0.985294</td>\n",
              "      <td>1.000000</td>\n",
              "    </tr>\n",
              "    <tr>\n",
              "      <th>her</th>\n",
              "      <td>0.906250</td>\n",
              "      <td>0.873563</td>\n",
              "      <td>0.900000</td>\n",
              "      <td>0.894737</td>\n",
              "      <td>1.000000</td>\n",
              "      <td>1.000000</td>\n",
              "    </tr>\n",
              "    <tr>\n",
              "      <th>them</th>\n",
              "      <td>0.935484</td>\n",
              "      <td>0.924242</td>\n",
              "      <td>0.937500</td>\n",
              "      <td>0.921053</td>\n",
              "      <td>0.916667</td>\n",
              "      <td>1.000000</td>\n",
              "    </tr>\n",
              "    <tr>\n",
              "      <th>our</th>\n",
              "      <td>1.000000</td>\n",
              "      <td>1.000000</td>\n",
              "      <td>1.000000</td>\n",
              "      <td>1.000000</td>\n",
              "      <td>1.000000</td>\n",
              "      <td>0.000000</td>\n",
              "    </tr>\n",
              "    <tr>\n",
              "      <th>their</th>\n",
              "      <td>1.000000</td>\n",
              "      <td>1.000000</td>\n",
              "      <td>1.000000</td>\n",
              "      <td>0.833333</td>\n",
              "      <td>0.000000</td>\n",
              "      <td>1.000000</td>\n",
              "    </tr>\n",
              "    <tr>\n",
              "      <th>us</th>\n",
              "      <td>1.000000</td>\n",
              "      <td>1.000000</td>\n",
              "      <td>1.000000</td>\n",
              "      <td>1.000000</td>\n",
              "      <td>0.000000</td>\n",
              "      <td>0.500000</td>\n",
              "    </tr>\n",
              "    <tr>\n",
              "      <th>its</th>\n",
              "      <td>0.000000</td>\n",
              "      <td>0.000000</td>\n",
              "      <td>1.000000</td>\n",
              "      <td>0.000000</td>\n",
              "      <td>0.750000</td>\n",
              "      <td>0.000000</td>\n",
              "    </tr>\n",
              "  </tbody>\n",
              "</table>\n",
              "</div>"
            ],
            "text/plain": [
              "            Eve      Anne      Aran      Nina     Naomi     Peter\n",
              "my     0.903226  0.952381  1.000000  0.921053  0.875000  1.000000\n",
              "I      0.974359  1.000000  1.000000  0.983957  1.000000  1.000000\n",
              "his    1.000000  0.914894  0.979167  0.945455  1.000000  1.000000\n",
              "they   1.000000  0.989583  0.990099  1.000000  1.000000  1.000000\n",
              "him    0.928571  0.920000  0.960000  0.980769  1.000000  1.000000\n",
              "me     1.000000  0.944444  0.953125  0.988636  0.869565  0.888889\n",
              "we     1.000000  0.988679  0.994885  0.993506  1.000000  1.000000\n",
              "she    1.000000  1.000000  1.000000  0.987013  0.954545  0.800000\n",
              "he     0.871795  0.960000  0.990244  0.984211  0.933333  0.909091\n",
              "your   0.968992  0.956897  0.936047  0.944751  0.985294  1.000000\n",
              "her    0.906250  0.873563  0.900000  0.894737  1.000000  1.000000\n",
              "them   0.935484  0.924242  0.937500  0.921053  0.916667  1.000000\n",
              "our    1.000000  1.000000  1.000000  1.000000  1.000000  0.000000\n",
              "their  1.000000  1.000000  1.000000  0.833333  0.000000  1.000000\n",
              "us     1.000000  1.000000  1.000000  1.000000  0.000000  0.500000\n",
              "its    0.000000  0.000000  1.000000  0.000000  0.750000  0.000000"
            ]
          },
          "metadata": {
            "tags": []
          },
          "execution_count": 151
        }
      ]
    },
    {
      "cell_type": "code",
      "metadata": {
        "id": "5uF1I5adKjVa",
        "colab_type": "code",
        "colab": {}
      },
      "source": [
        "rate_table.to_csv('rate_table.csv')\n",
        "!cp rate_table.csv \"/content/drive/My Drive/QP2/Input Model/\""
      ],
      "execution_count": 152,
      "outputs": []
    }
  ]
}